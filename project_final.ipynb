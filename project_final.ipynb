{
 "cells": [
  {
   "cell_type": "markdown",
   "metadata": {},
   "source": [
    "**Комментарий ревьюера**\n",
    "\n",
    "Привет, Артём! Меня зовут Аня Титова, буду проверять твой проект по предобработке. Давай общаться на «ты». Если это неудобно, дай знать, перейдем на «вы».\n",
    "\n",
    "У тебя уже проделана большая работа над проектом, но давай сделаем его еще лучше. Дальше ты найдешь мои комментарии — пожалуйста, не перемещай и не удаляй их. Буду использовать цветовую разметку:\n",
    "\n",
    "<div class=\"alert alert-danger\">\n",
    "<b>Комментарий ревьюера:</b> Так выделены самые важные замечания. Без их отработки проект не будет принят. </div>\n",
    "\n",
    "<div class=\"alert alert-warning\">\n",
    "<b>Комментарий ревьюера:</b> Так выделены небольшие замечания. Одно-два таких замечания в проекте допустимы, но если их будет больше — тебе будет необходимо внести исправления. </div>\n",
    "\n",
    "<div class=\"alert alert-success\">\n",
    "<b>Комментарий ревьюера:</b> Так я выделяю все остальные комментарии.</div>\n",
    "\n",
    "Давай работать над проектом в диалоге: если ты что-то меняешь в проекте или отвечаешь на мои комментарии — пиши об этом. Мне будет легче отследить изменения, если ты выделишь свои комментарии:\n",
    "<div class=\"alert alert-info\"> <b>Комментарий студента:</b> Например, вот так.</div>\n",
    "\n",
    "Всё это поможет выполнить повторную проверку твоего проекта оперативнее. \n",
    "\n",
    "---"
   ]
  },
  {
   "cell_type": "markdown",
   "metadata": {},
   "source": [
    "<div class=\"alert alert-success\">\n",
    "<b>Комментарий ревьюера v2:</b> Новые комментарии отмечу v2. Для удобства перекрашу или дополню те, что уже учтены.\n",
    "</div>\n",
    "\n",
    "---"
   ]
  },
  {
   "cell_type": "markdown",
   "metadata": {
    "toc": true
   },
   "source": [
    "<h1>Содержание<span class=\"tocSkip\"></span></h1>\n",
    "<div class=\"toc\"><ul class=\"toc-item\"><li><span><a href=\"#Шаг-1.-Откройте-файл-с-данными-и-изучите-общую-информацию\" data-toc-modified-id=\"Шаг-1.-Откройте-файл-с-данными-и-изучите-общую-информацию-1\">Шаг 1. Откройте файл с данными и изучите общую информацию</a></span></li><li><span><a href=\"#Шаг-2.-Предобработка-данных\" data-toc-modified-id=\"Шаг-2.-Предобработка-данных-2\">Шаг 2. Предобработка данных</a></span><ul class=\"toc-item\"><li><span><a href=\"#Обработка-аномалий\" data-toc-modified-id=\"Обработка-аномалий-2.1\">Обработка аномалий</a></span><ul class=\"toc-item\"><li><span><a href=\"#Cтолбец-children\" data-toc-modified-id=\"Cтолбец-children-2.1.1\">Cтолбец children</a></span></li><li><span><a href=\"#days_employed\" data-toc-modified-id=\"days_employed-2.1.2\">days_employed</a></span><ul class=\"toc-item\"><li><span><a href=\"#Обработка-положительных-значений.\" data-toc-modified-id=\"Обработка-положительных-значений.-2.1.2.1\">Обработка положительных значений.</a></span></li><li><span><a href=\"#Обработка-отрицательных-значений\" data-toc-modified-id=\"Обработка-отрицательных-значений-2.1.2.2\">Обработка отрицательных значений</a></span></li></ul></li><li><span><a href=\"#dob_years-—-возраст-клиента-в-годах\" data-toc-modified-id=\"dob_years-—-возраст-клиента-в-годах-2.1.3\">dob_years — возраст клиента в годах</a></span></li><li><span><a href=\"#education-—-уровень-образования-клиента\" data-toc-modified-id=\"education-—-уровень-образования-клиента-2.1.4\">education — уровень образования клиента</a></span></li><li><span><a href=\"#gender-—-пол-клиента\" data-toc-modified-id=\"gender-—-пол-клиента-2.1.5\">gender — пол клиента</a></span></li></ul></li><li><span><a href=\"#Обработка-пропусков\" data-toc-modified-id=\"Обработка-пропусков-2.2\">Обработка пропусков</a></span></li><li><span><a href=\"#Замена-типа-данных\" data-toc-modified-id=\"Замена-типа-данных-2.3\">Замена типа данных</a></span></li><li><span><a href=\"#Обработка-дубликатов\" data-toc-modified-id=\"Обработка-дубликатов-2.4\">Обработка дубликатов</a></span></li><li><span><a href=\"#Лемматизация\" data-toc-modified-id=\"Лемматизация-2.5\">Лемматизация</a></span></li><li><span><a href=\"#Категоризация-данных\" data-toc-modified-id=\"Категоризация-данных-2.6\">Категоризация данных</a></span></li></ul></li><li><span><a href=\"#Шаг-3.-Ответьте-на-вопросы\" data-toc-modified-id=\"Шаг-3.-Ответьте-на-вопросы-3\">Шаг 3. Ответьте на вопросы</a></span></li><li><span><a href=\"#Шаг-4.-Общий-вывод\" data-toc-modified-id=\"Шаг-4.-Общий-вывод-4\">Шаг 4. Общий вывод</a></span></li><li><span><a href=\"#Чек-лист-готовности-проекта\" data-toc-modified-id=\"Чек-лист-готовности-проекта-5\">Чек-лист готовности проекта</a></span></li></ul></div>"
   ]
  },
  {
   "cell_type": "markdown",
   "metadata": {},
   "source": [
    "# Исследование надёжности заёмщиков\n",
    "\n",
    "Заказчик — кредитный отдел банка. Нужно разобраться, влияет ли семейное положение и количество детей клиента на факт погашения кредита в срок. Входные данные от банка — статистика о платёжеспособности клиентов.\n",
    "\n",
    "Результаты исследования будут учтены при построении модели **кредитного скоринга** — специальной системы, которая оценивает способность потенциального заёмщика вернуть кредит банку."
   ]
  },
  {
   "cell_type": "markdown",
   "metadata": {},
   "source": [
    "## Шаг 1. Откройте файл с данными и изучите общую информацию"
   ]
  },
  {
   "cell_type": "markdown",
   "metadata": {},
   "source": [
    "**Описание данных**\n",
    "\n",
    "* __*children*__ — количество детей в семье \n",
    "* __*days_employed*__ — общий трудовой стаж в днях\n",
    "* __*dob_years*__ — возраст клиента в годах\n",
    "* __*education*__ — уровень образования клиента\n",
    "* __*education_id*__ — идентификатор уровня образования\n",
    "* __*family_status*__  — семейное положение\n",
    "* __*family_status_id*__ — идентификатор семейного положения\n",
    "* __*gender*__ — пол клиента\n",
    "* __*income_type*__ — тип занятости\n",
    "* __*debt*__ — имел ли задолженность по возврату кредитов\n",
    "* __*total_income*__ — ежемесячный доход\n",
    "* __*purpose*__ — цель получения кредита"
   ]
  },
  {
   "cell_type": "code",
   "execution_count": 2,
   "metadata": {
    "scrolled": false
   },
   "outputs": [
    {
     "data": {
      "text/html": [
       "<div>\n",
       "<style scoped>\n",
       "    .dataframe tbody tr th:only-of-type {\n",
       "        vertical-align: middle;\n",
       "    }\n",
       "\n",
       "    .dataframe tbody tr th {\n",
       "        vertical-align: top;\n",
       "    }\n",
       "\n",
       "    .dataframe thead th {\n",
       "        text-align: right;\n",
       "    }\n",
       "</style>\n",
       "<table border=\"1\" class=\"dataframe\">\n",
       "  <thead>\n",
       "    <tr style=\"text-align: right;\">\n",
       "      <th></th>\n",
       "      <th>children</th>\n",
       "      <th>days_employed</th>\n",
       "      <th>dob_years</th>\n",
       "      <th>education</th>\n",
       "      <th>education_id</th>\n",
       "      <th>family_status</th>\n",
       "      <th>family_status_id</th>\n",
       "      <th>gender</th>\n",
       "      <th>income_type</th>\n",
       "      <th>debt</th>\n",
       "      <th>total_income</th>\n",
       "      <th>purpose</th>\n",
       "    </tr>\n",
       "  </thead>\n",
       "  <tbody>\n",
       "    <tr>\n",
       "      <td>0</td>\n",
       "      <td>1</td>\n",
       "      <td>-8437.673028</td>\n",
       "      <td>42</td>\n",
       "      <td>высшее</td>\n",
       "      <td>0</td>\n",
       "      <td>женат / замужем</td>\n",
       "      <td>0</td>\n",
       "      <td>F</td>\n",
       "      <td>сотрудник</td>\n",
       "      <td>0</td>\n",
       "      <td>253875.639453</td>\n",
       "      <td>покупка жилья</td>\n",
       "    </tr>\n",
       "    <tr>\n",
       "      <td>1</td>\n",
       "      <td>1</td>\n",
       "      <td>-4024.803754</td>\n",
       "      <td>36</td>\n",
       "      <td>среднее</td>\n",
       "      <td>1</td>\n",
       "      <td>женат / замужем</td>\n",
       "      <td>0</td>\n",
       "      <td>F</td>\n",
       "      <td>сотрудник</td>\n",
       "      <td>0</td>\n",
       "      <td>112080.014102</td>\n",
       "      <td>приобретение автомобиля</td>\n",
       "    </tr>\n",
       "    <tr>\n",
       "      <td>2</td>\n",
       "      <td>0</td>\n",
       "      <td>-5623.422610</td>\n",
       "      <td>33</td>\n",
       "      <td>Среднее</td>\n",
       "      <td>1</td>\n",
       "      <td>женат / замужем</td>\n",
       "      <td>0</td>\n",
       "      <td>M</td>\n",
       "      <td>сотрудник</td>\n",
       "      <td>0</td>\n",
       "      <td>145885.952297</td>\n",
       "      <td>покупка жилья</td>\n",
       "    </tr>\n",
       "    <tr>\n",
       "      <td>3</td>\n",
       "      <td>3</td>\n",
       "      <td>-4124.747207</td>\n",
       "      <td>32</td>\n",
       "      <td>среднее</td>\n",
       "      <td>1</td>\n",
       "      <td>женат / замужем</td>\n",
       "      <td>0</td>\n",
       "      <td>M</td>\n",
       "      <td>сотрудник</td>\n",
       "      <td>0</td>\n",
       "      <td>267628.550329</td>\n",
       "      <td>дополнительное образование</td>\n",
       "    </tr>\n",
       "    <tr>\n",
       "      <td>4</td>\n",
       "      <td>0</td>\n",
       "      <td>340266.072047</td>\n",
       "      <td>53</td>\n",
       "      <td>среднее</td>\n",
       "      <td>1</td>\n",
       "      <td>гражданский брак</td>\n",
       "      <td>1</td>\n",
       "      <td>F</td>\n",
       "      <td>пенсионер</td>\n",
       "      <td>0</td>\n",
       "      <td>158616.077870</td>\n",
       "      <td>сыграть свадьбу</td>\n",
       "    </tr>\n",
       "    <tr>\n",
       "      <td>5</td>\n",
       "      <td>0</td>\n",
       "      <td>-926.185831</td>\n",
       "      <td>27</td>\n",
       "      <td>высшее</td>\n",
       "      <td>0</td>\n",
       "      <td>гражданский брак</td>\n",
       "      <td>1</td>\n",
       "      <td>M</td>\n",
       "      <td>компаньон</td>\n",
       "      <td>0</td>\n",
       "      <td>255763.565419</td>\n",
       "      <td>покупка жилья</td>\n",
       "    </tr>\n",
       "    <tr>\n",
       "      <td>6</td>\n",
       "      <td>0</td>\n",
       "      <td>-2879.202052</td>\n",
       "      <td>43</td>\n",
       "      <td>высшее</td>\n",
       "      <td>0</td>\n",
       "      <td>женат / замужем</td>\n",
       "      <td>0</td>\n",
       "      <td>F</td>\n",
       "      <td>компаньон</td>\n",
       "      <td>0</td>\n",
       "      <td>240525.971920</td>\n",
       "      <td>операции с жильем</td>\n",
       "    </tr>\n",
       "    <tr>\n",
       "      <td>7</td>\n",
       "      <td>0</td>\n",
       "      <td>-152.779569</td>\n",
       "      <td>50</td>\n",
       "      <td>СРЕДНЕЕ</td>\n",
       "      <td>1</td>\n",
       "      <td>женат / замужем</td>\n",
       "      <td>0</td>\n",
       "      <td>M</td>\n",
       "      <td>сотрудник</td>\n",
       "      <td>0</td>\n",
       "      <td>135823.934197</td>\n",
       "      <td>образование</td>\n",
       "    </tr>\n",
       "    <tr>\n",
       "      <td>8</td>\n",
       "      <td>2</td>\n",
       "      <td>-6929.865299</td>\n",
       "      <td>35</td>\n",
       "      <td>ВЫСШЕЕ</td>\n",
       "      <td>0</td>\n",
       "      <td>гражданский брак</td>\n",
       "      <td>1</td>\n",
       "      <td>F</td>\n",
       "      <td>сотрудник</td>\n",
       "      <td>0</td>\n",
       "      <td>95856.832424</td>\n",
       "      <td>на проведение свадьбы</td>\n",
       "    </tr>\n",
       "    <tr>\n",
       "      <td>9</td>\n",
       "      <td>0</td>\n",
       "      <td>-2188.756445</td>\n",
       "      <td>41</td>\n",
       "      <td>среднее</td>\n",
       "      <td>1</td>\n",
       "      <td>женат / замужем</td>\n",
       "      <td>0</td>\n",
       "      <td>M</td>\n",
       "      <td>сотрудник</td>\n",
       "      <td>0</td>\n",
       "      <td>144425.938277</td>\n",
       "      <td>покупка жилья для семьи</td>\n",
       "    </tr>\n",
       "  </tbody>\n",
       "</table>\n",
       "</div>"
      ],
      "text/plain": [
       "   children  days_employed  dob_years education  education_id  \\\n",
       "0         1   -8437.673028         42    высшее             0   \n",
       "1         1   -4024.803754         36   среднее             1   \n",
       "2         0   -5623.422610         33   Среднее             1   \n",
       "3         3   -4124.747207         32   среднее             1   \n",
       "4         0  340266.072047         53   среднее             1   \n",
       "5         0    -926.185831         27    высшее             0   \n",
       "6         0   -2879.202052         43    высшее             0   \n",
       "7         0    -152.779569         50   СРЕДНЕЕ             1   \n",
       "8         2   -6929.865299         35    ВЫСШЕЕ             0   \n",
       "9         0   -2188.756445         41   среднее             1   \n",
       "\n",
       "      family_status  family_status_id gender income_type  debt   total_income  \\\n",
       "0   женат / замужем                 0      F   сотрудник     0  253875.639453   \n",
       "1   женат / замужем                 0      F   сотрудник     0  112080.014102   \n",
       "2   женат / замужем                 0      M   сотрудник     0  145885.952297   \n",
       "3   женат / замужем                 0      M   сотрудник     0  267628.550329   \n",
       "4  гражданский брак                 1      F   пенсионер     0  158616.077870   \n",
       "5  гражданский брак                 1      M   компаньон     0  255763.565419   \n",
       "6   женат / замужем                 0      F   компаньон     0  240525.971920   \n",
       "7   женат / замужем                 0      M   сотрудник     0  135823.934197   \n",
       "8  гражданский брак                 1      F   сотрудник     0   95856.832424   \n",
       "9   женат / замужем                 0      M   сотрудник     0  144425.938277   \n",
       "\n",
       "                      purpose  \n",
       "0               покупка жилья  \n",
       "1     приобретение автомобиля  \n",
       "2               покупка жилья  \n",
       "3  дополнительное образование  \n",
       "4             сыграть свадьбу  \n",
       "5               покупка жилья  \n",
       "6           операции с жильем  \n",
       "7                 образование  \n",
       "8       на проведение свадьбы  \n",
       "9     покупка жилья для семьи  "
      ]
     },
     "execution_count": 2,
     "metadata": {},
     "output_type": "execute_result"
    }
   ],
   "source": [
    "import pandas as pd\n",
    "try:\n",
    "    df = pd.read_csv('/datasets/data.csv')\n",
    "except:\n",
    "    from pathlib2 import Path\n",
    "    link = Path.cwd()/'data.csv'\n",
    "    df = pd.read_csv(link)\n",
    "    \n",
    "df.head(10)"
   ]
  },
  {
   "cell_type": "markdown",
   "metadata": {},
   "source": [
    "<div class=\"alert alert-success\">\n",
    "<b>Комментарий ревьюера:</b> Отличное применение try-except, чтобы проект работал и локально, и на Jupyter Hubю\n",
    "</div>\n"
   ]
  },
  {
   "cell_type": "code",
   "execution_count": 2,
   "metadata": {},
   "outputs": [
    {
     "data": {
      "text/html": [
       "<div>\n",
       "<style scoped>\n",
       "    .dataframe tbody tr th:only-of-type {\n",
       "        vertical-align: middle;\n",
       "    }\n",
       "\n",
       "    .dataframe tbody tr th {\n",
       "        vertical-align: top;\n",
       "    }\n",
       "\n",
       "    .dataframe thead th {\n",
       "        text-align: right;\n",
       "    }\n",
       "</style>\n",
       "<table border=\"1\" class=\"dataframe\">\n",
       "  <thead>\n",
       "    <tr style=\"text-align: right;\">\n",
       "      <th></th>\n",
       "      <th>children</th>\n",
       "      <th>days_employed</th>\n",
       "      <th>dob_years</th>\n",
       "      <th>education_id</th>\n",
       "      <th>family_status_id</th>\n",
       "      <th>debt</th>\n",
       "      <th>total_income</th>\n",
       "    </tr>\n",
       "  </thead>\n",
       "  <tbody>\n",
       "    <tr>\n",
       "      <td>count</td>\n",
       "      <td>21525.000000</td>\n",
       "      <td>19351.000000</td>\n",
       "      <td>21525.000000</td>\n",
       "      <td>21525.000000</td>\n",
       "      <td>21525.000000</td>\n",
       "      <td>21525.000000</td>\n",
       "      <td>1.935100e+04</td>\n",
       "    </tr>\n",
       "    <tr>\n",
       "      <td>mean</td>\n",
       "      <td>0.538908</td>\n",
       "      <td>63046.497661</td>\n",
       "      <td>43.293380</td>\n",
       "      <td>0.817236</td>\n",
       "      <td>0.972544</td>\n",
       "      <td>0.080883</td>\n",
       "      <td>1.674223e+05</td>\n",
       "    </tr>\n",
       "    <tr>\n",
       "      <td>std</td>\n",
       "      <td>1.381587</td>\n",
       "      <td>140827.311974</td>\n",
       "      <td>12.574584</td>\n",
       "      <td>0.548138</td>\n",
       "      <td>1.420324</td>\n",
       "      <td>0.272661</td>\n",
       "      <td>1.029716e+05</td>\n",
       "    </tr>\n",
       "    <tr>\n",
       "      <td>min</td>\n",
       "      <td>-1.000000</td>\n",
       "      <td>-18388.949901</td>\n",
       "      <td>0.000000</td>\n",
       "      <td>0.000000</td>\n",
       "      <td>0.000000</td>\n",
       "      <td>0.000000</td>\n",
       "      <td>2.066726e+04</td>\n",
       "    </tr>\n",
       "    <tr>\n",
       "      <td>25%</td>\n",
       "      <td>0.000000</td>\n",
       "      <td>-2747.423625</td>\n",
       "      <td>33.000000</td>\n",
       "      <td>1.000000</td>\n",
       "      <td>0.000000</td>\n",
       "      <td>0.000000</td>\n",
       "      <td>1.030532e+05</td>\n",
       "    </tr>\n",
       "    <tr>\n",
       "      <td>50%</td>\n",
       "      <td>0.000000</td>\n",
       "      <td>-1203.369529</td>\n",
       "      <td>42.000000</td>\n",
       "      <td>1.000000</td>\n",
       "      <td>0.000000</td>\n",
       "      <td>0.000000</td>\n",
       "      <td>1.450179e+05</td>\n",
       "    </tr>\n",
       "    <tr>\n",
       "      <td>75%</td>\n",
       "      <td>1.000000</td>\n",
       "      <td>-291.095954</td>\n",
       "      <td>53.000000</td>\n",
       "      <td>1.000000</td>\n",
       "      <td>1.000000</td>\n",
       "      <td>0.000000</td>\n",
       "      <td>2.034351e+05</td>\n",
       "    </tr>\n",
       "    <tr>\n",
       "      <td>max</td>\n",
       "      <td>20.000000</td>\n",
       "      <td>401755.400475</td>\n",
       "      <td>75.000000</td>\n",
       "      <td>4.000000</td>\n",
       "      <td>4.000000</td>\n",
       "      <td>1.000000</td>\n",
       "      <td>2.265604e+06</td>\n",
       "    </tr>\n",
       "  </tbody>\n",
       "</table>\n",
       "</div>"
      ],
      "text/plain": [
       "           children  days_employed     dob_years  education_id  \\\n",
       "count  21525.000000   19351.000000  21525.000000  21525.000000   \n",
       "mean       0.538908   63046.497661     43.293380      0.817236   \n",
       "std        1.381587  140827.311974     12.574584      0.548138   \n",
       "min       -1.000000  -18388.949901      0.000000      0.000000   \n",
       "25%        0.000000   -2747.423625     33.000000      1.000000   \n",
       "50%        0.000000   -1203.369529     42.000000      1.000000   \n",
       "75%        1.000000    -291.095954     53.000000      1.000000   \n",
       "max       20.000000  401755.400475     75.000000      4.000000   \n",
       "\n",
       "       family_status_id          debt  total_income  \n",
       "count      21525.000000  21525.000000  1.935100e+04  \n",
       "mean           0.972544      0.080883  1.674223e+05  \n",
       "std            1.420324      0.272661  1.029716e+05  \n",
       "min            0.000000      0.000000  2.066726e+04  \n",
       "25%            0.000000      0.000000  1.030532e+05  \n",
       "50%            0.000000      0.000000  1.450179e+05  \n",
       "75%            1.000000      0.000000  2.034351e+05  \n",
       "max            4.000000      1.000000  2.265604e+06  "
      ]
     },
     "execution_count": 2,
     "metadata": {},
     "output_type": "execute_result"
    }
   ],
   "source": [
    "df.describe()"
   ]
  },
  {
   "cell_type": "code",
   "execution_count": 3,
   "metadata": {},
   "outputs": [
    {
     "name": "stdout",
     "output_type": "stream",
     "text": [
      "<class 'pandas.core.frame.DataFrame'>\n",
      "RangeIndex: 21525 entries, 0 to 21524\n",
      "Data columns (total 12 columns):\n",
      "children            21525 non-null int64\n",
      "days_employed       19351 non-null float64\n",
      "dob_years           21525 non-null int64\n",
      "education           21525 non-null object\n",
      "education_id        21525 non-null int64\n",
      "family_status       21525 non-null object\n",
      "family_status_id    21525 non-null int64\n",
      "gender              21525 non-null object\n",
      "income_type         21525 non-null object\n",
      "debt                21525 non-null int64\n",
      "total_income        19351 non-null float64\n",
      "purpose             21525 non-null object\n",
      "dtypes: float64(2), int64(5), object(5)\n",
      "memory usage: 2.0+ MB\n"
     ]
    }
   ],
   "source": [
    "df.info()"
   ]
  },
  {
   "cell_type": "code",
   "execution_count": 4,
   "metadata": {
    "scrolled": false
   },
   "outputs": [
    {
     "data": {
      "text/html": [
       "<div>\n",
       "<style scoped>\n",
       "    .dataframe tbody tr th:only-of-type {\n",
       "        vertical-align: middle;\n",
       "    }\n",
       "\n",
       "    .dataframe tbody tr th {\n",
       "        vertical-align: top;\n",
       "    }\n",
       "\n",
       "    .dataframe thead th {\n",
       "        text-align: right;\n",
       "    }\n",
       "</style>\n",
       "<table border=\"1\" class=\"dataframe\">\n",
       "  <thead>\n",
       "    <tr style=\"text-align: right;\">\n",
       "      <th></th>\n",
       "      <th>children</th>\n",
       "    </tr>\n",
       "  </thead>\n",
       "  <tbody>\n",
       "    <tr>\n",
       "      <td>-1</td>\n",
       "      <td>46</td>\n",
       "    </tr>\n",
       "    <tr>\n",
       "      <td>0</td>\n",
       "      <td>14148</td>\n",
       "    </tr>\n",
       "    <tr>\n",
       "      <td>1</td>\n",
       "      <td>4817</td>\n",
       "    </tr>\n",
       "    <tr>\n",
       "      <td>2</td>\n",
       "      <td>2054</td>\n",
       "    </tr>\n",
       "    <tr>\n",
       "      <td>3</td>\n",
       "      <td>329</td>\n",
       "    </tr>\n",
       "    <tr>\n",
       "      <td>4</td>\n",
       "      <td>40</td>\n",
       "    </tr>\n",
       "    <tr>\n",
       "      <td>5</td>\n",
       "      <td>8</td>\n",
       "    </tr>\n",
       "    <tr>\n",
       "      <td>20</td>\n",
       "      <td>75</td>\n",
       "    </tr>\n",
       "  </tbody>\n",
       "</table>\n",
       "</div>"
      ],
      "text/plain": [
       "     children\n",
       "-1         46\n",
       " 0      14148\n",
       " 1       4817\n",
       " 2       2054\n",
       " 3        329\n",
       " 4         40\n",
       " 5          8\n",
       " 20        75"
      ]
     },
     "metadata": {},
     "output_type": "display_data"
    },
    {
     "data": {
      "text/html": [
       "<div>\n",
       "<style scoped>\n",
       "    .dataframe tbody tr th:only-of-type {\n",
       "        vertical-align: middle;\n",
       "    }\n",
       "\n",
       "    .dataframe tbody tr th {\n",
       "        vertical-align: top;\n",
       "    }\n",
       "\n",
       "    .dataframe thead th {\n",
       "        text-align: right;\n",
       "    }\n",
       "</style>\n",
       "<table border=\"1\" class=\"dataframe\">\n",
       "  <thead>\n",
       "    <tr style=\"text-align: right;\">\n",
       "      <th></th>\n",
       "      <th>days_employed</th>\n",
       "    </tr>\n",
       "  </thead>\n",
       "  <tbody>\n",
       "    <tr>\n",
       "      <td>NaN</td>\n",
       "      <td>2173</td>\n",
       "    </tr>\n",
       "  </tbody>\n",
       "</table>\n",
       "</div>"
      ],
      "text/plain": [
       "     days_employed\n",
       "NaN           2173"
      ]
     },
     "metadata": {},
     "output_type": "display_data"
    },
    {
     "data": {
      "text/html": [
       "<div>\n",
       "<style scoped>\n",
       "    .dataframe tbody tr th:only-of-type {\n",
       "        vertical-align: middle;\n",
       "    }\n",
       "\n",
       "    .dataframe tbody tr th {\n",
       "        vertical-align: top;\n",
       "    }\n",
       "\n",
       "    .dataframe thead th {\n",
       "        text-align: right;\n",
       "    }\n",
       "</style>\n",
       "<table border=\"1\" class=\"dataframe\">\n",
       "  <thead>\n",
       "    <tr style=\"text-align: right;\">\n",
       "      <th></th>\n",
       "      <th>dob_years</th>\n",
       "    </tr>\n",
       "  </thead>\n",
       "  <tbody>\n",
       "    <tr>\n",
       "      <td>0</td>\n",
       "      <td>100</td>\n",
       "    </tr>\n",
       "    <tr>\n",
       "      <td>19</td>\n",
       "      <td>13</td>\n",
       "    </tr>\n",
       "    <tr>\n",
       "      <td>20</td>\n",
       "      <td>50</td>\n",
       "    </tr>\n",
       "    <tr>\n",
       "      <td>21</td>\n",
       "      <td>110</td>\n",
       "    </tr>\n",
       "    <tr>\n",
       "      <td>22</td>\n",
       "      <td>182</td>\n",
       "    </tr>\n",
       "    <tr>\n",
       "      <td>23</td>\n",
       "      <td>253</td>\n",
       "    </tr>\n",
       "    <tr>\n",
       "      <td>24</td>\n",
       "      <td>263</td>\n",
       "    </tr>\n",
       "    <tr>\n",
       "      <td>25</td>\n",
       "      <td>356</td>\n",
       "    </tr>\n",
       "    <tr>\n",
       "      <td>26</td>\n",
       "      <td>407</td>\n",
       "    </tr>\n",
       "    <tr>\n",
       "      <td>27</td>\n",
       "      <td>492</td>\n",
       "    </tr>\n",
       "    <tr>\n",
       "      <td>28</td>\n",
       "      <td>502</td>\n",
       "    </tr>\n",
       "    <tr>\n",
       "      <td>29</td>\n",
       "      <td>544</td>\n",
       "    </tr>\n",
       "    <tr>\n",
       "      <td>30</td>\n",
       "      <td>539</td>\n",
       "    </tr>\n",
       "    <tr>\n",
       "      <td>31</td>\n",
       "      <td>559</td>\n",
       "    </tr>\n",
       "    <tr>\n",
       "      <td>32</td>\n",
       "      <td>509</td>\n",
       "    </tr>\n",
       "    <tr>\n",
       "      <td>33</td>\n",
       "      <td>580</td>\n",
       "    </tr>\n",
       "    <tr>\n",
       "      <td>34</td>\n",
       "      <td>602</td>\n",
       "    </tr>\n",
       "    <tr>\n",
       "      <td>35</td>\n",
       "      <td>616</td>\n",
       "    </tr>\n",
       "    <tr>\n",
       "      <td>36</td>\n",
       "      <td>554</td>\n",
       "    </tr>\n",
       "    <tr>\n",
       "      <td>37</td>\n",
       "      <td>536</td>\n",
       "    </tr>\n",
       "    <tr>\n",
       "      <td>38</td>\n",
       "      <td>597</td>\n",
       "    </tr>\n",
       "    <tr>\n",
       "      <td>39</td>\n",
       "      <td>572</td>\n",
       "    </tr>\n",
       "    <tr>\n",
       "      <td>40</td>\n",
       "      <td>608</td>\n",
       "    </tr>\n",
       "    <tr>\n",
       "      <td>41</td>\n",
       "      <td>606</td>\n",
       "    </tr>\n",
       "    <tr>\n",
       "      <td>42</td>\n",
       "      <td>596</td>\n",
       "    </tr>\n",
       "    <tr>\n",
       "      <td>43</td>\n",
       "      <td>512</td>\n",
       "    </tr>\n",
       "    <tr>\n",
       "      <td>44</td>\n",
       "      <td>546</td>\n",
       "    </tr>\n",
       "    <tr>\n",
       "      <td>45</td>\n",
       "      <td>496</td>\n",
       "    </tr>\n",
       "    <tr>\n",
       "      <td>46</td>\n",
       "      <td>474</td>\n",
       "    </tr>\n",
       "    <tr>\n",
       "      <td>47</td>\n",
       "      <td>479</td>\n",
       "    </tr>\n",
       "    <tr>\n",
       "      <td>48</td>\n",
       "      <td>537</td>\n",
       "    </tr>\n",
       "    <tr>\n",
       "      <td>49</td>\n",
       "      <td>507</td>\n",
       "    </tr>\n",
       "    <tr>\n",
       "      <td>50</td>\n",
       "      <td>513</td>\n",
       "    </tr>\n",
       "    <tr>\n",
       "      <td>51</td>\n",
       "      <td>447</td>\n",
       "    </tr>\n",
       "    <tr>\n",
       "      <td>52</td>\n",
       "      <td>483</td>\n",
       "    </tr>\n",
       "    <tr>\n",
       "      <td>53</td>\n",
       "      <td>458</td>\n",
       "    </tr>\n",
       "    <tr>\n",
       "      <td>54</td>\n",
       "      <td>478</td>\n",
       "    </tr>\n",
       "    <tr>\n",
       "      <td>55</td>\n",
       "      <td>442</td>\n",
       "    </tr>\n",
       "    <tr>\n",
       "      <td>56</td>\n",
       "      <td>486</td>\n",
       "    </tr>\n",
       "    <tr>\n",
       "      <td>57</td>\n",
       "      <td>459</td>\n",
       "    </tr>\n",
       "    <tr>\n",
       "      <td>58</td>\n",
       "      <td>460</td>\n",
       "    </tr>\n",
       "    <tr>\n",
       "      <td>59</td>\n",
       "      <td>443</td>\n",
       "    </tr>\n",
       "    <tr>\n",
       "      <td>60</td>\n",
       "      <td>376</td>\n",
       "    </tr>\n",
       "    <tr>\n",
       "      <td>61</td>\n",
       "      <td>354</td>\n",
       "    </tr>\n",
       "    <tr>\n",
       "      <td>62</td>\n",
       "      <td>351</td>\n",
       "    </tr>\n",
       "    <tr>\n",
       "      <td>63</td>\n",
       "      <td>268</td>\n",
       "    </tr>\n",
       "    <tr>\n",
       "      <td>64</td>\n",
       "      <td>264</td>\n",
       "    </tr>\n",
       "    <tr>\n",
       "      <td>65</td>\n",
       "      <td>193</td>\n",
       "    </tr>\n",
       "    <tr>\n",
       "      <td>66</td>\n",
       "      <td>182</td>\n",
       "    </tr>\n",
       "    <tr>\n",
       "      <td>67</td>\n",
       "      <td>166</td>\n",
       "    </tr>\n",
       "    <tr>\n",
       "      <td>68</td>\n",
       "      <td>98</td>\n",
       "    </tr>\n",
       "    <tr>\n",
       "      <td>69</td>\n",
       "      <td>84</td>\n",
       "    </tr>\n",
       "    <tr>\n",
       "      <td>70</td>\n",
       "      <td>64</td>\n",
       "    </tr>\n",
       "    <tr>\n",
       "      <td>71</td>\n",
       "      <td>57</td>\n",
       "    </tr>\n",
       "    <tr>\n",
       "      <td>72</td>\n",
       "      <td>32</td>\n",
       "    </tr>\n",
       "    <tr>\n",
       "      <td>73</td>\n",
       "      <td>7</td>\n",
       "    </tr>\n",
       "    <tr>\n",
       "      <td>74</td>\n",
       "      <td>5</td>\n",
       "    </tr>\n",
       "  </tbody>\n",
       "</table>\n",
       "</div>"
      ],
      "text/plain": [
       "    dob_years\n",
       "0         100\n",
       "19         13\n",
       "20         50\n",
       "21        110\n",
       "22        182\n",
       "23        253\n",
       "24        263\n",
       "25        356\n",
       "26        407\n",
       "27        492\n",
       "28        502\n",
       "29        544\n",
       "30        539\n",
       "31        559\n",
       "32        509\n",
       "33        580\n",
       "34        602\n",
       "35        616\n",
       "36        554\n",
       "37        536\n",
       "38        597\n",
       "39        572\n",
       "40        608\n",
       "41        606\n",
       "42        596\n",
       "43        512\n",
       "44        546\n",
       "45        496\n",
       "46        474\n",
       "47        479\n",
       "48        537\n",
       "49        507\n",
       "50        513\n",
       "51        447\n",
       "52        483\n",
       "53        458\n",
       "54        478\n",
       "55        442\n",
       "56        486\n",
       "57        459\n",
       "58        460\n",
       "59        443\n",
       "60        376\n",
       "61        354\n",
       "62        351\n",
       "63        268\n",
       "64        264\n",
       "65        193\n",
       "66        182\n",
       "67        166\n",
       "68         98\n",
       "69         84\n",
       "70         64\n",
       "71         57\n",
       "72         32\n",
       "73          7\n",
       "74          5"
      ]
     },
     "metadata": {},
     "output_type": "display_data"
    },
    {
     "data": {
      "text/html": [
       "<div>\n",
       "<style scoped>\n",
       "    .dataframe tbody tr th:only-of-type {\n",
       "        vertical-align: middle;\n",
       "    }\n",
       "\n",
       "    .dataframe tbody tr th {\n",
       "        vertical-align: top;\n",
       "    }\n",
       "\n",
       "    .dataframe thead th {\n",
       "        text-align: right;\n",
       "    }\n",
       "</style>\n",
       "<table border=\"1\" class=\"dataframe\">\n",
       "  <thead>\n",
       "    <tr style=\"text-align: right;\">\n",
       "      <th></th>\n",
       "      <th>education</th>\n",
       "    </tr>\n",
       "  </thead>\n",
       "  <tbody>\n",
       "    <tr>\n",
       "      <td>ВЫСШЕЕ</td>\n",
       "      <td>273</td>\n",
       "    </tr>\n",
       "    <tr>\n",
       "      <td>Высшее</td>\n",
       "      <td>267</td>\n",
       "    </tr>\n",
       "    <tr>\n",
       "      <td>НАЧАЛЬНОЕ</td>\n",
       "      <td>16</td>\n",
       "    </tr>\n",
       "    <tr>\n",
       "      <td>НЕОКОНЧЕННОЕ ВЫСШЕЕ</td>\n",
       "      <td>28</td>\n",
       "    </tr>\n",
       "    <tr>\n",
       "      <td>Начальное</td>\n",
       "      <td>14</td>\n",
       "    </tr>\n",
       "    <tr>\n",
       "      <td>Неоконченное высшее</td>\n",
       "      <td>46</td>\n",
       "    </tr>\n",
       "    <tr>\n",
       "      <td>СРЕДНЕЕ</td>\n",
       "      <td>771</td>\n",
       "    </tr>\n",
       "    <tr>\n",
       "      <td>Среднее</td>\n",
       "      <td>710</td>\n",
       "    </tr>\n",
       "    <tr>\n",
       "      <td>высшее</td>\n",
       "      <td>4717</td>\n",
       "    </tr>\n",
       "    <tr>\n",
       "      <td>начальное</td>\n",
       "      <td>249</td>\n",
       "    </tr>\n",
       "    <tr>\n",
       "      <td>неоконченное высшее</td>\n",
       "      <td>667</td>\n",
       "    </tr>\n",
       "    <tr>\n",
       "      <td>среднее</td>\n",
       "      <td>13749</td>\n",
       "    </tr>\n",
       "    <tr>\n",
       "      <td>ученая степень</td>\n",
       "      <td>3</td>\n",
       "    </tr>\n",
       "  </tbody>\n",
       "</table>\n",
       "</div>"
      ],
      "text/plain": [
       "                     education\n",
       "ВЫСШЕЕ                     273\n",
       "Высшее                     267\n",
       "НАЧАЛЬНОЕ                   16\n",
       "НЕОКОНЧЕННОЕ ВЫСШЕЕ         28\n",
       "Начальное                   14\n",
       "Неоконченное высшее         46\n",
       "СРЕДНЕЕ                    771\n",
       "Среднее                    710\n",
       "высшее                    4717\n",
       "начальное                  249\n",
       "неоконченное высшее        667\n",
       "среднее                  13749\n",
       "ученая степень               3"
      ]
     },
     "metadata": {},
     "output_type": "display_data"
    },
    {
     "data": {
      "text/html": [
       "<div>\n",
       "<style scoped>\n",
       "    .dataframe tbody tr th:only-of-type {\n",
       "        vertical-align: middle;\n",
       "    }\n",
       "\n",
       "    .dataframe tbody tr th {\n",
       "        vertical-align: top;\n",
       "    }\n",
       "\n",
       "    .dataframe thead th {\n",
       "        text-align: right;\n",
       "    }\n",
       "</style>\n",
       "<table border=\"1\" class=\"dataframe\">\n",
       "  <thead>\n",
       "    <tr style=\"text-align: right;\">\n",
       "      <th></th>\n",
       "      <th>education_id</th>\n",
       "    </tr>\n",
       "  </thead>\n",
       "  <tbody>\n",
       "    <tr>\n",
       "      <td>0</td>\n",
       "      <td>5259</td>\n",
       "    </tr>\n",
       "    <tr>\n",
       "      <td>1</td>\n",
       "      <td>15232</td>\n",
       "    </tr>\n",
       "    <tr>\n",
       "      <td>2</td>\n",
       "      <td>743</td>\n",
       "    </tr>\n",
       "    <tr>\n",
       "      <td>3</td>\n",
       "      <td>281</td>\n",
       "    </tr>\n",
       "    <tr>\n",
       "      <td>4</td>\n",
       "      <td>5</td>\n",
       "    </tr>\n",
       "  </tbody>\n",
       "</table>\n",
       "</div>"
      ],
      "text/plain": [
       "   education_id\n",
       "0          5259\n",
       "1         15232\n",
       "2           743\n",
       "3           281\n",
       "4             5"
      ]
     },
     "metadata": {},
     "output_type": "display_data"
    },
    {
     "data": {
      "text/html": [
       "<div>\n",
       "<style scoped>\n",
       "    .dataframe tbody tr th:only-of-type {\n",
       "        vertical-align: middle;\n",
       "    }\n",
       "\n",
       "    .dataframe tbody tr th {\n",
       "        vertical-align: top;\n",
       "    }\n",
       "\n",
       "    .dataframe thead th {\n",
       "        text-align: right;\n",
       "    }\n",
       "</style>\n",
       "<table border=\"1\" class=\"dataframe\">\n",
       "  <thead>\n",
       "    <tr style=\"text-align: right;\">\n",
       "      <th></th>\n",
       "      <th>family_status</th>\n",
       "    </tr>\n",
       "  </thead>\n",
       "  <tbody>\n",
       "    <tr>\n",
       "      <td>Не женат / не замужем</td>\n",
       "      <td>2812</td>\n",
       "    </tr>\n",
       "    <tr>\n",
       "      <td>в разводе</td>\n",
       "      <td>1194</td>\n",
       "    </tr>\n",
       "    <tr>\n",
       "      <td>вдовец / вдова</td>\n",
       "      <td>959</td>\n",
       "    </tr>\n",
       "    <tr>\n",
       "      <td>гражданский брак</td>\n",
       "      <td>4176</td>\n",
       "    </tr>\n",
       "    <tr>\n",
       "      <td>женат / замужем</td>\n",
       "      <td>12379</td>\n",
       "    </tr>\n",
       "  </tbody>\n",
       "</table>\n",
       "</div>"
      ],
      "text/plain": [
       "                       family_status\n",
       "Не женат / не замужем           2812\n",
       "в разводе                       1194\n",
       "вдовец / вдова                   959\n",
       "гражданский брак                4176\n",
       "женат / замужем                12379"
      ]
     },
     "metadata": {},
     "output_type": "display_data"
    },
    {
     "data": {
      "text/html": [
       "<div>\n",
       "<style scoped>\n",
       "    .dataframe tbody tr th:only-of-type {\n",
       "        vertical-align: middle;\n",
       "    }\n",
       "\n",
       "    .dataframe tbody tr th {\n",
       "        vertical-align: top;\n",
       "    }\n",
       "\n",
       "    .dataframe thead th {\n",
       "        text-align: right;\n",
       "    }\n",
       "</style>\n",
       "<table border=\"1\" class=\"dataframe\">\n",
       "  <thead>\n",
       "    <tr style=\"text-align: right;\">\n",
       "      <th></th>\n",
       "      <th>family_status_id</th>\n",
       "    </tr>\n",
       "  </thead>\n",
       "  <tbody>\n",
       "    <tr>\n",
       "      <td>0</td>\n",
       "      <td>12379</td>\n",
       "    </tr>\n",
       "    <tr>\n",
       "      <td>1</td>\n",
       "      <td>4176</td>\n",
       "    </tr>\n",
       "    <tr>\n",
       "      <td>2</td>\n",
       "      <td>959</td>\n",
       "    </tr>\n",
       "    <tr>\n",
       "      <td>3</td>\n",
       "      <td>1194</td>\n",
       "    </tr>\n",
       "    <tr>\n",
       "      <td>4</td>\n",
       "      <td>2812</td>\n",
       "    </tr>\n",
       "  </tbody>\n",
       "</table>\n",
       "</div>"
      ],
      "text/plain": [
       "   family_status_id\n",
       "0             12379\n",
       "1              4176\n",
       "2               959\n",
       "3              1194\n",
       "4              2812"
      ]
     },
     "metadata": {},
     "output_type": "display_data"
    },
    {
     "data": {
      "text/html": [
       "<div>\n",
       "<style scoped>\n",
       "    .dataframe tbody tr th:only-of-type {\n",
       "        vertical-align: middle;\n",
       "    }\n",
       "\n",
       "    .dataframe tbody tr th {\n",
       "        vertical-align: top;\n",
       "    }\n",
       "\n",
       "    .dataframe thead th {\n",
       "        text-align: right;\n",
       "    }\n",
       "</style>\n",
       "<table border=\"1\" class=\"dataframe\">\n",
       "  <thead>\n",
       "    <tr style=\"text-align: right;\">\n",
       "      <th></th>\n",
       "      <th>gender</th>\n",
       "    </tr>\n",
       "  </thead>\n",
       "  <tbody>\n",
       "    <tr>\n",
       "      <td>F</td>\n",
       "      <td>14235</td>\n",
       "    </tr>\n",
       "    <tr>\n",
       "      <td>M</td>\n",
       "      <td>7287</td>\n",
       "    </tr>\n",
       "  </tbody>\n",
       "</table>\n",
       "</div>"
      ],
      "text/plain": [
       "   gender\n",
       "F   14235\n",
       "M    7287"
      ]
     },
     "metadata": {},
     "output_type": "display_data"
    },
    {
     "data": {
      "text/html": [
       "<div>\n",
       "<style scoped>\n",
       "    .dataframe tbody tr th:only-of-type {\n",
       "        vertical-align: middle;\n",
       "    }\n",
       "\n",
       "    .dataframe tbody tr th {\n",
       "        vertical-align: top;\n",
       "    }\n",
       "\n",
       "    .dataframe thead th {\n",
       "        text-align: right;\n",
       "    }\n",
       "</style>\n",
       "<table border=\"1\" class=\"dataframe\">\n",
       "  <thead>\n",
       "    <tr style=\"text-align: right;\">\n",
       "      <th></th>\n",
       "      <th>income_type</th>\n",
       "    </tr>\n",
       "  </thead>\n",
       "  <tbody>\n",
       "    <tr>\n",
       "      <td>безработный</td>\n",
       "      <td>1</td>\n",
       "    </tr>\n",
       "    <tr>\n",
       "      <td>госслужащий</td>\n",
       "      <td>1458</td>\n",
       "    </tr>\n",
       "    <tr>\n",
       "      <td>компаньон</td>\n",
       "      <td>5084</td>\n",
       "    </tr>\n",
       "    <tr>\n",
       "      <td>пенсионер</td>\n",
       "      <td>3855</td>\n",
       "    </tr>\n",
       "    <tr>\n",
       "      <td>предприниматель</td>\n",
       "      <td>1</td>\n",
       "    </tr>\n",
       "    <tr>\n",
       "      <td>сотрудник</td>\n",
       "      <td>11118</td>\n",
       "    </tr>\n",
       "  </tbody>\n",
       "</table>\n",
       "</div>"
      ],
      "text/plain": [
       "                 income_type\n",
       "безработный                1\n",
       "госслужащий             1458\n",
       "компаньон               5084\n",
       "пенсионер               3855\n",
       "предприниматель            1\n",
       "сотрудник              11118"
      ]
     },
     "metadata": {},
     "output_type": "display_data"
    },
    {
     "data": {
      "text/html": [
       "<div>\n",
       "<style scoped>\n",
       "    .dataframe tbody tr th:only-of-type {\n",
       "        vertical-align: middle;\n",
       "    }\n",
       "\n",
       "    .dataframe tbody tr th {\n",
       "        vertical-align: top;\n",
       "    }\n",
       "\n",
       "    .dataframe thead th {\n",
       "        text-align: right;\n",
       "    }\n",
       "</style>\n",
       "<table border=\"1\" class=\"dataframe\">\n",
       "  <thead>\n",
       "    <tr style=\"text-align: right;\">\n",
       "      <th></th>\n",
       "      <th>debt</th>\n",
       "    </tr>\n",
       "  </thead>\n",
       "  <tbody>\n",
       "    <tr>\n",
       "      <td>0</td>\n",
       "      <td>19783</td>\n",
       "    </tr>\n",
       "    <tr>\n",
       "      <td>1</td>\n",
       "      <td>1740</td>\n",
       "    </tr>\n",
       "  </tbody>\n",
       "</table>\n",
       "</div>"
      ],
      "text/plain": [
       "    debt\n",
       "0  19783\n",
       "1   1740"
      ]
     },
     "metadata": {},
     "output_type": "display_data"
    },
    {
     "data": {
      "text/html": [
       "<div>\n",
       "<style scoped>\n",
       "    .dataframe tbody tr th:only-of-type {\n",
       "        vertical-align: middle;\n",
       "    }\n",
       "\n",
       "    .dataframe tbody tr th {\n",
       "        vertical-align: top;\n",
       "    }\n",
       "\n",
       "    .dataframe thead th {\n",
       "        text-align: right;\n",
       "    }\n",
       "</style>\n",
       "<table border=\"1\" class=\"dataframe\">\n",
       "  <thead>\n",
       "    <tr style=\"text-align: right;\">\n",
       "      <th></th>\n",
       "      <th>total_income</th>\n",
       "    </tr>\n",
       "  </thead>\n",
       "  <tbody>\n",
       "    <tr>\n",
       "      <td>NaN</td>\n",
       "      <td>2173</td>\n",
       "    </tr>\n",
       "  </tbody>\n",
       "</table>\n",
       "</div>"
      ],
      "text/plain": [
       "     total_income\n",
       "NaN          2173"
      ]
     },
     "metadata": {},
     "output_type": "display_data"
    },
    {
     "data": {
      "text/html": [
       "<div>\n",
       "<style scoped>\n",
       "    .dataframe tbody tr th:only-of-type {\n",
       "        vertical-align: middle;\n",
       "    }\n",
       "\n",
       "    .dataframe tbody tr th {\n",
       "        vertical-align: top;\n",
       "    }\n",
       "\n",
       "    .dataframe thead th {\n",
       "        text-align: right;\n",
       "    }\n",
       "</style>\n",
       "<table border=\"1\" class=\"dataframe\">\n",
       "  <thead>\n",
       "    <tr style=\"text-align: right;\">\n",
       "      <th></th>\n",
       "      <th>purpose</th>\n",
       "    </tr>\n",
       "  </thead>\n",
       "  <tbody>\n",
       "    <tr>\n",
       "      <td>автомобили</td>\n",
       "      <td>477</td>\n",
       "    </tr>\n",
       "    <tr>\n",
       "      <td>автомобиль</td>\n",
       "      <td>494</td>\n",
       "    </tr>\n",
       "    <tr>\n",
       "      <td>высшее образование</td>\n",
       "      <td>452</td>\n",
       "    </tr>\n",
       "    <tr>\n",
       "      <td>дополнительное образование</td>\n",
       "      <td>461</td>\n",
       "    </tr>\n",
       "    <tr>\n",
       "      <td>жилье</td>\n",
       "      <td>646</td>\n",
       "    </tr>\n",
       "    <tr>\n",
       "      <td>заняться высшим образованием</td>\n",
       "      <td>495</td>\n",
       "    </tr>\n",
       "    <tr>\n",
       "      <td>заняться образованием</td>\n",
       "      <td>411</td>\n",
       "    </tr>\n",
       "    <tr>\n",
       "      <td>на покупку автомобиля</td>\n",
       "      <td>471</td>\n",
       "    </tr>\n",
       "    <tr>\n",
       "      <td>на покупку подержанного автомобиля</td>\n",
       "      <td>478</td>\n",
       "    </tr>\n",
       "    <tr>\n",
       "      <td>на покупку своего автомобиля</td>\n",
       "      <td>504</td>\n",
       "    </tr>\n",
       "    <tr>\n",
       "      <td>на проведение свадьбы</td>\n",
       "      <td>776</td>\n",
       "    </tr>\n",
       "    <tr>\n",
       "      <td>недвижимость</td>\n",
       "      <td>633</td>\n",
       "    </tr>\n",
       "    <tr>\n",
       "      <td>образование</td>\n",
       "      <td>446</td>\n",
       "    </tr>\n",
       "    <tr>\n",
       "      <td>операции с жильем</td>\n",
       "      <td>652</td>\n",
       "    </tr>\n",
       "    <tr>\n",
       "      <td>операции с коммерческой недвижимостью</td>\n",
       "      <td>650</td>\n",
       "    </tr>\n",
       "    <tr>\n",
       "      <td>операции с недвижимостью</td>\n",
       "      <td>675</td>\n",
       "    </tr>\n",
       "    <tr>\n",
       "      <td>операции со своей недвижимостью</td>\n",
       "      <td>629</td>\n",
       "    </tr>\n",
       "    <tr>\n",
       "      <td>покупка жилой недвижимости</td>\n",
       "      <td>606</td>\n",
       "    </tr>\n",
       "    <tr>\n",
       "      <td>покупка жилья</td>\n",
       "      <td>646</td>\n",
       "    </tr>\n",
       "    <tr>\n",
       "      <td>покупка жилья для сдачи</td>\n",
       "      <td>652</td>\n",
       "    </tr>\n",
       "    <tr>\n",
       "      <td>покупка жилья для семьи</td>\n",
       "      <td>640</td>\n",
       "    </tr>\n",
       "    <tr>\n",
       "      <td>покупка коммерческой недвижимости</td>\n",
       "      <td>663</td>\n",
       "    </tr>\n",
       "    <tr>\n",
       "      <td>покупка недвижимости</td>\n",
       "      <td>623</td>\n",
       "    </tr>\n",
       "    <tr>\n",
       "      <td>покупка своего жилья</td>\n",
       "      <td>619</td>\n",
       "    </tr>\n",
       "    <tr>\n",
       "      <td>получение высшего образования</td>\n",
       "      <td>425</td>\n",
       "    </tr>\n",
       "    <tr>\n",
       "      <td>получение дополнительного образования</td>\n",
       "      <td>446</td>\n",
       "    </tr>\n",
       "    <tr>\n",
       "      <td>получение образования</td>\n",
       "      <td>442</td>\n",
       "    </tr>\n",
       "    <tr>\n",
       "      <td>приобретение автомобиля</td>\n",
       "      <td>461</td>\n",
       "    </tr>\n",
       "    <tr>\n",
       "      <td>профильное образование</td>\n",
       "      <td>435</td>\n",
       "    </tr>\n",
       "    <tr>\n",
       "      <td>ремонт жилью</td>\n",
       "      <td>611</td>\n",
       "    </tr>\n",
       "    <tr>\n",
       "      <td>свадьба</td>\n",
       "      <td>796</td>\n",
       "    </tr>\n",
       "    <tr>\n",
       "      <td>свой автомобиль</td>\n",
       "      <td>479</td>\n",
       "    </tr>\n",
       "    <tr>\n",
       "      <td>сделка с автомобилем</td>\n",
       "      <td>454</td>\n",
       "    </tr>\n",
       "    <tr>\n",
       "      <td>сделка с подержанным автомобилем</td>\n",
       "      <td>488</td>\n",
       "    </tr>\n",
       "    <tr>\n",
       "      <td>строительство жилой недвижимости</td>\n",
       "      <td>625</td>\n",
       "    </tr>\n",
       "    <tr>\n",
       "      <td>строительство недвижимости</td>\n",
       "      <td>619</td>\n",
       "    </tr>\n",
       "    <tr>\n",
       "      <td>строительство собственной недвижимости</td>\n",
       "      <td>634</td>\n",
       "    </tr>\n",
       "    <tr>\n",
       "      <td>сыграть свадьбу</td>\n",
       "      <td>773</td>\n",
       "    </tr>\n",
       "  </tbody>\n",
       "</table>\n",
       "</div>"
      ],
      "text/plain": [
       "                                        purpose\n",
       "автомобили                                  477\n",
       "автомобиль                                  494\n",
       "высшее образование                          452\n",
       "дополнительное образование                  461\n",
       "жилье                                       646\n",
       "заняться высшим образованием                495\n",
       "заняться образованием                       411\n",
       "на покупку автомобиля                       471\n",
       "на покупку подержанного автомобиля          478\n",
       "на покупку своего автомобиля                504\n",
       "на проведение свадьбы                       776\n",
       "недвижимость                                633\n",
       "образование                                 446\n",
       "операции с жильем                           652\n",
       "операции с коммерческой недвижимостью       650\n",
       "операции с недвижимостью                    675\n",
       "операции со своей недвижимостью             629\n",
       "покупка жилой недвижимости                  606\n",
       "покупка жилья                               646\n",
       "покупка жилья для сдачи                     652\n",
       "покупка жилья для семьи                     640\n",
       "покупка коммерческой недвижимости           663\n",
       "покупка недвижимости                        623\n",
       "покупка своего жилья                        619\n",
       "получение высшего образования               425\n",
       "получение дополнительного образования       446\n",
       "получение образования                       442\n",
       "приобретение автомобиля                     461\n",
       "профильное образование                      435\n",
       "ремонт жилью                                611\n",
       "свадьба                                     796\n",
       "свой автомобиль                             479\n",
       "сделка с автомобилем                        454\n",
       "сделка с подержанным автомобилем            488\n",
       "строительство жилой недвижимости            625\n",
       "строительство недвижимости                  619\n",
       "строительство собственной недвижимости      634\n",
       "сыграть свадьбу                             773"
      ]
     },
     "metadata": {},
     "output_type": "display_data"
    }
   ],
   "source": [
    "# Подсчет значений из столбцов\n",
    "for columns in df.columns:\n",
    "    display(df[columns][df[columns].duplicated()].value_counts(dropna=False).sort_index().to_frame())"
   ]
  },
  {
   "cell_type": "markdown",
   "metadata": {},
   "source": [
    "<div class=\"alert alert-success\">\n",
    "<b>Комментарий ревьюера:</b> Смотри, ты применяешь to_frame(), но выводишь получившийся датафрейм c помощью print() — в этом нет особого смысла. Чтобы датафрейм отобразился красиво, используй метод display().\n",
    "</div>\n"
   ]
  },
  {
   "cell_type": "markdown",
   "metadata": {},
   "source": [
    "<div class=\"alert alert-info\"> <b>Комментарий студента:</b> Действительно, так симпатичнее, спасибо. Убрал за ненадобностью костыльные строчки для разделения табличек.</div>"
   ]
  },
  {
   "cell_type": "markdown",
   "metadata": {},
   "source": [
    "<div class=\"alert alert-success\">\n",
    "<b>Комментарий ревьюера v2:</b> 👍\n",
    "</div>"
   ]
  },
  {
   "cell_type": "code",
   "execution_count": 5,
   "metadata": {
    "scrolled": true
   },
   "outputs": [
    {
     "name": "stdout",
     "output_type": "stream",
     "text": [
      "--------------------------------------------------------------------------\n",
      "||children||\n",
      "\n",
      "[ 1  0  3  2 -1  4 20  5]\n",
      "\n",
      "--------------------------------------------------------------------------\n",
      "--------------------------------------------------------------------------\n",
      "||days_employed||\n",
      "\n",
      "[-8437.67302776 -4024.80375385 -5623.42261023 ... -2113.3468877\n",
      " -3112.4817052  -1984.50758853]\n",
      "\n",
      "--------------------------------------------------------------------------\n",
      "--------------------------------------------------------------------------\n",
      "||dob_years||\n",
      "\n",
      "[42 36 33 32 53 27 43 50 35 41 40 65 54 56 26 48 24 21 57 67 28 63 62 47\n",
      " 34 68 25 31 30 20 49 37 45 61 64 44 52 46 23 38 39 51  0 59 29 60 55 58\n",
      " 71 22 73 66 69 19 72 70 74 75]\n",
      "\n",
      "--------------------------------------------------------------------------\n",
      "--------------------------------------------------------------------------\n",
      "||education||\n",
      "\n",
      "['высшее' 'среднее' 'Среднее' 'СРЕДНЕЕ' 'ВЫСШЕЕ' 'неоконченное высшее'\n",
      " 'начальное' 'Высшее' 'НЕОКОНЧЕННОЕ ВЫСШЕЕ' 'Неоконченное высшее'\n",
      " 'НАЧАЛЬНОЕ' 'Начальное' 'Ученая степень' 'УЧЕНАЯ СТЕПЕНЬ'\n",
      " 'ученая степень']\n",
      "\n",
      "--------------------------------------------------------------------------\n",
      "--------------------------------------------------------------------------\n",
      "||education_id||\n",
      "\n",
      "[0 1 2 3 4]\n",
      "\n",
      "--------------------------------------------------------------------------\n",
      "--------------------------------------------------------------------------\n",
      "||family_status||\n",
      "\n",
      "['женат / замужем' 'гражданский брак' 'вдовец / вдова' 'в разводе'\n",
      " 'Не женат / не замужем']\n",
      "\n",
      "--------------------------------------------------------------------------\n",
      "--------------------------------------------------------------------------\n",
      "||family_status_id||\n",
      "\n",
      "[0 1 2 3 4]\n",
      "\n",
      "--------------------------------------------------------------------------\n",
      "--------------------------------------------------------------------------\n",
      "||gender||\n",
      "\n",
      "['F' 'M' 'XNA']\n",
      "\n",
      "--------------------------------------------------------------------------\n",
      "--------------------------------------------------------------------------\n",
      "||income_type||\n",
      "\n",
      "['сотрудник' 'пенсионер' 'компаньон' 'госслужащий' 'безработный'\n",
      " 'предприниматель' 'студент' 'в декрете']\n",
      "\n",
      "--------------------------------------------------------------------------\n",
      "--------------------------------------------------------------------------\n",
      "||debt||\n",
      "\n",
      "[0 1]\n",
      "\n",
      "--------------------------------------------------------------------------\n",
      "--------------------------------------------------------------------------\n",
      "||total_income||\n",
      "\n",
      "[253875.6394526  112080.01410244 145885.95229686 ...  89672.56115303\n",
      " 244093.05050043  82047.41889948]\n",
      "\n",
      "--------------------------------------------------------------------------\n",
      "--------------------------------------------------------------------------\n",
      "||purpose||\n",
      "\n",
      "['покупка жилья' 'приобретение автомобиля' 'дополнительное образование'\n",
      " 'сыграть свадьбу' 'операции с жильем' 'образование'\n",
      " 'на проведение свадьбы' 'покупка жилья для семьи' 'покупка недвижимости'\n",
      " 'покупка коммерческой недвижимости' 'покупка жилой недвижимости'\n",
      " 'строительство собственной недвижимости' 'недвижимость'\n",
      " 'строительство недвижимости' 'на покупку подержанного автомобиля'\n",
      " 'на покупку своего автомобиля' 'операции с коммерческой недвижимостью'\n",
      " 'строительство жилой недвижимости' 'жилье'\n",
      " 'операции со своей недвижимостью' 'автомобили' 'заняться образованием'\n",
      " 'сделка с подержанным автомобилем' 'получение образования' 'автомобиль'\n",
      " 'свадьба' 'получение дополнительного образования' 'покупка своего жилья'\n",
      " 'операции с недвижимостью' 'получение высшего образования'\n",
      " 'свой автомобиль' 'сделка с автомобилем' 'профильное образование'\n",
      " 'высшее образование' 'покупка жилья для сдачи' 'на покупку автомобиля'\n",
      " 'ремонт жилью' 'заняться высшим образованием']\n",
      "\n",
      "--------------------------------------------------------------------------\n"
     ]
    }
   ],
   "source": [
    "# Подсчет уникальных значений\n",
    "for column in df.columns:\n",
    "    print('--------------------------------------------------------------------------')\n",
    "    print('||'+ column +'||')\n",
    "    print()\n",
    "    print(df[column].unique())\n",
    "    print()\n",
    "    print('--------------------------------------------------------------------------')"
   ]
  },
  {
   "cell_type": "code",
   "execution_count": 6,
   "metadata": {},
   "outputs": [
    {
     "data": {
      "text/plain": [
       "1100.6997273296713"
      ]
     },
     "execution_count": 6,
     "metadata": {},
     "output_type": "execute_result"
    }
   ],
   "source": [
    "401755.40047533/365 # для понимания максимальное значение дней стажа переводим в годы стажа"
   ]
  },
  {
   "cell_type": "markdown",
   "metadata": {},
   "source": [
    "**Выводы**\n",
    "\n",
    "Названия колонок в порядке, пробелов нет, названия в snake_case, в нижнем регистре - изменений не требуется. \n",
    "В данных есть много артефактов: нуллы, пропуски, дубликаты, невалидные значения. Подробнее об аномалиях:\n",
    "\n",
    "* __*children*__ — количество детей в семье\n",
    "    1. Есть 46 значений '-1', чего быть не может.\n",
    "    2. 75 значений '20' - слишком много. В России, по статистике (из инетрнета), семей из 5 и более детей - около 3%, но 20 - это рекордные значения, явный артефакт, относительно остальных значений. Имеет смысл заменить на медианное значение или удалить\n",
    "\n",
    "***\n",
    "* __*days_employed*__ — общий трудовой стаж в днях\n",
    "    1. 2173 NaN\n",
    "    2. Отрицательные значения\n",
    "    3. Тип данных в days_employed - float64, но зачем? Количество дней удобнее представлять в int, значения после запятой, кажется, только засоряют картину, занимают больше места\n",
    "    4. Максимальное значение 401755.40047533, что равно 1100.6997273296713 годам.\n",
    "***    \n",
    "\n",
    "* __*dob_years*__ — возраст клиента в годах\n",
    "    1. Есть нулевые значения и их ровно 100. Не сильно много, можно будет удалить\n",
    "***\n",
    "\n",
    "* __*education*__ — уровень образования клиента\n",
    "    1. Есть дубликаты с разным регистром\n",
    "***\n",
    "\n",
    "* __*gender*__ — пол клиента\n",
    "    1. есть значение XNA, такого пола нет\n",
    "***\n",
    "* __*total_income*__ — ежемесячный доход\n",
    "    1. Аналогично days_employed, 2173 NaN. Может означать отсутствие дохода а может и ошибка заполнения\n",
    "    2. Возможно, неудобный тип данных float64, нам нет смысла знать доход с такой точностью\n",
    "***\n",
    "* __*purpose*__ — цель получения кредита\n",
    "    1. Значения часто дублируются по смыслу. Здесь нужна лемматизация и удаление дубликатов\n"
   ]
  },
  {
   "cell_type": "markdown",
   "metadata": {},
   "source": [
    "<div class=\"alert alert-success\">\n",
    "<b>Комментарий ревьюера:</b> Почти все проблемы в данных обнаружены, прекрасно) Остается проверить полные дубли строк. \n",
    "    \n",
    "Такие невозможные значения, которые многократно повторяются в столбце — это скорее всего пропуски, которые уже заполнили какими-то маркерами. Часть из них напрямую помешает исследованию. Другие не будут использоваться именно в нашем проекте, но полностью очистить и подготовить датасет — хорошая практика, ведь в работе часто приходится возвращаться к данным за дополнительными исследованиями.\n",
    "</div>\n"
   ]
  },
  {
   "cell_type": "markdown",
   "metadata": {},
   "source": [
    "## Шаг 2. Предобработка данных"
   ]
  },
  {
   "cell_type": "markdown",
   "metadata": {},
   "source": [
    "### Обработка аномалий"
   ]
  },
  {
   "cell_type": "markdown",
   "metadata": {},
   "source": [
    "#### Cтолбец children\n",
    "Количество детей в семье\n",
    "* Считаем отрицательные значения\n",
    "* Убираем экстримально высокие значения '20'"
   ]
  },
  {
   "cell_type": "code",
   "execution_count": 7,
   "metadata": {},
   "outputs": [
    {
     "name": "stdout",
     "output_type": "stream",
     "text": [
      "47\n",
      "76\n"
     ]
    }
   ],
   "source": [
    "#df[(df['children'] == -1) | (df['children']== 20)] ['children'].shape[0]\n",
    "print(df[df['children'] == -1]['children'].count()) # Считаем количество '-1'\n",
    "print(df[df['children'] == 20]['children'].count()) # Считаем количество '20'"
   ]
  },
  {
   "cell_type": "markdown",
   "metadata": {},
   "source": [
    "Отрицательных значений: 47, а нереально больших - 76. В целом, это немного и можно убрать"
   ]
  },
  {
   "cell_type": "code",
   "execution_count": 8,
   "metadata": {},
   "outputs": [
    {
     "data": {
      "text/plain": [
       "0    14149\n",
       "1     4818\n",
       "2     2055\n",
       "3      330\n",
       "4       41\n",
       "5        9\n",
       "Name: children, dtype: int64"
      ]
     },
     "execution_count": 8,
     "metadata": {},
     "output_type": "execute_result"
    }
   ],
   "source": [
    "df = df.drop(df[df['children']==-1].index)\n",
    "df = df.drop(df[df['children']==20].index)\n",
    "\n",
    "# Проверим результат удалений:\n",
    "df['children'].value_counts()"
   ]
  },
  {
   "cell_type": "markdown",
   "metadata": {},
   "source": [
    "<div class=\"alert alert-success\">\n",
    "<b>Комментарий ревьюера:</b> Да, это пренебрежимо малая доля по сравнению с объемом нашего датасета. Но удалять мы можем полностью случайные и случайные пропуски — стоит отмечать такие моменты.\n",
    "</div>\n"
   ]
  },
  {
   "cell_type": "markdown",
   "metadata": {},
   "source": [
    "#### days_employed\n",
    "Общий трудовой стаж в днях\n",
    "* Убираем отрицательные значения\n",
    "* Максимальное значение 401755.40047533, что равно 1100.6997273296713 года - нужно убрать. \n",
    "\n",
    "Но прежде чем избавляться от отрицательных значений, хочется взглянуть по отдельности, что это за значения с плюсом и минусом:"
   ]
  },
  {
   "cell_type": "markdown",
   "metadata": {},
   "source": [
    "<div class=\"alert alert-info\"> <b>Комментарий студента:</b> Обновил решение всего подблока <b>days_employed</b> по замечанию.</div>"
   ]
  },
  {
   "cell_type": "code",
   "execution_count": 9,
   "metadata": {},
   "outputs": [
    {
     "name": "stdout",
     "output_type": "stream",
     "text": [
      "Минимальный стаж в годах из положительных значений: 900.6266317932007\n",
      "Максимальный стаж в годах из положительных значений: 1100.6997273296713\n",
      "Среднее положительных значений стажа в годах: 1000.0709627430559\n",
      "Медиана положительных значений стажа в годах: 1000.7852675329941\n",
      "Число положительных значений стажа: 3431\n"
     ]
    }
   ],
   "source": [
    "print('Минимальный стаж в годах из положительных значений:', df.loc[df['days_employed']>0, 'days_employed'].min()/365)\n",
    "print('Максимальный стаж в годах из положительных значений:', df.loc[df['days_employed']>0, 'days_employed'].max()/365)\n",
    "print('Среднее положительных значений стажа в годах:', df.loc[df['days_employed']>0, 'days_employed'].mean()/365)\n",
    "print('Медиана положительных значений стажа в годах:', df.loc[df['days_employed']>0, 'days_employed'].median()/365)\n",
    "print('Число положительных значений стажа:', df.loc[df['days_employed']>0, 'days_employed'].count())"
   ]
  },
  {
   "cell_type": "markdown",
   "metadata": {},
   "source": [
    "Все положительные данные выглядит слишком большими, минимум: 900 лет, максимум: 1100, медиана и среднее отличаются несущественно. Данные явно  ошибочны.\n",
    "\n",
    "<div class=\"alert alert-success\">\n",
    "<b>Комментарий ревьюера v2:</b> Верное замечание</div>\n",
    "\n",
    "Посмотрим аналогично на отрицательные значения."
   ]
  },
  {
   "cell_type": "code",
   "execution_count": 10,
   "metadata": {},
   "outputs": [
    {
     "name": "stdout",
     "output_type": "stream",
     "text": [
      "Минимальный стаж в годах из отрицательных значений: 0.06614146093282515\n",
      "Максимальный стаж в годах из отрицательных значений: 50.38068465909146\n",
      "Среднее отрицательных значений стажа в годах: 6.44836710137888\n",
      "Медиана отрицательных значений стажа в годах: 4.46696874194262\n",
      "Число отрицательных значений стажа: 15809\n"
     ]
    }
   ],
   "source": [
    "print('Минимальный стаж в годах из отрицательных значений:', df.loc[df['days_employed']<0, 'days_employed'].abs().min()/365)\n",
    "print('Максимальный стаж в годах из отрицательных значений:', df.loc[df['days_employed']<0, 'days_employed'].abs().max()/365)\n",
    "print('Среднее отрицательных значений стажа в годах:', df.loc[df['days_employed']<0, 'days_employed'].abs().mean()/365)\n",
    "print('Медиана отрицательных значений стажа в годах:', df.loc[df['days_employed']<0, 'days_employed'].abs().median()/365)\n",
    "print('Число отрицательных значений стажа:', df.loc[df['days_employed']<0, 'days_employed'].count())"
   ]
  },
  {
   "cell_type": "markdown",
   "metadata": {},
   "source": [
    "А вот отрицательные значения больше похожи на правду, нет аномальных значений. Их менять не следует, кроме как убрать знак минус"
   ]
  },
  {
   "cell_type": "markdown",
   "metadata": {},
   "source": [
    "<div class=\"alert alert-success\">\n",
    "<b>Комментарий ревьюера v2:</b> 👍\n",
    "</div>"
   ]
  },
  {
   "cell_type": "markdown",
   "metadata": {},
   "source": [
    "##### Обработка положительных значений. \n",
    "Весьма вероятно, они стали в 100 раз больше после импорта из какой-то системы или при конвертации. Поэтому, сначала уменьшим положителньые значения в 100 раз, а потом уже уберим знак минус у отрицательных"
   ]
  },
  {
   "cell_type": "code",
   "execution_count": 11,
   "metadata": {},
   "outputs": [
    {
     "name": "stdout",
     "output_type": "stream",
     "text": [
      "Минимальный стаж в годах из положительных значений: 9.006266317932008\n",
      "Максимальный стаж в годах из положительных значений: 11.006997273296712\n",
      "Среднее положительных значений стажа в годах: 10.000709627430561\n",
      "Медиана положительных значений стажа в годах: 10.007852675329941\n",
      "Число положительных значений стажа: 3431\n"
     ]
    }
   ],
   "source": [
    "df.loc[df['days_employed'] > 0, 'days_employed'] = df['days_employed']/100\n",
    "# Проверка:\n",
    "print('Минимальный стаж в годах из положительных значений:', df.loc[df['days_employed']>0, 'days_employed'].min()/365)\n",
    "print('Максимальный стаж в годах из положительных значений:', df.loc[df['days_employed']>0, 'days_employed'].max()/365)\n",
    "print('Среднее положительных значений стажа в годах:', df.loc[df['days_employed']>0, 'days_employed'].mean()/365)\n",
    "print('Медиана положительных значений стажа в годах:', df.loc[df['days_employed']>0, 'days_employed'].median()/365)\n",
    "print('Число положительных значений стажа:', df.loc[df['days_employed']>0, 'days_employed'].count())"
   ]
  },
  {
   "cell_type": "markdown",
   "metadata": {},
   "source": [
    "<div class=\"alert alert-success\">\n",
    "<b>Комментарий ревьюера v2:</b> Ок, это возможный способ восстановить значения.\n",
    "</div>"
   ]
  },
  {
   "cell_type": "markdown",
   "metadata": {},
   "source": [
    "##### Обработка отрицательных значений\n",
    "Теперь просто уберем отрицательные значения методом abs()"
   ]
  },
  {
   "cell_type": "code",
   "execution_count": 12,
   "metadata": {},
   "outputs": [
    {
     "name": "stdout",
     "output_type": "stream",
     "text": [
      "Количество отрицательных значений до обработки 15809\n",
      "Количество отрицательных значений ПОСЛЕ обработки 0\n"
     ]
    }
   ],
   "source": [
    "print('Количество отрицательных значений до обработки', df[df['days_employed'] < 0].shape[0])\n",
    "df['days_employed'] = df['days_employed'].abs() # Убираем отрицательные значения\n",
    "print('Количество отрицательных значений ПОСЛЕ обработки', df[df['days_employed'] < 0].shape[0]) #Проверяем наличие отрицательных значений"
   ]
  },
  {
   "cell_type": "code",
   "execution_count": 13,
   "metadata": {},
   "outputs": [
    {
     "data": {
      "text/html": [
       "<div>\n",
       "<style scoped>\n",
       "    .dataframe tbody tr th:only-of-type {\n",
       "        vertical-align: middle;\n",
       "    }\n",
       "\n",
       "    .dataframe tbody tr th {\n",
       "        vertical-align: top;\n",
       "    }\n",
       "\n",
       "    .dataframe thead th {\n",
       "        text-align: right;\n",
       "    }\n",
       "</style>\n",
       "<table border=\"1\" class=\"dataframe\">\n",
       "  <thead>\n",
       "    <tr style=\"text-align: right;\">\n",
       "      <th></th>\n",
       "      <th>children</th>\n",
       "      <th>days_employed</th>\n",
       "      <th>dob_years</th>\n",
       "      <th>education</th>\n",
       "      <th>education_id</th>\n",
       "      <th>family_status</th>\n",
       "      <th>family_status_id</th>\n",
       "      <th>gender</th>\n",
       "      <th>income_type</th>\n",
       "      <th>debt</th>\n",
       "      <th>total_income</th>\n",
       "      <th>purpose</th>\n",
       "    </tr>\n",
       "  </thead>\n",
       "  <tbody>\n",
       "    <tr>\n",
       "      <td>16335</td>\n",
       "      <td>1</td>\n",
       "      <td>18388.949901</td>\n",
       "      <td>61</td>\n",
       "      <td>среднее</td>\n",
       "      <td>1</td>\n",
       "      <td>женат / замужем</td>\n",
       "      <td>0</td>\n",
       "      <td>F</td>\n",
       "      <td>сотрудник</td>\n",
       "      <td>0</td>\n",
       "      <td>186178.934089</td>\n",
       "      <td>операции с недвижимостью</td>\n",
       "    </tr>\n",
       "    <tr>\n",
       "      <td>4299</td>\n",
       "      <td>0</td>\n",
       "      <td>17615.563266</td>\n",
       "      <td>61</td>\n",
       "      <td>среднее</td>\n",
       "      <td>1</td>\n",
       "      <td>женат / замужем</td>\n",
       "      <td>0</td>\n",
       "      <td>F</td>\n",
       "      <td>компаньон</td>\n",
       "      <td>0</td>\n",
       "      <td>122560.741753</td>\n",
       "      <td>покупка жилья</td>\n",
       "    </tr>\n",
       "    <tr>\n",
       "      <td>7329</td>\n",
       "      <td>0</td>\n",
       "      <td>16593.472817</td>\n",
       "      <td>60</td>\n",
       "      <td>высшее</td>\n",
       "      <td>0</td>\n",
       "      <td>женат / замужем</td>\n",
       "      <td>0</td>\n",
       "      <td>F</td>\n",
       "      <td>сотрудник</td>\n",
       "      <td>0</td>\n",
       "      <td>124697.846781</td>\n",
       "      <td>заняться высшим образованием</td>\n",
       "    </tr>\n",
       "    <tr>\n",
       "      <td>17838</td>\n",
       "      <td>0</td>\n",
       "      <td>16264.699501</td>\n",
       "      <td>59</td>\n",
       "      <td>среднее</td>\n",
       "      <td>1</td>\n",
       "      <td>женат / замужем</td>\n",
       "      <td>0</td>\n",
       "      <td>F</td>\n",
       "      <td>сотрудник</td>\n",
       "      <td>0</td>\n",
       "      <td>51238.967133</td>\n",
       "      <td>на покупку автомобиля</td>\n",
       "    </tr>\n",
       "    <tr>\n",
       "      <td>16825</td>\n",
       "      <td>0</td>\n",
       "      <td>16119.687737</td>\n",
       "      <td>64</td>\n",
       "      <td>среднее</td>\n",
       "      <td>1</td>\n",
       "      <td>женат / замужем</td>\n",
       "      <td>0</td>\n",
       "      <td>F</td>\n",
       "      <td>сотрудник</td>\n",
       "      <td>0</td>\n",
       "      <td>91527.685995</td>\n",
       "      <td>покупка жилой недвижимости</td>\n",
       "    </tr>\n",
       "    <tr>\n",
       "      <td>3974</td>\n",
       "      <td>0</td>\n",
       "      <td>15835.725775</td>\n",
       "      <td>64</td>\n",
       "      <td>среднее</td>\n",
       "      <td>1</td>\n",
       "      <td>гражданский брак</td>\n",
       "      <td>1</td>\n",
       "      <td>F</td>\n",
       "      <td>компаньон</td>\n",
       "      <td>0</td>\n",
       "      <td>96858.531436</td>\n",
       "      <td>сыграть свадьбу</td>\n",
       "    </tr>\n",
       "    <tr>\n",
       "      <td>1539</td>\n",
       "      <td>0</td>\n",
       "      <td>15785.678893</td>\n",
       "      <td>59</td>\n",
       "      <td>высшее</td>\n",
       "      <td>0</td>\n",
       "      <td>Не женат / не замужем</td>\n",
       "      <td>4</td>\n",
       "      <td>F</td>\n",
       "      <td>сотрудник</td>\n",
       "      <td>0</td>\n",
       "      <td>119563.851852</td>\n",
       "      <td>операции с коммерческой недвижимостью</td>\n",
       "    </tr>\n",
       "    <tr>\n",
       "      <td>4321</td>\n",
       "      <td>0</td>\n",
       "      <td>15773.061335</td>\n",
       "      <td>61</td>\n",
       "      <td>среднее</td>\n",
       "      <td>1</td>\n",
       "      <td>гражданский брак</td>\n",
       "      <td>1</td>\n",
       "      <td>F</td>\n",
       "      <td>сотрудник</td>\n",
       "      <td>0</td>\n",
       "      <td>205868.585780</td>\n",
       "      <td>свадьба</td>\n",
       "    </tr>\n",
       "    <tr>\n",
       "      <td>7731</td>\n",
       "      <td>0</td>\n",
       "      <td>15618.063786</td>\n",
       "      <td>64</td>\n",
       "      <td>среднее</td>\n",
       "      <td>1</td>\n",
       "      <td>женат / замужем</td>\n",
       "      <td>0</td>\n",
       "      <td>F</td>\n",
       "      <td>компаньон</td>\n",
       "      <td>0</td>\n",
       "      <td>296525.358574</td>\n",
       "      <td>высшее образование</td>\n",
       "    </tr>\n",
       "    <tr>\n",
       "      <td>15675</td>\n",
       "      <td>0</td>\n",
       "      <td>15410.040779</td>\n",
       "      <td>65</td>\n",
       "      <td>высшее</td>\n",
       "      <td>0</td>\n",
       "      <td>женат / замужем</td>\n",
       "      <td>0</td>\n",
       "      <td>F</td>\n",
       "      <td>сотрудник</td>\n",
       "      <td>0</td>\n",
       "      <td>188800.068859</td>\n",
       "      <td>покупка жилой недвижимости</td>\n",
       "    </tr>\n",
       "  </tbody>\n",
       "</table>\n",
       "</div>"
      ],
      "text/plain": [
       "       children  days_employed  dob_years education  education_id  \\\n",
       "16335         1   18388.949901         61   среднее             1   \n",
       "4299          0   17615.563266         61   среднее             1   \n",
       "7329          0   16593.472817         60    высшее             0   \n",
       "17838         0   16264.699501         59   среднее             1   \n",
       "16825         0   16119.687737         64   среднее             1   \n",
       "3974          0   15835.725775         64   среднее             1   \n",
       "1539          0   15785.678893         59    высшее             0   \n",
       "4321          0   15773.061335         61   среднее             1   \n",
       "7731          0   15618.063786         64   среднее             1   \n",
       "15675         0   15410.040779         65    высшее             0   \n",
       "\n",
       "               family_status  family_status_id gender income_type  debt  \\\n",
       "16335        женат / замужем                 0      F   сотрудник     0   \n",
       "4299         женат / замужем                 0      F   компаньон     0   \n",
       "7329         женат / замужем                 0      F   сотрудник     0   \n",
       "17838        женат / замужем                 0      F   сотрудник     0   \n",
       "16825        женат / замужем                 0      F   сотрудник     0   \n",
       "3974        гражданский брак                 1      F   компаньон     0   \n",
       "1539   Не женат / не замужем                 4      F   сотрудник     0   \n",
       "4321        гражданский брак                 1      F   сотрудник     0   \n",
       "7731         женат / замужем                 0      F   компаньон     0   \n",
       "15675        женат / замужем                 0      F   сотрудник     0   \n",
       "\n",
       "        total_income                                purpose  \n",
       "16335  186178.934089               операции с недвижимостью  \n",
       "4299   122560.741753                          покупка жилья  \n",
       "7329   124697.846781           заняться высшим образованием  \n",
       "17838   51238.967133                  на покупку автомобиля  \n",
       "16825   91527.685995             покупка жилой недвижимости  \n",
       "3974    96858.531436                        сыграть свадьбу  \n",
       "1539   119563.851852  операции с коммерческой недвижимостью  \n",
       "4321   205868.585780                                свадьба  \n",
       "7731   296525.358574                     высшее образование  \n",
       "15675  188800.068859             покупка жилой недвижимости  "
      ]
     },
     "execution_count": 13,
     "metadata": {},
     "output_type": "execute_result"
    }
   ],
   "source": [
    "df.sort_values(by = 'days_employed', ascending = False).head(10)"
   ]
  },
  {
   "cell_type": "code",
   "execution_count": 14,
   "metadata": {},
   "outputs": [
    {
     "data": {
      "text/html": [
       "<div>\n",
       "<style scoped>\n",
       "    .dataframe tbody tr th:only-of-type {\n",
       "        vertical-align: middle;\n",
       "    }\n",
       "\n",
       "    .dataframe tbody tr th {\n",
       "        vertical-align: top;\n",
       "    }\n",
       "\n",
       "    .dataframe thead th {\n",
       "        text-align: right;\n",
       "    }\n",
       "</style>\n",
       "<table border=\"1\" class=\"dataframe\">\n",
       "  <thead>\n",
       "    <tr style=\"text-align: right;\">\n",
       "      <th></th>\n",
       "      <th>children</th>\n",
       "      <th>days_employed</th>\n",
       "      <th>dob_years</th>\n",
       "      <th>education</th>\n",
       "      <th>education_id</th>\n",
       "      <th>family_status</th>\n",
       "      <th>family_status_id</th>\n",
       "      <th>gender</th>\n",
       "      <th>income_type</th>\n",
       "      <th>debt</th>\n",
       "      <th>total_income</th>\n",
       "      <th>purpose</th>\n",
       "    </tr>\n",
       "  </thead>\n",
       "  <tbody>\n",
       "    <tr>\n",
       "      <td>21415</td>\n",
       "      <td>0</td>\n",
       "      <td>NaN</td>\n",
       "      <td>54</td>\n",
       "      <td>среднее</td>\n",
       "      <td>1</td>\n",
       "      <td>женат / замужем</td>\n",
       "      <td>0</td>\n",
       "      <td>F</td>\n",
       "      <td>пенсионер</td>\n",
       "      <td>0</td>\n",
       "      <td>NaN</td>\n",
       "      <td>операции с жильем</td>\n",
       "    </tr>\n",
       "    <tr>\n",
       "      <td>21423</td>\n",
       "      <td>0</td>\n",
       "      <td>NaN</td>\n",
       "      <td>63</td>\n",
       "      <td>среднее</td>\n",
       "      <td>1</td>\n",
       "      <td>женат / замужем</td>\n",
       "      <td>0</td>\n",
       "      <td>M</td>\n",
       "      <td>пенсионер</td>\n",
       "      <td>0</td>\n",
       "      <td>NaN</td>\n",
       "      <td>сделка с автомобилем</td>\n",
       "    </tr>\n",
       "    <tr>\n",
       "      <td>21426</td>\n",
       "      <td>0</td>\n",
       "      <td>NaN</td>\n",
       "      <td>49</td>\n",
       "      <td>среднее</td>\n",
       "      <td>1</td>\n",
       "      <td>женат / замужем</td>\n",
       "      <td>0</td>\n",
       "      <td>F</td>\n",
       "      <td>сотрудник</td>\n",
       "      <td>1</td>\n",
       "      <td>NaN</td>\n",
       "      <td>недвижимость</td>\n",
       "    </tr>\n",
       "    <tr>\n",
       "      <td>21432</td>\n",
       "      <td>1</td>\n",
       "      <td>NaN</td>\n",
       "      <td>38</td>\n",
       "      <td>неоконченное высшее</td>\n",
       "      <td>2</td>\n",
       "      <td>Не женат / не замужем</td>\n",
       "      <td>4</td>\n",
       "      <td>F</td>\n",
       "      <td>сотрудник</td>\n",
       "      <td>0</td>\n",
       "      <td>NaN</td>\n",
       "      <td>операции с жильем</td>\n",
       "    </tr>\n",
       "    <tr>\n",
       "      <td>21463</td>\n",
       "      <td>1</td>\n",
       "      <td>NaN</td>\n",
       "      <td>35</td>\n",
       "      <td>высшее</td>\n",
       "      <td>0</td>\n",
       "      <td>гражданский брак</td>\n",
       "      <td>1</td>\n",
       "      <td>M</td>\n",
       "      <td>сотрудник</td>\n",
       "      <td>0</td>\n",
       "      <td>NaN</td>\n",
       "      <td>на проведение свадьбы</td>\n",
       "    </tr>\n",
       "    <tr>\n",
       "      <td>21489</td>\n",
       "      <td>2</td>\n",
       "      <td>NaN</td>\n",
       "      <td>47</td>\n",
       "      <td>Среднее</td>\n",
       "      <td>1</td>\n",
       "      <td>женат / замужем</td>\n",
       "      <td>0</td>\n",
       "      <td>M</td>\n",
       "      <td>компаньон</td>\n",
       "      <td>0</td>\n",
       "      <td>NaN</td>\n",
       "      <td>сделка с автомобилем</td>\n",
       "    </tr>\n",
       "    <tr>\n",
       "      <td>21495</td>\n",
       "      <td>1</td>\n",
       "      <td>NaN</td>\n",
       "      <td>50</td>\n",
       "      <td>среднее</td>\n",
       "      <td>1</td>\n",
       "      <td>гражданский брак</td>\n",
       "      <td>1</td>\n",
       "      <td>F</td>\n",
       "      <td>сотрудник</td>\n",
       "      <td>0</td>\n",
       "      <td>NaN</td>\n",
       "      <td>свадьба</td>\n",
       "    </tr>\n",
       "    <tr>\n",
       "      <td>21497</td>\n",
       "      <td>0</td>\n",
       "      <td>NaN</td>\n",
       "      <td>48</td>\n",
       "      <td>ВЫСШЕЕ</td>\n",
       "      <td>0</td>\n",
       "      <td>женат / замужем</td>\n",
       "      <td>0</td>\n",
       "      <td>F</td>\n",
       "      <td>компаньон</td>\n",
       "      <td>0</td>\n",
       "      <td>NaN</td>\n",
       "      <td>строительство недвижимости</td>\n",
       "    </tr>\n",
       "    <tr>\n",
       "      <td>21502</td>\n",
       "      <td>1</td>\n",
       "      <td>NaN</td>\n",
       "      <td>42</td>\n",
       "      <td>среднее</td>\n",
       "      <td>1</td>\n",
       "      <td>женат / замужем</td>\n",
       "      <td>0</td>\n",
       "      <td>F</td>\n",
       "      <td>сотрудник</td>\n",
       "      <td>0</td>\n",
       "      <td>NaN</td>\n",
       "      <td>строительство жилой недвижимости</td>\n",
       "    </tr>\n",
       "    <tr>\n",
       "      <td>21510</td>\n",
       "      <td>2</td>\n",
       "      <td>NaN</td>\n",
       "      <td>28</td>\n",
       "      <td>среднее</td>\n",
       "      <td>1</td>\n",
       "      <td>женат / замужем</td>\n",
       "      <td>0</td>\n",
       "      <td>F</td>\n",
       "      <td>сотрудник</td>\n",
       "      <td>0</td>\n",
       "      <td>NaN</td>\n",
       "      <td>приобретение автомобиля</td>\n",
       "    </tr>\n",
       "  </tbody>\n",
       "</table>\n",
       "</div>"
      ],
      "text/plain": [
       "       children  days_employed  dob_years            education  education_id  \\\n",
       "21415         0            NaN         54              среднее             1   \n",
       "21423         0            NaN         63              среднее             1   \n",
       "21426         0            NaN         49              среднее             1   \n",
       "21432         1            NaN         38  неоконченное высшее             2   \n",
       "21463         1            NaN         35               высшее             0   \n",
       "21489         2            NaN         47              Среднее             1   \n",
       "21495         1            NaN         50              среднее             1   \n",
       "21497         0            NaN         48               ВЫСШЕЕ             0   \n",
       "21502         1            NaN         42              среднее             1   \n",
       "21510         2            NaN         28              среднее             1   \n",
       "\n",
       "               family_status  family_status_id gender income_type  debt  \\\n",
       "21415        женат / замужем                 0      F   пенсионер     0   \n",
       "21423        женат / замужем                 0      M   пенсионер     0   \n",
       "21426        женат / замужем                 0      F   сотрудник     1   \n",
       "21432  Не женат / не замужем                 4      F   сотрудник     0   \n",
       "21463       гражданский брак                 1      M   сотрудник     0   \n",
       "21489        женат / замужем                 0      M   компаньон     0   \n",
       "21495       гражданский брак                 1      F   сотрудник     0   \n",
       "21497        женат / замужем                 0      F   компаньон     0   \n",
       "21502        женат / замужем                 0      F   сотрудник     0   \n",
       "21510        женат / замужем                 0      F   сотрудник     0   \n",
       "\n",
       "       total_income                           purpose  \n",
       "21415           NaN                 операции с жильем  \n",
       "21423           NaN              сделка с автомобилем  \n",
       "21426           NaN                      недвижимость  \n",
       "21432           NaN                 операции с жильем  \n",
       "21463           NaN             на проведение свадьбы  \n",
       "21489           NaN              сделка с автомобилем  \n",
       "21495           NaN                           свадьба  \n",
       "21497           NaN        строительство недвижимости  \n",
       "21502           NaN  строительство жилой недвижимости  \n",
       "21510           NaN           приобретение автомобиля  "
      ]
     },
     "execution_count": 14,
     "metadata": {},
     "output_type": "execute_result"
    }
   ],
   "source": [
    "df.sort_values(by = 'days_employed', ascending = False).tail(10)"
   ]
  },
  {
   "cell_type": "markdown",
   "metadata": {},
   "source": [
    "<div class=\"alert alert-success\">\n",
    "<b>Комментарий ревьюера:</b> Постарайся не вызывать весь датафрейм целиком — так можно повесить Jupyter Hub. Лучше используй для вывода первых и последних строк методы head() и tail().\n",
    "\n",
    "<b>Комментарий ревьюера v2:</b> Сделано</div>\n"
   ]
  },
  {
   "cell_type": "markdown",
   "metadata": {},
   "source": [
    "<div class=\"alert alert-info\"> <b>Комментарий студента:</b> Ок, сделал 2 вызова датафрейма с head() и tail()</div>"
   ]
  },
  {
   "cell_type": "code",
   "execution_count": 15,
   "metadata": {},
   "outputs": [
    {
     "name": "stdout",
     "output_type": "stream",
     "text": [
      "Средний стаж в годах: 7.081843567433105\n",
      "Медиана стажа в годах: 6.014387921983277\n"
     ]
    }
   ],
   "source": [
    "print('Средний стаж в годах:', df['days_employed'].mean()/365) #получаем среднее значение стажа в годах\n",
    "print('Медиана стажа в годах:', df['days_employed'].median()/365) #получаем медианное значение стажа"
   ]
  },
  {
   "cell_type": "markdown",
   "metadata": {},
   "source": [
    "__*Старое решение, выше я немного поменял и теперь оно неактуально*__ \n",
    "\n",
    "~Высокие значения стажа лишены логики, нужно ограничить неким максимумом. Сведения о максимальных значения стажа найти не~ ~удалось. Из открытых источников средний стаж жителя России до выхода на пенсию равен 34 годам. Но, нас интересуют значения,~ ~приближенные к максимальным. Из открытых же истончиков берем примерную цифру средней продолжительности жизни в России на~ ~2020год: __72 года__. Официально можно работать с __16 лет__.~\n",
    "\n",
    "~Соответственно, ограничим стаж числом 72 - 16 = __56__ ~\n",
    "~Но для начала, надо понять, сколько записей будет отброшено:~"
   ]
  },
  {
   "cell_type": "markdown",
   "metadata": {},
   "source": [
    "__*Новое решение*__\n",
    "Немного поменял решение: обработал все положительные значения, которые были запмсаны с систематической ошибкой - увеличил их в 100 раз. И только потом убрал знак минус у отрциательных, значения которых в кажутся адекватными. Получилось почти то же самое, судя по медиане и средней стажа."
   ]
  },
  {
   "cell_type": "markdown",
   "metadata": {},
   "source": [
    "<div class=\"alert alert-success\">\n",
    "<b>Комментарий ревьюера:</b> Здесь странно решение скорректировать только часть значений. Подумай, откуда могли взяться эти аномалии. А если «нормальные» дни стажа тоже выгружены с ошибкой и только кажутся корректными? Сами по себе данные так не бьются — явно произошла ошибка при конвертации. То, что с этим столбцом точно делали — переводили из даты трудоустройства в дни стажа. Скорее всего, проблема касается всех значений, которые не были отрицательными.\n",
    "\n",
    "<b>Комментарий ревьюера v2:</b> Есть правки</div>\n"
   ]
  },
  {
   "cell_type": "markdown",
   "metadata": {},
   "source": [
    "<div class=\"alert alert-info\"> <b>Комментарий студента:</b> Я изначально предположил, что ошибка из-за форматирования (переноса данных из одной системы в другую, например). Но если взять все изначально неотрицательные значения, то их и было 3431, как раз мое первое решение их и обработало. Група неотрицательных значений вся сильно больше, минимум 900 лет, максимум 1100; Тогда как группа изначально отрицательных значений за исключением знака была больше похожа на правду, там максиум - 50 лет, минимум 24 дня. \n",
    "\n",
    "Немного поменял решение, но там ведь тоже меняется только часть данных: обработал все положительные значения, только потом убрал знак минус у отрциательных. Получилось то же самое. Но изначально мне это в голову не пришло, тк я сразу избавился от отрицательных значений и уже работал со всеми положительными.\n",
    "Спасибо за несколько иной подход, я не подумал отдельно посмотреть на отрицательные значения и отдельно на положителньые (и что именно они могли быть аномально большими) Забавно, что в моем случае, результат все равно один: поправилось то же число стажа и средний стаж 1ым решенеим и 2ым решением был равен около 7.08, но это, кажется, мне повезло.\n",
    "Старое решение убирать не стал, просто закомментировал код и оставил комменты\n",
    "</div>"
   ]
  },
  {
   "cell_type": "markdown",
   "metadata": {},
   "source": [
    "<div class=\"alert alert-success\">\n",
    "<b>Комментарий ревьюера v2:</b> Отличная работа. Да, получается, что обе группы аномалий были так распределены, что вариант с рассчитанной нормой стажа тоже дал верный результат. Важно было убедиться, что мы не оставили ничего без обработки.\n",
    "</div>"
   ]
  },
  {
   "cell_type": "markdown",
   "metadata": {},
   "source": [
    "#### dob_years — возраст клиента в годах\n",
    "Заменим нулевые значения на NaN для дальнейшей их обработки"
   ]
  },
  {
   "cell_type": "code",
   "execution_count": 16,
   "metadata": {
    "scrolled": false
   },
   "outputs": [
    {
     "data": {
      "text/html": [
       "<div>\n",
       "<style scoped>\n",
       "    .dataframe tbody tr th:only-of-type {\n",
       "        vertical-align: middle;\n",
       "    }\n",
       "\n",
       "    .dataframe tbody tr th {\n",
       "        vertical-align: top;\n",
       "    }\n",
       "\n",
       "    .dataframe thead th {\n",
       "        text-align: right;\n",
       "    }\n",
       "</style>\n",
       "<table border=\"1\" class=\"dataframe\">\n",
       "  <thead>\n",
       "    <tr style=\"text-align: right;\">\n",
       "      <th></th>\n",
       "      <th>children</th>\n",
       "      <th>days_employed</th>\n",
       "      <th>dob_years</th>\n",
       "      <th>education</th>\n",
       "      <th>education_id</th>\n",
       "      <th>family_status</th>\n",
       "      <th>family_status_id</th>\n",
       "      <th>gender</th>\n",
       "      <th>income_type</th>\n",
       "      <th>debt</th>\n",
       "      <th>total_income</th>\n",
       "      <th>purpose</th>\n",
       "    </tr>\n",
       "  </thead>\n",
       "  <tbody>\n",
       "  </tbody>\n",
       "</table>\n",
       "</div>"
      ],
      "text/plain": [
       "Empty DataFrame\n",
       "Columns: [children, days_employed, dob_years, education, education_id, family_status, family_status_id, gender, income_type, debt, total_income, purpose]\n",
       "Index: []"
      ]
     },
     "execution_count": 16,
     "metadata": {},
     "output_type": "execute_result"
    }
   ],
   "source": [
    "import numpy as np\n",
    "df.loc[df['dob_years'] == 0, 'dob_years'] = np.nan\n",
    "df[df['dob_years'] == 0] #Проверяем наличие нулевых значений"
   ]
  },
  {
   "cell_type": "markdown",
   "metadata": {},
   "source": [
    "#### education — уровень образования клиента\n",
    "Приведем к нижнему регистру"
   ]
  },
  {
   "cell_type": "code",
   "execution_count": 17,
   "metadata": {},
   "outputs": [
    {
     "data": {
      "text/plain": [
       "среднее                13667\n",
       "высшее                  4698\n",
       "СРЕДНЕЕ                  766\n",
       "Среднее                  703\n",
       "неоконченное высшее      665\n",
       "ВЫСШЕЕ                   271\n",
       "Высшее                   268\n",
       "начальное                250\n",
       "Неоконченное высшее       47\n",
       "НЕОКОНЧЕННОЕ ВЫСШЕЕ       29\n",
       "НАЧАЛЬНОЕ                 17\n",
       "Начальное                 15\n",
       "ученая степень             4\n",
       "УЧЕНАЯ СТЕПЕНЬ             1\n",
       "Ученая степень             1\n",
       "Name: education, dtype: int64"
      ]
     },
     "execution_count": 17,
     "metadata": {},
     "output_type": "execute_result"
    }
   ],
   "source": [
    "df['education'].value_counts() # Еще раз, глянем как сейчас обстоят дела:"
   ]
  },
  {
   "cell_type": "code",
   "execution_count": 18,
   "metadata": {
    "scrolled": true
   },
   "outputs": [
    {
     "data": {
      "text/plain": [
       "среднее                15136\n",
       "высшее                  5237\n",
       "неоконченное высшее      741\n",
       "начальное                282\n",
       "ученая степень             6\n",
       "Name: education, dtype: int64"
      ]
     },
     "execution_count": 18,
     "metadata": {},
     "output_type": "execute_result"
    }
   ],
   "source": [
    "df['education'] = df['education'].str.lower() # Приводим к нижнему регистру все значения\n",
    "df['education'].value_counts()"
   ]
  },
  {
   "cell_type": "markdown",
   "metadata": {},
   "source": [
    "<div class=\"alert alert-success\">\n",
    "<b>Комментарий ревьюера:</b> 👍\n",
    "</div>\n"
   ]
  },
  {
   "cell_type": "markdown",
   "metadata": {},
   "source": [
    "#### gender — пол клиента\n",
    "Убрать значение XNA, такого пола нет\n",
    "\n",
    "Сначала еще раз посчитаем, сколько значений XNA сейчас:"
   ]
  },
  {
   "cell_type": "code",
   "execution_count": 19,
   "metadata": {},
   "outputs": [
    {
     "data": {
      "text/plain": [
       "1"
      ]
     },
     "execution_count": 19,
     "metadata": {},
     "output_type": "execute_result"
    }
   ],
   "source": [
    "df.loc[df['gender'] == 'XNA']['gender'].count() # считаем, сколько значений XNA сейчас"
   ]
  },
  {
   "cell_type": "code",
   "execution_count": 20,
   "metadata": {},
   "outputs": [
    {
     "data": {
      "text/plain": [
       "0"
      ]
     },
     "execution_count": 20,
     "metadata": {},
     "output_type": "execute_result"
    }
   ],
   "source": [
    "df = df.drop(df[df['gender']=='XNA'].index)\n",
    "df.loc[df['gender'] == 'XNA']['gender'].count() # проверяем количество XNA после обработки"
   ]
  },
  {
   "cell_type": "markdown",
   "metadata": {},
   "source": [
    "<div class=\"alert alert-success\">\n",
    "<b>Комментарий ревьюера:</b> Ок\n",
    "</div>\n"
   ]
  },
  {
   "cell_type": "markdown",
   "metadata": {},
   "source": [
    "### Обработка пропусков"
   ]
  },
  {
   "cell_type": "code",
   "execution_count": 21,
   "metadata": {
    "scrolled": false
   },
   "outputs": [
    {
     "name": "stdout",
     "output_type": "stream",
     "text": [
      "children               0\n",
      "days_employed       2162\n",
      "dob_years            100\n",
      "education              0\n",
      "education_id           0\n",
      "family_status          0\n",
      "family_status_id       0\n",
      "gender                 0\n",
      "income_type            0\n",
      "debt                   0\n",
      "total_income        2162\n",
      "purpose                0\n",
      "dtype: int64\n"
     ]
    }
   ],
   "source": [
    "print(df.isnull().sum()) # Считаем количество пропусков в датафрейме"
   ]
  },
  {
   "cell_type": "code",
   "execution_count": 22,
   "metadata": {
    "scrolled": true
   },
   "outputs": [
    {
     "data": {
      "text/plain": [
       "children               0\n",
       "days_employed       2162\n",
       "dob_years            100\n",
       "education              0\n",
       "education_id           0\n",
       "family_status          0\n",
       "family_status_id       0\n",
       "gender                 0\n",
       "income_type            0\n",
       "debt                   0\n",
       "total_income        2162\n",
       "purpose                0\n",
       "dtype: int64"
      ]
     },
     "execution_count": 22,
     "metadata": {},
     "output_type": "execute_result"
    }
   ],
   "source": [
    "df.isna().sum()"
   ]
  },
  {
   "cell_type": "markdown",
   "metadata": {},
   "source": [
    "Много пропусков, но только в 2 столбцах: трудовой стаж (days_employed) и ежемесячный доход (total_income), так же немного - возраст клиента (dob_years), но это нулевые значения. \n",
    "\n",
    "Пропуски в dob_years скорее всего ошибочно незаполненные данные. В случае с трудовым стажем и доходом пропуски могут быть случайными и нет.  Одна из причин - клиент никогда не работал и сейчас безработный. Либо же, работа с черной зп. Либо, банальное отсутсвие желания сообщать информацию о своих доходах. В любом случае, количество пропусков велико, что не позволяет нам их просто удалить. Что делать?\n",
    "* Как вариант, можно избавиться от всех данных с пропусками. Но пропусков много, мы сильно потеряем в количестве данных\n",
    "* Можно заменить данные на среднее арифметическое или медиану. Но заполнять одним значением 10% данных - грозит ошибкой\n",
    "* Можно попытаться заменить на среднее, сгруппировав по другим характеристикам\n",
    "\n",
    "Попробуем 3ий вариант:"
   ]
  },
  {
   "cell_type": "markdown",
   "metadata": {},
   "source": [
    "<div class=\"alert alert-success\">\n",
    "<b>Комментарий ревьюера:</b> Да, вариант с заменой по группам — оптимальный.\n",
    "</div>\n"
   ]
  },
  {
   "cell_type": "code",
   "execution_count": 23,
   "metadata": {},
   "outputs": [
    {
     "name": "stdout",
     "output_type": "stream",
     "text": [
      "Пропуски в датафрейме:\n",
      "\n",
      "children               0\n",
      "days_employed       2162\n",
      "dob_years            100\n",
      "education              0\n",
      "education_id           0\n",
      "family_status          0\n",
      "family_status_id       0\n",
      "gender                 0\n",
      "income_type            0\n",
      "debt                   0\n",
      "total_income        2162\n",
      "purpose                0\n",
      "dtype: int64\n",
      "\n",
      "Пропуски в датафрейме после обработки:\n"
     ]
    },
    {
     "data": {
      "text/plain": [
       "children            0\n",
       "days_employed       0\n",
       "dob_years           0\n",
       "education           0\n",
       "education_id        0\n",
       "family_status       0\n",
       "family_status_id    0\n",
       "gender              0\n",
       "income_type         0\n",
       "debt                0\n",
       "total_income        0\n",
       "purpose             0\n",
       "dtype: int64"
      ]
     },
     "execution_count": 23,
     "metadata": {},
     "output_type": "execute_result"
    }
   ],
   "source": [
    "print('Пропуски в датафрейме:' '\\n')\n",
    "print(df.isna().sum())\n",
    "df['days_employed'] = df.groupby(['income_type', 'children', 'education'])['days_employed'].transform(lambda x: x.fillna(x.mean()))\n",
    "df['dob_years'] = df.groupby(['income_type', 'children', 'education'])['dob_years'].transform(lambda x: x.fillna(x.mean()))\n",
    "df['total_income'] = df.groupby(['income_type','education'])['total_income'].transform(lambda x: x.fillna(x.mean()))\n",
    "print('\\n' 'Пропуски в датафрейме после обработки:')\n",
    "df.isna().sum()"
   ]
  },
  {
   "cell_type": "markdown",
   "metadata": {},
   "source": [
    "**Вывод**"
   ]
  },
  {
   "cell_type": "markdown",
   "metadata": {},
   "source": [
    "От пропусков избавились 3им способом. В итоге:\n",
    "* dob_years - средним значением по группам тип занятости, наличие детей и образование, тк по ним можно сделать вывод о возрасте;\n",
    "* days_employed - средним значением по группам: тип занятости, наличие детей и образование;\n",
    "* total_income - средним значением по группам: тип занятости, образование (если взять еще и по возрасту, то у меня остаются пропуски)"
   ]
  },
  {
   "cell_type": "markdown",
   "metadata": {},
   "source": [
    "<div class=\"alert alert-success\">\n",
    "<b>Комментарий ревьюера:</b> Пропуски обработаны. Ты сразу предполагаешь подходящие группы для замены, а еще можно поискать лучшие варианты экспериментально. Например, делаем разные группировки и считаем средний доход в этих группах. Если среднее получается похожим от группы к группе, то такие категории слабо связаны с доходом. А где больше всего разнится — там категории, для которых лучше всего и брать характерные значения.\n",
    "    \n",
    "</div>\n"
   ]
  },
  {
   "cell_type": "markdown",
   "metadata": {},
   "source": [
    "### Замена типа данных"
   ]
  },
  {
   "cell_type": "markdown",
   "metadata": {},
   "source": [
    "Как сейчас обстоят дела?"
   ]
  },
  {
   "cell_type": "code",
   "execution_count": 24,
   "metadata": {},
   "outputs": [
    {
     "data": {
      "text/plain": [
       "children              int64\n",
       "days_employed       float64\n",
       "dob_years           float64\n",
       "education            object\n",
       "education_id          int64\n",
       "family_status        object\n",
       "family_status_id      int64\n",
       "gender               object\n",
       "income_type          object\n",
       "debt                  int64\n",
       "total_income        float64\n",
       "purpose              object\n",
       "dtype: object"
      ]
     },
     "execution_count": 24,
     "metadata": {},
     "output_type": "execute_result"
    }
   ],
   "source": [
    "df.dtypes "
   ]
  },
  {
   "cell_type": "code",
   "execution_count": 25,
   "metadata": {},
   "outputs": [
    {
     "name": "stdout",
     "output_type": "stream",
     "text": [
      "<class 'pandas.core.frame.DataFrame'>\n",
      "Int64Index: 21401 entries, 0 to 21524\n",
      "Data columns (total 12 columns):\n",
      "children            21401 non-null int64\n",
      "days_employed       21401 non-null float64\n",
      "dob_years           21401 non-null float64\n",
      "education           21401 non-null object\n",
      "education_id        21401 non-null int64\n",
      "family_status       21401 non-null object\n",
      "family_status_id    21401 non-null int64\n",
      "gender              21401 non-null object\n",
      "income_type         21401 non-null object\n",
      "debt                21401 non-null int64\n",
      "total_income        21401 non-null float64\n",
      "purpose             21401 non-null object\n",
      "dtypes: float64(3), int64(4), object(5)\n",
      "memory usage: 2.1+ MB\n"
     ]
    }
   ],
   "source": [
    "df.info()"
   ]
  },
  {
   "cell_type": "code",
   "execution_count": 26,
   "metadata": {},
   "outputs": [
    {
     "name": "stdout",
     "output_type": "stream",
     "text": [
      "Типы данных после изменения:\n",
      " \n",
      " children             int64\n",
      "days_employed        int32\n",
      "dob_years            int64\n",
      "education           object\n",
      "education_id         int64\n",
      "family_status       object\n",
      "family_status_id     int64\n",
      "gender              object\n",
      "income_type         object\n",
      "debt                  bool\n",
      "total_income         int32\n",
      "purpose             object\n",
      "dtype: object\n"
     ]
    }
   ],
   "source": [
    "df['days_employed'] = df['days_employed'].astype('int32')\n",
    "df['total_income'] = df['total_income'].astype('int32')\n",
    "df['debt'] = df['debt'].astype('bool')\n",
    "df['dob_years'] = df['dob_years'].astype('int64')\n",
    "\n",
    "#Необязательные изменения:\n",
    "#df['children'] = df['children'].astype('int8')\n",
    "#df['family_status_id'] = df['family_status_id'].astype('int8') # Можно заменить на Int(8), тк там значения от 1-4. int(64) - это оверехед по памяти\n",
    "#df['education_id'] = df['education_id'].astype('int8')\n",
    "print('Типы данных после изменения:' '\\n','\\n', df.dtypes)"
   ]
  },
  {
   "cell_type": "markdown",
   "metadata": {},
   "source": [
    "**Вывод**\n",
    "* Изменил тип __days_employed__ с float(64) на int(32), так как мы имеем дело с днями, цифры после запятой излишни, неудобны для восприятия и могут приводить к неожиданным последствиям при манипуляциях с данными\n",
    "* Абсолютно аналогично изменил тип с float(64) на int(32) __total_income__ \n",
    "* Для __debt__ смена типа на bool была обоснована тем, что там всего 2 уникальных значения: 1 или 0\n",
    "* __dob_years__ изначально был в int(64)? но при заполнении средними значениями стал float(64). Вернул тип int(64)\n",
    "\n",
    "Было желание ради оптимизации использования памяти изменить типы с int(64) на int(8) или int(16) в столбцах __children, family_status_id, education_id__ тк значения с небольшим диапазоном. Но, думаю, заморачиваться в данном случае не стоит, у нас нет сложных алгоритмов, работа идет не с большими данными, так что это излишне."
   ]
  },
  {
   "cell_type": "markdown",
   "metadata": {},
   "source": [
    "<div class=\"alert alert-success\">\n",
    "<b>Комментарий ревьюера:</b> Типы привели, отлично. Позаботиться о потреблении памяти можно и ради тренировки) Но самое главное — сделать целочисленными переменные, в которых такой тип ожидается.\n",
    "</div>\n"
   ]
  },
  {
   "cell_type": "markdown",
   "metadata": {},
   "source": [
    "### Обработка дубликатов"
   ]
  },
  {
   "cell_type": "code",
   "execution_count": 27,
   "metadata": {},
   "outputs": [
    {
     "name": "stdout",
     "output_type": "stream",
     "text": [
      "Дубли в датафрейме:\n",
      "\n",
      "71\n",
      "\n",
      "Дубли в датафрейме после удаления дубликатов:\n",
      "\n"
     ]
    },
    {
     "data": {
      "text/plain": [
       "0"
      ]
     },
     "execution_count": 27,
     "metadata": {},
     "output_type": "execute_result"
    }
   ],
   "source": [
    "print('Дубли в датафрейме:' '\\n')\n",
    "print(df.duplicated().sum())\n",
    "df = df.drop_duplicates().reset_index(drop = True)\n",
    "print('\\n''Дубли в датафрейме после удаления дубликатов:' '\\n')\n",
    "df.duplicated().sum()"
   ]
  },
  {
   "cell_type": "markdown",
   "metadata": {},
   "source": [
    "**Вывод**\n",
    "В 2.1.4 были удалены дубли (приведением к одному регистру), вызванные написанием одних и тех же значений в столбце __education__ разным регистром\n",
    "\n",
    "Плюс, был найден 71 оставшийся дубликат, который был удален обычным методом _astype_ "
   ]
  },
  {
   "cell_type": "markdown",
   "metadata": {},
   "source": [
    "<div class=\"alert alert-success\">\n",
    "<b>Комментарий ревьюера:</b> Отлично, дубли устранили. Можешь ради интереса посмотреть, сколько было полных дублей строк до приведения регистра в образовании.\n",
    "</div>\n"
   ]
  },
  {
   "cell_type": "markdown",
   "metadata": {},
   "source": [
    "### Лемматизация"
   ]
  },
  {
   "cell_type": "code",
   "execution_count": 28,
   "metadata": {},
   "outputs": [
    {
     "data": {
      "text/plain": [
       "array(['покупка жилья', 'приобретение автомобиля',\n",
       "       'дополнительное образование', 'сыграть свадьбу',\n",
       "       'операции с жильем', 'образование', 'на проведение свадьбы',\n",
       "       'покупка жилья для семьи', 'покупка недвижимости',\n",
       "       'покупка коммерческой недвижимости', 'покупка жилой недвижимости',\n",
       "       'строительство собственной недвижимости', 'недвижимость',\n",
       "       'строительство недвижимости', 'на покупку подержанного автомобиля',\n",
       "       'на покупку своего автомобиля',\n",
       "       'операции с коммерческой недвижимостью',\n",
       "       'строительство жилой недвижимости', 'жилье',\n",
       "       'операции со своей недвижимостью', 'автомобили',\n",
       "       'заняться образованием', 'сделка с подержанным автомобилем',\n",
       "       'получение образования', 'автомобиль', 'свадьба',\n",
       "       'получение дополнительного образования', 'покупка своего жилья',\n",
       "       'операции с недвижимостью', 'получение высшего образования',\n",
       "       'свой автомобиль', 'сделка с автомобилем',\n",
       "       'профильное образование', 'высшее образование',\n",
       "       'покупка жилья для сдачи', 'на покупку автомобиля', 'ремонт жилью',\n",
       "       'заняться высшим образованием'], dtype=object)"
      ]
     },
     "execution_count": 28,
     "metadata": {},
     "output_type": "execute_result"
    }
   ],
   "source": [
    "df['purpose'].unique()"
   ]
  },
  {
   "cell_type": "markdown",
   "metadata": {},
   "source": [
    "Как мы заметили еще в Шаге1, здесь нужна лематизация, чтоб убрать дубликаты. Из выделив все уникальные значения, явно проглядываются 4 цели:\n",
    "* Организация свадьбы\n",
    "* Покупка автомобиля\n",
    "* Операция с недвижимостью\n",
    "* Образование\n",
    "Нужно выделить леммы и привести столбец purpose к новым значениям"
   ]
  },
  {
   "cell_type": "code",
   "execution_count": 29,
   "metadata": {},
   "outputs": [
    {
     "name": "stdout",
     "output_type": "stream",
     "text": [
      "['операция с недвижимостью' 'покупка автомобиля' 'образование'\n",
      " 'организация свадьбы']\n"
     ]
    }
   ],
   "source": [
    "# Старое, немного поправленное рабочее решение\n",
    "from pymystem3 import Mystem\n",
    "from collections import Counter\n",
    "m = Mystem()\n",
    "\n",
    "def lem_func(row):\n",
    "    lemmas = m.lemmatize(row['purpose'])\n",
    "    return lemmas\n",
    "\n",
    "purpose_row = df.apply(lem_func, axis=1).reset_index(drop=True)\n",
    "purpose_row.explode().duplicated()\n",
    "\n",
    "for counter_1 in range(len(df)): \n",
    "    lemm = purpose_row[counter_1]\n",
    "    for counter_2 in range(len(lemm)):\n",
    "        if lemm[counter_2] == 'свадьба':\n",
    "            df.loc[counter_1,'purpose'] = 'организация свадьбы'\n",
    "        if lemm[counter_2] == 'автомобиль':\n",
    "            df.loc[counter_1,'purpose'] = 'покупка автомобиля'\n",
    "        if lemm[counter_2] == 'жилье':\n",
    "            df.loc[counter_1,'purpose'] = 'операция с недвижимостью'\n",
    "        if lemm[counter_2] == 'недвижимость':\n",
    "            df.loc[counter_1,'purpose'] = 'операция с недвижимостью'\n",
    "        if lemm[counter_2] == 'образование':\n",
    "            df.loc[counter_1,'purpose'] = 'образование'\n",
    "            \n",
    "print(df['purpose'].unique())"
   ]
  },
  {
   "cell_type": "code",
   "execution_count": 30,
   "metadata": {},
   "outputs": [
    {
     "data": {
      "text/plain": [
       "\" # Новое решение, которое не смогло :(\\nfrom pymystem3 import Mystem\\nfrom collections import Counter\\nm = Mystem()\\n\\ndef lem_func(row):\\n    lemmas = m.lemmatize(row['purpose'])\\n    return lemmas\\n\\npurpose_row = df.apply(lem_func, axis=1).reset_index(drop=True)\\nprint(purpose_row.explode())\\n#print(purpose_row)\\n\\ndef purpose_change(row): # Фукнция для подстановки лемм в столбец\\n    lemmas_row = m.lemmatize(purpose)\\n    if lemmas_row == 'свадьба':\\n        return 'организация свадьбы'\\n    if lemmas_row == 'автомобиль':\\n        return 'покупка автомобиля'\\n    if lemmas_row == 'жилье':\\n        return 'операция с недвижимостью'\\n    if lemmas_row == 'недвижимость':\\n        return 'операция с недвижимостью'\\n    if lemmas_row == 'образование':\\n        return 'образование'\\nrow = pd.Series(data=row_values, index=row_columns)\\ndf['purpose']= df.apply(purpose_change)        \\nprint(df.head(20))\\n\""
      ]
     },
     "execution_count": 30,
     "metadata": {},
     "output_type": "execute_result"
    }
   ],
   "source": [
    "\"\"\" # Новое решение, которое не смогло :(\n",
    "from pymystem3 import Mystem\n",
    "from collections import Counter\n",
    "m = Mystem()\n",
    "\n",
    "def lem_func(row):\n",
    "    lemmas = m.lemmatize(row['purpose'])\n",
    "    return lemmas\n",
    "\n",
    "purpose_row = df.apply(lem_func, axis=1).reset_index(drop=True)\n",
    "print(purpose_row.explode())\n",
    "#print(purpose_row)\n",
    "\n",
    "def purpose_change(row): # Фукнция для подстановки лемм в столбец\n",
    "    lemmas_row = m.lemmatize(purpose)\n",
    "    if lemmas_row == 'свадьба':\n",
    "        return 'организация свадьбы'\n",
    "    if lemmas_row == 'автомобиль':\n",
    "        return 'покупка автомобиля'\n",
    "    if lemmas_row == 'жилье':\n",
    "        return 'операция с недвижимостью'\n",
    "    if lemmas_row == 'недвижимость':\n",
    "        return 'операция с недвижимостью'\n",
    "    if lemmas_row == 'образование':\n",
    "        return 'образование'\n",
    "row = pd.Series(data=row_values, index=row_columns)\n",
    "df['purpose']= df.apply(purpose_change)        \n",
    "print(df.head(20))\n",
    "\"\"\""
   ]
  },
  {
   "cell_type": "markdown",
   "metadata": {},
   "source": [
    "<div class=\"alert alert-warning\">\n",
    "<b>Комментарий ревьюера:</b> Не стоит перебирать весь датафрейм построчно циклом for — это медленно. Лучше для такой операции тоже написать функцию и передать ее в apply().\n",
    "</div>\n"
   ]
  },
  {
   "cell_type": "markdown",
   "metadata": {},
   "source": [
    "<div class=\"alert alert-info\"> <b>Комментарий студента:</b> Да сразу было понятно, что решение неизящное, но к сожалению, пока не удалось сделать за вменяемое время 2ую функцию и чтоб все взлетело :(</div>"
   ]
  },
  {
   "cell_type": "markdown",
   "metadata": {},
   "source": [
    "<div class=\"alert alert-success\">\n",
    "<b>Комментарий ревьюера v2:</b> Смотри, метод m.lemmatize можно сразу передать в apply() и так получить новый столбец с леммами. А затем пишем функцию, которая на условных операторах проверяет вхождение ключевого слова в столбец с леммами и возвращает категорию — так получим столбец с самими категориями.\n",
    "</div>"
   ]
  },
  {
   "cell_type": "code",
   "execution_count": 31,
   "metadata": {},
   "outputs": [
    {
     "data": {
      "text/plain": [
       "21315          покупка автомобиля\n",
       "21316    операция с недвижимостью\n",
       "21317                 образование\n",
       "21318    операция с недвижимостью\n",
       "21319    операция с недвижимостью\n",
       "21320                 образование\n",
       "21321    операция с недвижимостью\n",
       "21322          покупка автомобиля\n",
       "21323          покупка автомобиля\n",
       "21324    операция с недвижимостью\n",
       "21325    операция с недвижимостью\n",
       "21326          покупка автомобиля\n",
       "21327    операция с недвижимостью\n",
       "21328          покупка автомобиля\n",
       "21329          покупка автомобиля\n",
       "Name: purpose, dtype: object"
      ]
     },
     "execution_count": 31,
     "metadata": {},
     "output_type": "execute_result"
    }
   ],
   "source": [
    "df['purpose'].tail(15)"
   ]
  },
  {
   "cell_type": "markdown",
   "metadata": {},
   "source": [
    "**Вывод**"
   ]
  },
  {
   "cell_type": "markdown",
   "metadata": {},
   "source": [
    "Из всего столбца __purpose__ выделены 4 основные категории, которые теперь являются целями кредита, дублей по значению больше нет"
   ]
  },
  {
   "cell_type": "markdown",
   "metadata": {},
   "source": [
    "<div class=\"alert alert-success\">\n",
    "<b>Комментарий ревьюера:</b> Отлично, лемматизация выполнена.\n",
    "</div>\n"
   ]
  },
  {
   "cell_type": "markdown",
   "metadata": {},
   "source": [
    "### Категоризация данных"
   ]
  },
  {
   "cell_type": "markdown",
   "metadata": {},
   "source": [
    "Хотелось бы выделить категории по:\n",
    "* __доходу__, поэтому разделим людей на разные доходы: низкий, средний, высокий, очень высокий \n",
    "* __количеству детей__ - есть до 2 детей, многодетная семья, нет\n",
    "* __семейному положению__ - и __цели кредита__ немногочисленны, по этому, сами по себе категории"
   ]
  },
  {
   "cell_type": "markdown",
   "metadata": {},
   "source": [
    "<div class=\"alert alert-success\">\n",
    "<b>Комментарий ревьюера:</b> Да, хороший подход.\n",
    "</div>\n"
   ]
  },
  {
   "cell_type": "code",
   "execution_count": 32,
   "metadata": {
    "scrolled": false
   },
   "outputs": [
    {
     "name": "stdout",
     "output_type": "stream",
     "text": [
      "152411.0\n",
      "167509.12930145336\n"
     ]
    },
    {
     "data": {
      "text/plain": [
       "income_type      education          \n",
       "безработный      высшее                 202722.000000\n",
       "                 среднее                 59956.000000\n",
       "в декрете        среднее                 53829.000000\n",
       "госслужащий      высшее                 197102.758684\n",
       "                 начальное              184056.000000\n",
       "                 неоконченное высшее    172476.365385\n",
       "                 среднее                153874.790036\n",
       "                 ученая степень         111392.000000\n",
       "компаньон        высшее                 242575.235228\n",
       "                 начальное              165056.566667\n",
       "                 неоконченное высшее    197873.071685\n",
       "                 среднее                179573.143919\n",
       "пенсионер        высшее                 170667.297909\n",
       "                 начальное              111314.424242\n",
       "                 неоконченное высшее    138311.682927\n",
       "                 среднее                131772.754199\n",
       "                 ученая степень         177088.500000\n",
       "предприниматель  высшее                 499163.000000\n",
       "сотрудник        высшее                 191820.020215\n",
       "                 начальное              137212.310345\n",
       "                 неоконченное высшее    174431.747283\n",
       "                 среднее                152568.355517\n",
       "                 ученая степень         194310.000000\n",
       "студент          высшее                  98201.000000\n",
       "Name: total_income, dtype: float64"
      ]
     },
     "execution_count": 32,
     "metadata": {},
     "output_type": "execute_result"
    }
   ],
   "source": [
    "print(df['total_income'].median())\n",
    "print(df['total_income'].mean())\n",
    "\n",
    "df.groupby(['income_type', 'education'])['total_income'].mean()"
   ]
  },
  {
   "cell_type": "markdown",
   "metadata": {},
   "source": [
    "// Что-то многовато в среднем получают у вас люди, даже для Москвы :)\n",
    "\n",
    "Для начала, категоризируем доход в категории \"низкий\", \"средний\", \"высокий\" и \"очень высокий\" и количество детей в \"есть дети\", \"бездетная семья\" и \"многодетная семья\""
   ]
  },
  {
   "cell_type": "code",
   "execution_count": 33,
   "metadata": {},
   "outputs": [],
   "source": [
    "def income_func(income):\n",
    "    if income <= 50000:\n",
    "        return 'низкий'\n",
    "    if income <= 160000:\n",
    "        return 'средний'\n",
    "    if income <= 300000:\n",
    "        return 'высокий'\n",
    "    return 'очень высокий'\n",
    "df['income_level'] = df['total_income'].apply(income_func)\n",
    "\n",
    "def child_func(childs):\n",
    "    if childs == 0:\n",
    "        return 'бездетная семья'\n",
    "    if childs <=2:\n",
    "        return 'есть дети'\n",
    "    if childs > 2:\n",
    "        return 'многодетная семья'\n",
    "df['child_level'] = df['children'].apply(child_func)"
   ]
  },
  {
   "cell_type": "markdown",
   "metadata": {},
   "source": [
    "Так как у нас неплательщик это __1__, а плательщик __0__ - можно просто просуммировать значения. __sum__ вместо __count__. А если посчитать __mean__ - получится как раз доля неплательщиков.\n",
    "Сгруппируем долю неплательщиков по: \n",
    "* уровню дохода\n",
    "* наличию детей\n",
    "* целям кредита\n",
    "* семейному положению\n"
   ]
  },
  {
   "cell_type": "code",
   "execution_count": 34,
   "metadata": {},
   "outputs": [
    {
     "name": "stdout",
     "output_type": "stream",
     "text": [
      "Доля неплательщиков по уровню доходу: \n",
      " income_level\n",
      "высокий          0.076295\n",
      "низкий           0.061995\n",
      "очень высокий    0.071913\n",
      "средний          0.086079\n",
      "Name: debt, dtype: float64\n",
      "\n",
      " Доля неплательщиков по наличию детей: \n",
      " child_level\n",
      "бездетная семья      0.075444\n",
      "есть дети            0.093003\n",
      "многодетная семья    0.081579\n",
      "Name: debt, dtype: float64\n",
      "\n",
      " Доля неплательщиков по целям кредита: \n",
      " purpose\n",
      "образование                 0.092528\n",
      "операция с недвижимостью    0.072558\n",
      "организация свадьбы         0.079118\n",
      "покупка автомобиля          0.093480\n",
      "Name: debt, dtype: float64\n",
      "\n",
      " Доля неплательщиков по семейному положению: \n",
      " family_status\n",
      "Не женат / не замужем    0.097639\n",
      "в разводе                0.070648\n",
      "вдовец / вдова           0.066246\n",
      "гражданский брак         0.093153\n",
      "женат / замужем          0.075606\n",
      "Name: debt, dtype: float64\n"
     ]
    }
   ],
   "source": [
    "print('Доля неплательщиков по уровню доходу:', '\\n', df.groupby('income_level')['debt'].mean())\n",
    "print('\\n','Доля неплательщиков по наличию детей:','\\n', df.groupby('child_level')['debt'].mean())\n",
    "print('\\n','Доля неплательщиков по целям кредита:','\\n', df.groupby('purpose')['debt'].mean())\n",
    "print('\\n','Доля неплательщиков по семейному положению:','\\n', df.groupby('family_status')['debt'].mean())"
   ]
  },
  {
   "cell_type": "markdown",
   "metadata": {},
   "source": [
    "<div class=\"alert alert-success\">\n",
    "<b>Комментарий ревьюера:</b> Отлично, категории выделили, и метрику тоже выбрали правильную. \n",
    "</div>\n"
   ]
  },
  {
   "cell_type": "markdown",
   "metadata": {},
   "source": [
    "**Вывод**"
   ]
  },
  {
   "cell_type": "markdown",
   "metadata": {},
   "source": [
    "Выделил категории дохода: \n",
    "* доход - \"низкий\", \"средний\", \"высокий\" и \"очень высокий\"\n",
    "* количество детей - в \"есть дети\", \"бездетная семья\" и \"многодетная семья\"\n",
    "\n",
    "Заодно, подсчитал долю неплательщиков в каждой категории"
   ]
  },
  {
   "cell_type": "markdown",
   "metadata": {},
   "source": [
    "<div class=\"alert alert-success\">\n",
    "<b>Комментарий ревьюера:</b> Постарайся подводить итоги в подпункте с выводом, они как раз для этого в шаблоне :)\n",
    "</div>\n"
   ]
  },
  {
   "cell_type": "markdown",
   "metadata": {},
   "source": [
    "<div class=\"alert alert-info\"> <b>Комментарий студента:</b> Добавил вывод</div>"
   ]
  },
  {
   "cell_type": "markdown",
   "metadata": {},
   "source": [
    "## Шаг 3. Ответьте на вопросы"
   ]
  },
  {
   "cell_type": "markdown",
   "metadata": {},
   "source": [
    "- Есть ли зависимость между наличием детей и возвратом кредита в срок?"
   ]
  },
  {
   "cell_type": "code",
   "execution_count": 35,
   "metadata": {},
   "outputs": [
    {
     "data": {
      "text/html": [
       "<div>\n",
       "<style scoped>\n",
       "    .dataframe tbody tr th:only-of-type {\n",
       "        vertical-align: middle;\n",
       "    }\n",
       "\n",
       "    .dataframe tbody tr th {\n",
       "        vertical-align: top;\n",
       "    }\n",
       "\n",
       "    .dataframe thead th {\n",
       "        text-align: right;\n",
       "    }\n",
       "</style>\n",
       "<table border=\"1\" class=\"dataframe\">\n",
       "  <thead>\n",
       "    <tr style=\"text-align: right;\">\n",
       "      <th></th>\n",
       "      <th>debt</th>\n",
       "    </tr>\n",
       "    <tr>\n",
       "      <th>child_level</th>\n",
       "      <th></th>\n",
       "    </tr>\n",
       "  </thead>\n",
       "  <tbody>\n",
       "    <tr>\n",
       "      <td>бездетная семья</td>\n",
       "      <td>0.075444</td>\n",
       "    </tr>\n",
       "    <tr>\n",
       "      <td>есть дети</td>\n",
       "      <td>0.093003</td>\n",
       "    </tr>\n",
       "    <tr>\n",
       "      <td>многодетная семья</td>\n",
       "      <td>0.081579</td>\n",
       "    </tr>\n",
       "  </tbody>\n",
       "</table>\n",
       "</div>"
      ],
      "text/plain": [
       "                       debt\n",
       "child_level                \n",
       "бездетная семья    0.075444\n",
       "есть дети          0.093003\n",
       "многодетная семья  0.081579"
      ]
     },
     "execution_count": 35,
     "metadata": {},
     "output_type": "execute_result"
    }
   ],
   "source": [
    "df.pivot_table(index='child_level', values='debt', aggfunc='mean')"
   ]
  },
  {
   "cell_type": "markdown",
   "metadata": {},
   "source": [
    "**Вывод**"
   ]
  },
  {
   "cell_type": "markdown",
   "metadata": {},
   "source": [
    "Доля неплательщиков без детей намного ниже, чем у тех, у кого есть дети (до 2 детей), и ниже, чем у многодетных семей (более 2). "
   ]
  },
  {
   "cell_type": "markdown",
   "metadata": {},
   "source": [
    "<div class=\"alert alert-success\">\n",
    "<b>Комментарий ревьюера:</b> Верно.\n",
    "</div>\n"
   ]
  },
  {
   "cell_type": "markdown",
   "metadata": {},
   "source": [
    "- Есть ли зависимость между семейным положением и возвратом кредита в срок?"
   ]
  },
  {
   "cell_type": "code",
   "execution_count": 36,
   "metadata": {},
   "outputs": [
    {
     "data": {
      "text/html": [
       "<div>\n",
       "<style scoped>\n",
       "    .dataframe tbody tr th:only-of-type {\n",
       "        vertical-align: middle;\n",
       "    }\n",
       "\n",
       "    .dataframe tbody tr th {\n",
       "        vertical-align: top;\n",
       "    }\n",
       "\n",
       "    .dataframe thead th {\n",
       "        text-align: right;\n",
       "    }\n",
       "</style>\n",
       "<table border=\"1\" class=\"dataframe\">\n",
       "  <thead>\n",
       "    <tr style=\"text-align: right;\">\n",
       "      <th></th>\n",
       "      <th>debt</th>\n",
       "    </tr>\n",
       "    <tr>\n",
       "      <th>family_status</th>\n",
       "      <th></th>\n",
       "    </tr>\n",
       "  </thead>\n",
       "  <tbody>\n",
       "    <tr>\n",
       "      <td>Не женат / не замужем</td>\n",
       "      <td>0.097639</td>\n",
       "    </tr>\n",
       "    <tr>\n",
       "      <td>в разводе</td>\n",
       "      <td>0.070648</td>\n",
       "    </tr>\n",
       "    <tr>\n",
       "      <td>вдовец / вдова</td>\n",
       "      <td>0.066246</td>\n",
       "    </tr>\n",
       "    <tr>\n",
       "      <td>гражданский брак</td>\n",
       "      <td>0.093153</td>\n",
       "    </tr>\n",
       "    <tr>\n",
       "      <td>женат / замужем</td>\n",
       "      <td>0.075606</td>\n",
       "    </tr>\n",
       "  </tbody>\n",
       "</table>\n",
       "</div>"
      ],
      "text/plain": [
       "                           debt\n",
       "family_status                  \n",
       "Не женат / не замужем  0.097639\n",
       "в разводе              0.070648\n",
       "вдовец / вдова         0.066246\n",
       "гражданский брак       0.093153\n",
       "женат / замужем        0.075606"
      ]
     },
     "execution_count": 36,
     "metadata": {},
     "output_type": "execute_result"
    }
   ],
   "source": [
    "df.pivot_table(index='family_status', values='debt', aggfunc='mean')"
   ]
  },
  {
   "cell_type": "markdown",
   "metadata": {},
   "source": [
    "**Вывод**"
   ]
  },
  {
   "cell_type": "markdown",
   "metadata": {},
   "source": [
    "Доля неплательщиков самая высокая у неженатых/незамужних (0.097) и тех, кто в гражданском браке (0.093). Самая низкая - у вдовцов/вдов (0.066) и чуть выше тех, кто в разводе (0.07) и женат/замужем (0.076)"
   ]
  },
  {
   "cell_type": "markdown",
   "metadata": {},
   "source": [
    "<div class=\"alert alert-success\">\n",
    "<b>Комментарий ревьюера:</b> Здесь забыл переписать вывод, хотя в итоговом выводе он есть)\n",
    "\n",
    "<b>Комментарий ревьюера v2:</b> 👍</div>\n"
   ]
  },
  {
   "cell_type": "markdown",
   "metadata": {},
   "source": [
    "<div class=\"alert alert-info\"> <b>Комментарий студента:</b> Да, шальной копипаст и невнимательность, исправил</div>"
   ]
  },
  {
   "cell_type": "markdown",
   "metadata": {},
   "source": [
    "- Есть ли зависимость между уровнем дохода и возвратом кредита в срок?"
   ]
  },
  {
   "cell_type": "code",
   "execution_count": 37,
   "metadata": {},
   "outputs": [
    {
     "data": {
      "text/html": [
       "<div>\n",
       "<style scoped>\n",
       "    .dataframe tbody tr th:only-of-type {\n",
       "        vertical-align: middle;\n",
       "    }\n",
       "\n",
       "    .dataframe tbody tr th {\n",
       "        vertical-align: top;\n",
       "    }\n",
       "\n",
       "    .dataframe thead th {\n",
       "        text-align: right;\n",
       "    }\n",
       "</style>\n",
       "<table border=\"1\" class=\"dataframe\">\n",
       "  <thead>\n",
       "    <tr style=\"text-align: right;\">\n",
       "      <th></th>\n",
       "      <th>debt</th>\n",
       "    </tr>\n",
       "    <tr>\n",
       "      <th>income_level</th>\n",
       "      <th></th>\n",
       "    </tr>\n",
       "  </thead>\n",
       "  <tbody>\n",
       "    <tr>\n",
       "      <td>высокий</td>\n",
       "      <td>0.076295</td>\n",
       "    </tr>\n",
       "    <tr>\n",
       "      <td>низкий</td>\n",
       "      <td>0.061995</td>\n",
       "    </tr>\n",
       "    <tr>\n",
       "      <td>очень высокий</td>\n",
       "      <td>0.071913</td>\n",
       "    </tr>\n",
       "    <tr>\n",
       "      <td>средний</td>\n",
       "      <td>0.086079</td>\n",
       "    </tr>\n",
       "  </tbody>\n",
       "</table>\n",
       "</div>"
      ],
      "text/plain": [
       "                   debt\n",
       "income_level           \n",
       "высокий        0.076295\n",
       "низкий         0.061995\n",
       "очень высокий  0.071913\n",
       "средний        0.086079"
      ]
     },
     "execution_count": 37,
     "metadata": {},
     "output_type": "execute_result"
    }
   ],
   "source": [
    "df.pivot_table(index='income_level', values='debt', aggfunc='mean')"
   ]
  },
  {
   "cell_type": "markdown",
   "metadata": {},
   "source": [
    "**Вывод**"
   ]
  },
  {
   "cell_type": "markdown",
   "metadata": {},
   "source": [
    "Немного странная зависимость. Наибольшая доля неплательщиков - со средним доходом - 0.086. Наименьшая - у клиентов с низким доходом - 0.06. У клиентов с высоким и очень высоким доходом - показатели средние"
   ]
  },
  {
   "cell_type": "markdown",
   "metadata": {},
   "source": [
    "<div class=\"alert alert-success\">\n",
    "<b>Комментарий ревьюера:</b> Здесь метрика очень чувствительна к способу категоризации по доходу. Можешь посмотреть, насколько равномерно поделились клиенты по группам. Если какая-то из них крайне малочисленна, то ее нельзя учитывать в анализе. Но в целом примерно так и получается, что в нашем датасете у среднего уровня дохода наибольшая доля просрочек.\n",
    "</div>\n"
   ]
  },
  {
   "cell_type": "markdown",
   "metadata": {},
   "source": [
    "- Как разные цели кредита влияют на его возврат в срок?"
   ]
  },
  {
   "cell_type": "code",
   "execution_count": 38,
   "metadata": {},
   "outputs": [
    {
     "data": {
      "text/html": [
       "<div>\n",
       "<style scoped>\n",
       "    .dataframe tbody tr th:only-of-type {\n",
       "        vertical-align: middle;\n",
       "    }\n",
       "\n",
       "    .dataframe tbody tr th {\n",
       "        vertical-align: top;\n",
       "    }\n",
       "\n",
       "    .dataframe thead th {\n",
       "        text-align: right;\n",
       "    }\n",
       "</style>\n",
       "<table border=\"1\" class=\"dataframe\">\n",
       "  <thead>\n",
       "    <tr style=\"text-align: right;\">\n",
       "      <th></th>\n",
       "      <th>debt</th>\n",
       "    </tr>\n",
       "    <tr>\n",
       "      <th>purpose</th>\n",
       "      <th></th>\n",
       "    </tr>\n",
       "  </thead>\n",
       "  <tbody>\n",
       "    <tr>\n",
       "      <td>образование</td>\n",
       "      <td>0.092528</td>\n",
       "    </tr>\n",
       "    <tr>\n",
       "      <td>операция с недвижимостью</td>\n",
       "      <td>0.072558</td>\n",
       "    </tr>\n",
       "    <tr>\n",
       "      <td>организация свадьбы</td>\n",
       "      <td>0.079118</td>\n",
       "    </tr>\n",
       "    <tr>\n",
       "      <td>покупка автомобиля</td>\n",
       "      <td>0.093480</td>\n",
       "    </tr>\n",
       "  </tbody>\n",
       "</table>\n",
       "</div>"
      ],
      "text/plain": [
       "                              debt\n",
       "purpose                           \n",
       "образование               0.092528\n",
       "операция с недвижимостью  0.072558\n",
       "организация свадьбы       0.079118\n",
       "покупка автомобиля        0.093480"
      ]
     },
     "execution_count": 38,
     "metadata": {},
     "output_type": "execute_result"
    }
   ],
   "source": [
    "df.pivot_table(index='purpose', values='debt', aggfunc='mean')"
   ]
  },
  {
   "cell_type": "markdown",
   "metadata": {},
   "source": [
    "**Вывод**"
   ]
  },
  {
   "cell_type": "markdown",
   "metadata": {},
   "source": [
    "Наибольшая доля неплательщиков - среди тех, кто берет кредит на образование и автомобиль. Меньшая - у тех, кто берет на свадьбу и на вопросы, связанные с недвижимостью"
   ]
  },
  {
   "cell_type": "markdown",
   "metadata": {},
   "source": [
    "<div class=\"alert alert-success\">\n",
    "<b>Комментарий ревьюера:</b> 👍\n",
    "</div>\n"
   ]
  },
  {
   "cell_type": "markdown",
   "metadata": {},
   "source": [
    "<div class=\"alert alert-success\">\n",
    "<b>Комментарий ревьюера:</b> Здорово, что используешь pivot_table() для вывода финальных результатов — это полезный метод, и его важно освоить.\n",
    "</div>\n"
   ]
  },
  {
   "cell_type": "markdown",
   "metadata": {},
   "source": [
    "## Шаг 4. Общий вывод"
   ]
  },
  {
   "cell_type": "markdown",
   "metadata": {},
   "source": [
    "Резюмирая, мы попытались увидеть зависимость возврата кредита от __дохода, цели кредита, семейного положения и количества детей__.\n",
    "\n",
    "* __*Количество детей*__\n",
    "    Наименьшая доля неплательщиков (0.075) - у бездетных\n",
    "    Наибольшая доля неплательщиков (0.09) - у тех, у кого есть 1 и 2 ребенка\n",
    "    У многодетных (более 2 детей) показатель средний (0.08)\n",
    "\n",
    "* __*Семейное положение*__\n",
    "    Наименьшая доля неплательщиков (0.066) - у тех, кто потерял супруга\n",
    "    Наибольшая доля неплательщиков (0.097) - у тех, кто не женат/не замужем и в гражданском браке (0.093)\n",
    "\n",
    "* __*Уровень дохода*__ есть неочевидная зависимость\n",
    "    Те, у кого самый низкий доход реже всего являются неплательщиками (0.06), тогда как люди со средним доходом чаще всего становятся должниками (0.086)\n",
    "\n",
    "* __*Цель кредита*__ довольно полярно расположились причины кредита:  \n",
    "    Наименьшая доля неплательщиков: (0.07) - у тех, кто берет кредит на недвижимость. Никто не хочет остаться без жилья. \n",
    "    Наибольшая доля неплательщиков: (0.093) - у тех, кто берет кредит на автомобиль и образование (0.092). Возможно, автомобиль часто берется не по средствам, а студенты не всегда могут погасить кредит на образование."
   ]
  },
  {
   "cell_type": "markdown",
   "metadata": {},
   "source": [
    "<div class=\"alert alert-success\">\n",
    "<b>Комментарий ревьюера:</b> Отлично, на вопросы исследования ответили. Здесь можно округлить метрики до 2 знаков после запятой — большая точность нам не слишком нужна для качественного вывода, а восприятию мешает.\n",
    "</div>\n"
   ]
  },
  {
   "cell_type": "markdown",
   "metadata": {},
   "source": [
    "<div class=\"alert alert-info\"> <b>Комментарий студента:</b> Округлил до 2-3 знаков после запятой </div>"
   ]
  },
  {
   "cell_type": "markdown",
   "metadata": {},
   "source": [
    "<div class=\"alert alert-success\">\n",
    "<b>Комментарий ревьюера v2:</b> Хорошо, теперь легче прочитать цифры."
   ]
  },
  {
   "cell_type": "markdown",
   "metadata": {},
   "source": [
    "## Чек-лист готовности проекта\n",
    "\n",
    "Поставьте 'x' в выполненных пунктах. Далее нажмите Shift+Enter."
   ]
  },
  {
   "cell_type": "markdown",
   "metadata": {},
   "source": [
    "- [x]  открыт файл;\n",
    "- [x]  файл изучен;\n",
    "- [x]  определены пропущенные значения;\n",
    "- [x]  заполнены пропущенные значения;\n",
    "- [x]  есть пояснение, какие пропущенные значения обнаружены;\n",
    "- [x]  описаны возможные причины появления пропусков в данных;\n",
    "- [x]  объяснено, по какому принципу заполнены пропуски;\n",
    "- [x]  заменен вещественный тип данных на целочисленный;\n",
    "- [x]  есть пояснение, какой метод используется для изменения типа данных и почему;\n",
    "- [x]  удалены дубликаты;\n",
    "- [x]  есть пояснение, какой метод используется для поиска и удаления дубликатов;\n",
    "- [x]  описаны возможные причины появления дубликатов в данных;\n",
    "- [x]  выделены леммы в значениях столбца с целями получения кредита;\n",
    "- [x]  описан процесс лемматизации;\n",
    "- [x]  данные категоризированы;\n",
    "- [x]  есть объяснение принципа категоризации данных;\n",
    "- [x]  есть ответ на вопрос: \"Есть ли зависимость между наличием детей и возвратом кредита в срок?\";\n",
    "- [x]  есть ответ на вопрос: \"Есть ли зависимость между семейным положением и возвратом кредита в срок?\";\n",
    "- [x]  есть ответ на вопрос: \"Есть ли зависимость между уровнем дохода и возвратом кредита в срок?\";\n",
    "- [x]  есть ответ на вопрос: \"Как разные цели кредита влияют на его возврат в срок?\";\n",
    "- [x]  в каждом этапе есть выводы;\n",
    "- [x]  есть общий вывод."
   ]
  },
  {
   "cell_type": "markdown",
   "metadata": {
    "toc": true
   },
   "source": [
    "<h1>Содержание<span class=\"tocSkip\"></span></h1>\n",
    "<div class=\"toc\"><ul class=\"toc-item\"><li><span><a href=\"#Шаг-1.-Откройте-файл-с-данными-и-изучите-общую-информацию\" data-toc-modified-id=\"Шаг-1.-Откройте-файл-с-данными-и-изучите-общую-информацию-1\"><span class=\"toc-item-num\">1&nbsp;&nbsp;</span>Шаг 1. Откройте файл с данными и изучите общую информацию</a></span></li><li><span><a href=\"#Шаг-2.-Предобработка-данных\" data-toc-modified-id=\"Шаг-2.-Предобработка-данных-2\"><span class=\"toc-item-num\">2&nbsp;&nbsp;</span>Шаг 2. Предобработка данных</a></span><ul class=\"toc-item\"><li><span><a href=\"#Обработка-аномалий\" data-toc-modified-id=\"Обработка-аномалий-2.1\"><span class=\"toc-item-num\">2.1&nbsp;&nbsp;</span>Обработка аномалий</a></span><ul class=\"toc-item\"><li><span><a href=\"#Cтолбец-children\" data-toc-modified-id=\"Cтолбец-children-2.1.1\"><span class=\"toc-item-num\">2.1.1&nbsp;&nbsp;</span>Cтолбец children</a></span></li><li><span><a href=\"#days_employed\" data-toc-modified-id=\"days_employed-2.1.2\"><span class=\"toc-item-num\">2.1.2&nbsp;&nbsp;</span>days_employed</a></span></li><li><span><a href=\"#dob_years-—-возраст-клиента-в-годах\" data-toc-modified-id=\"dob_years-—-возраст-клиента-в-годах-2.1.3\"><span class=\"toc-item-num\">2.1.3&nbsp;&nbsp;</span>dob_years — возраст клиента в годах</a></span></li><li><span><a href=\"#education-—-уровень-образования-клиента\" data-toc-modified-id=\"education-—-уровень-образования-клиента-2.1.4\"><span class=\"toc-item-num\">2.1.4&nbsp;&nbsp;</span>education — уровень образования клиента</a></span></li><li><span><a href=\"#gender-—-пол-клиента\" data-toc-modified-id=\"gender-—-пол-клиента-2.1.5\"><span class=\"toc-item-num\">2.1.5&nbsp;&nbsp;</span>gender — пол клиента</a></span></li></ul></li><li><span><a href=\"#Обработка-пропусков\" data-toc-modified-id=\"Обработка-пропусков-2.2\"><span class=\"toc-item-num\">2.2&nbsp;&nbsp;</span>Обработка пропусков</a></span></li><li><span><a href=\"#Замена-типа-данных\" data-toc-modified-id=\"Замена-типа-данных-2.3\"><span class=\"toc-item-num\">2.3&nbsp;&nbsp;</span>Замена типа данных</a></span></li><li><span><a href=\"#Обработка-дубликатов\" data-toc-modified-id=\"Обработка-дубликатов-2.4\"><span class=\"toc-item-num\">2.4&nbsp;&nbsp;</span>Обработка дубликатов</a></span></li><li><span><a href=\"#Лемматизация\" data-toc-modified-id=\"Лемматизация-2.5\"><span class=\"toc-item-num\">2.5&nbsp;&nbsp;</span>Лемматизация</a></span></li><li><span><a href=\"#Категоризация-данных\" data-toc-modified-id=\"Категоризация-данных-2.6\"><span class=\"toc-item-num\">2.6&nbsp;&nbsp;</span>Категоризация данных</a></span></li></ul></li><li><span><a href=\"#Шаг-3.-Ответьте-на-вопросы\" data-toc-modified-id=\"Шаг-3.-Ответьте-на-вопросы-3\"><span class=\"toc-item-num\">3&nbsp;&nbsp;</span>Шаг 3. Ответьте на вопросы</a></span></li><li><span><a href=\"#Шаг-4.-Общий-вывод\" data-toc-modified-id=\"Шаг-4.-Общий-вывод-4\"><span class=\"toc-item-num\">4&nbsp;&nbsp;</span>Шаг 4. Общий вывод</a></span></li><li><span><a href=\"#Чек-лист-готовности-проекта\" data-toc-modified-id=\"Чек-лист-готовности-проекта-5\"><span class=\"toc-item-num\">5&nbsp;&nbsp;</span>Чек-лист готовности проекта</a></span></li></ul></div>"
   ]
  },
  {
   "cell_type": "markdown",
   "metadata": {},
   "source": [
    "<div class=\"alert alert-success\">\n",
    "<b>Итоговый комментарий ревьюера:</b> Отличная работа. Аккуратно изучаешь и подготавливаешь данные. Описываешь, как принимались решения по обработке и интерпретируешь результаты исследования. \n",
    "    \n",
    "Критичных замечаний нет, но пока многовато мелких. Само по себе каждое из них может быть несущественно, но в массе они снижают уровень работы. Пожалуйста, внеси правки хотя бы в часть из них и присылай проект на дополнительное ревью.\n",
    "</div>\n"
   ]
  },
  {
   "cell_type": "markdown",
   "metadata": {},
   "source": [
    "<div class=\"alert alert-success\">\n",
    "<b>Итоговый комментарий ревьюера v2:</b> Почти все замечания учтены, проект принимаю) По функциям вместо построчного перебора постаралась подсказать вариант. Ты можешь посмотреть еще примеры в тренажере — тема Категоризация данных, уроки Классификация по возрастным группам, Функция для одной строки. Здесь у нас небольшой датафрейм, но в целом навык очень пригодится.\n",
    "</div>\n"
   ]
  },
  {
   "cell_type": "code",
   "execution_count": null,
   "metadata": {},
   "outputs": [],
   "source": []
  }
 ],
 "metadata": {
  "ExecuteTimeLog": [
   {
    "duration": 1113,
    "start_time": "2021-09-22T11:04:35.735Z"
   },
   {
    "duration": 374,
    "start_time": "2021-09-22T11:04:48.838Z"
   },
   {
    "duration": 263,
    "start_time": "2021-09-22T11:05:03.946Z"
   },
   {
    "duration": 72,
    "start_time": "2021-09-22T11:05:12.674Z"
   },
   {
    "duration": 67,
    "start_time": "2021-09-22T11:06:36.736Z"
   },
   {
    "duration": 67,
    "start_time": "2021-09-22T18:02:01.302Z"
   },
   {
    "duration": 80,
    "start_time": "2021-09-22T20:20:07.722Z"
   },
   {
    "duration": 80,
    "start_time": "2021-09-22T20:20:41.170Z"
   },
   {
    "duration": 13,
    "start_time": "2021-09-22T20:48:06.166Z"
   },
   {
    "duration": 78,
    "start_time": "2021-09-26T20:51:30.061Z"
   },
   {
    "duration": 63,
    "start_time": "2021-09-26T20:51:37.379Z"
   },
   {
    "duration": 77,
    "start_time": "2021-09-26T21:00:35.546Z"
   },
   {
    "duration": 85,
    "start_time": "2021-09-26T21:01:14.910Z"
   },
   {
    "duration": 14,
    "start_time": "2021-09-26T21:04:27.636Z"
   },
   {
    "duration": 30,
    "start_time": "2021-09-26T21:26:36.863Z"
   },
   {
    "duration": 15,
    "start_time": "2021-09-26T21:26:59.987Z"
   },
   {
    "duration": 14,
    "start_time": "2021-09-26T21:27:11.462Z"
   },
   {
    "duration": 9,
    "start_time": "2021-09-26T22:24:17.213Z"
   },
   {
    "duration": 82,
    "start_time": "2021-09-26T22:24:57.049Z"
   },
   {
    "duration": 285,
    "start_time": "2021-09-26T22:26:45.961Z"
   },
   {
    "duration": 6278,
    "start_time": "2021-09-26T23:26:35.888Z"
   },
   {
    "duration": 10,
    "start_time": "2021-09-26T23:26:42.377Z"
   },
   {
    "duration": 9,
    "start_time": "2021-09-27T18:46:17.350Z"
   },
   {
    "duration": 85,
    "start_time": "2021-09-28T20:28:47.729Z"
   },
   {
    "duration": 85,
    "start_time": "2021-09-28T20:29:14.355Z"
   },
   {
    "duration": 14,
    "start_time": "2021-09-28T20:29:26.785Z"
   },
   {
    "duration": 57,
    "start_time": "2021-09-28T21:28:29.497Z"
   },
   {
    "duration": 15,
    "start_time": "2021-09-28T21:45:36.872Z"
   },
   {
    "duration": 79,
    "start_time": "2021-09-28T21:46:37.047Z"
   },
   {
    "duration": 76,
    "start_time": "2021-09-28T21:46:55.435Z"
   },
   {
    "duration": 99,
    "start_time": "2021-09-28T21:47:24.075Z"
   },
   {
    "duration": 86,
    "start_time": "2021-09-28T21:47:36.887Z"
   },
   {
    "duration": 71,
    "start_time": "2021-09-28T21:48:24.906Z"
   },
   {
    "duration": 63,
    "start_time": "2021-09-28T21:49:18.242Z"
   },
   {
    "duration": 73,
    "start_time": "2021-09-28T21:49:55.888Z"
   },
   {
    "duration": 66,
    "start_time": "2021-09-28T21:50:02.851Z"
   },
   {
    "duration": 78,
    "start_time": "2021-09-28T21:53:26.863Z"
   },
   {
    "duration": 97,
    "start_time": "2021-09-28T21:53:54.125Z"
   },
   {
    "duration": 83,
    "start_time": "2021-09-28T21:54:37.631Z"
   },
   {
    "duration": 285,
    "start_time": "2021-09-28T21:57:54.490Z"
   },
   {
    "duration": 28,
    "start_time": "2021-09-28T22:04:52.853Z"
   },
   {
    "duration": 44,
    "start_time": "2021-09-28T22:05:22.015Z"
   },
   {
    "duration": 41,
    "start_time": "2021-09-28T22:05:58.040Z"
   },
   {
    "duration": 41,
    "start_time": "2021-09-28T22:06:18.453Z"
   },
   {
    "duration": 28,
    "start_time": "2021-09-28T22:07:16.659Z"
   },
   {
    "duration": 26,
    "start_time": "2021-09-28T22:07:37.092Z"
   },
   {
    "duration": 31,
    "start_time": "2021-09-28T22:08:11.416Z"
   },
   {
    "duration": 299,
    "start_time": "2021-09-28T22:44:09.810Z"
   },
   {
    "duration": 79,
    "start_time": "2021-09-28T22:44:23.768Z"
   },
   {
    "duration": 274,
    "start_time": "2021-09-28T23:28:26.663Z"
   },
   {
    "duration": 280,
    "start_time": "2021-09-28T23:28:38.949Z"
   },
   {
    "duration": 6,
    "start_time": "2021-09-28T23:28:52.304Z"
   },
   {
    "duration": 7,
    "start_time": "2021-09-28T23:30:49.936Z"
   },
   {
    "duration": 7,
    "start_time": "2021-09-28T23:32:00.846Z"
   },
   {
    "duration": 6,
    "start_time": "2021-09-28T23:34:00.091Z"
   },
   {
    "duration": 6774,
    "start_time": "2021-09-29T00:43:50.310Z"
   },
   {
    "duration": 7513,
    "start_time": "2021-09-29T00:45:35.116Z"
   },
   {
    "duration": 9807,
    "start_time": "2021-09-29T00:45:52.775Z"
   },
   {
    "duration": 7,
    "start_time": "2021-09-29T00:48:04.902Z"
   },
   {
    "duration": 7,
    "start_time": "2021-09-29T00:48:10.922Z"
   },
   {
    "duration": 267,
    "start_time": "2021-09-29T00:48:17.271Z"
   },
   {
    "duration": 94,
    "start_time": "2021-09-29T00:48:22.247Z"
   },
   {
    "duration": 8,
    "start_time": "2021-09-29T00:48:29.023Z"
   },
   {
    "duration": 8,
    "start_time": "2021-09-29T00:49:02.947Z"
   },
   {
    "duration": 292,
    "start_time": "2021-09-29T00:50:17.335Z"
   },
   {
    "duration": 292,
    "start_time": "2021-09-29T00:50:46.077Z"
   },
   {
    "duration": 267,
    "start_time": "2021-09-29T00:50:51.280Z"
   },
   {
    "duration": 1192,
    "start_time": "2021-09-29T00:51:01.103Z"
   },
   {
    "duration": 9,
    "start_time": "2021-09-29T00:51:08.552Z"
   },
   {
    "duration": 10,
    "start_time": "2021-09-29T00:51:52.798Z"
   },
   {
    "duration": 280,
    "start_time": "2021-09-29T00:54:07.284Z"
   },
   {
    "duration": 8,
    "start_time": "2021-09-29T00:54:54.051Z"
   },
   {
    "duration": 9,
    "start_time": "2021-09-29T00:55:45.711Z"
   },
   {
    "duration": 10,
    "start_time": "2021-09-29T00:56:29.158Z"
   },
   {
    "duration": 9,
    "start_time": "2021-09-29T00:56:50.116Z"
   },
   {
    "duration": 10,
    "start_time": "2021-09-29T00:57:09.164Z"
   },
   {
    "duration": 7,
    "start_time": "2021-09-29T00:57:22.184Z"
   },
   {
    "duration": 8,
    "start_time": "2021-09-29T00:57:46.513Z"
   },
   {
    "duration": 5,
    "start_time": "2021-09-29T00:58:29.180Z"
   },
   {
    "duration": 9,
    "start_time": "2021-09-29T01:07:02.503Z"
   },
   {
    "duration": 40,
    "start_time": "2021-09-29T01:08:51.529Z"
   },
   {
    "duration": 9,
    "start_time": "2021-09-29T01:09:10.614Z"
   },
   {
    "duration": 279,
    "start_time": "2021-09-29T01:10:46.213Z"
   },
   {
    "duration": 41,
    "start_time": "2021-09-29T01:11:04.933Z"
   },
   {
    "duration": 297,
    "start_time": "2021-09-29T01:19:19.822Z"
   },
   {
    "duration": 360,
    "start_time": "2021-09-30T14:50:25.261Z"
   },
   {
    "duration": 81,
    "start_time": "2021-09-30T21:34:51.499Z"
   },
   {
    "duration": 37,
    "start_time": "2021-09-30T22:50:40.815Z"
   },
   {
    "duration": 42,
    "start_time": "2021-09-30T22:51:37.868Z"
   },
   {
    "duration": 44,
    "start_time": "2021-09-30T22:51:50.883Z"
   },
   {
    "duration": 18,
    "start_time": "2021-09-30T22:51:58.266Z"
   },
   {
    "duration": 81,
    "start_time": "2021-09-30T22:52:50.087Z"
   },
   {
    "duration": 9,
    "start_time": "2021-09-30T22:59:00.736Z"
   },
   {
    "duration": 23,
    "start_time": "2021-09-30T22:59:32.073Z"
   },
   {
    "duration": 11,
    "start_time": "2021-10-02T14:26:35.769Z"
   },
   {
    "duration": 8,
    "start_time": "2021-10-02T14:30:02.378Z"
   },
   {
    "duration": 10,
    "start_time": "2021-10-02T14:30:19.088Z"
   },
   {
    "duration": 9,
    "start_time": "2021-10-02T14:35:45.415Z"
   },
   {
    "duration": 13,
    "start_time": "2021-10-02T14:35:54.532Z"
   },
   {
    "duration": 5,
    "start_time": "2021-10-02T14:36:40.077Z"
   },
   {
    "duration": 6,
    "start_time": "2021-10-02T14:36:46.147Z"
   },
   {
    "duration": 6,
    "start_time": "2021-10-02T14:36:52.776Z"
   },
   {
    "duration": 4361,
    "start_time": "2021-10-02T16:29:06.441Z"
   },
   {
    "duration": 293,
    "start_time": "2021-10-02T16:29:13.097Z"
   },
   {
    "duration": 282,
    "start_time": "2021-10-02T16:29:33.829Z"
   },
   {
    "duration": 23,
    "start_time": "2021-10-02T16:29:38.717Z"
   },
   {
    "duration": 22,
    "start_time": "2021-10-02T16:33:57.991Z"
   },
   {
    "duration": 5,
    "start_time": "2021-10-02T16:34:15.817Z"
   },
   {
    "duration": 14,
    "start_time": "2021-10-02T16:34:20.849Z"
   },
   {
    "duration": 17,
    "start_time": "2021-10-02T16:34:33.006Z"
   },
   {
    "duration": 13,
    "start_time": "2021-10-02T16:35:05.792Z"
   },
   {
    "duration": 288,
    "start_time": "2021-10-02T16:57:24.786Z"
   },
   {
    "duration": 61,
    "start_time": "2021-10-02T16:57:42.541Z"
   },
   {
    "duration": 42,
    "start_time": "2021-10-02T16:57:47.965Z"
   },
   {
    "duration": 6,
    "start_time": "2021-10-02T19:13:08.543Z"
   },
   {
    "duration": 92,
    "start_time": "2021-10-02T19:18:09.490Z"
   },
   {
    "duration": 5,
    "start_time": "2021-10-02T19:18:21.861Z"
   },
   {
    "duration": 8,
    "start_time": "2021-10-02T19:19:05.272Z"
   },
   {
    "duration": 7,
    "start_time": "2021-10-02T19:19:23.987Z"
   },
   {
    "duration": 7254,
    "start_time": "2021-10-02T20:00:07.449Z"
   },
   {
    "duration": 6,
    "start_time": "2021-10-02T20:00:19.433Z"
   },
   {
    "duration": 36,
    "start_time": "2021-10-02T20:01:37.212Z"
   },
   {
    "duration": 17,
    "start_time": "2021-10-02T20:02:48.251Z"
   },
   {
    "duration": 299,
    "start_time": "2021-10-02T20:06:06.547Z"
   },
   {
    "duration": 10,
    "start_time": "2021-10-02T20:08:22.232Z"
   },
   {
    "duration": 12,
    "start_time": "2021-10-02T20:10:02.597Z"
   },
   {
    "duration": 7,
    "start_time": "2021-10-02T20:12:09.381Z"
   },
   {
    "duration": 8,
    "start_time": "2021-10-02T20:12:18.284Z"
   },
   {
    "duration": 7,
    "start_time": "2021-10-02T20:12:30.691Z"
   },
   {
    "duration": 7,
    "start_time": "2021-10-02T20:13:00.820Z"
   },
   {
    "duration": 286,
    "start_time": "2021-10-02T20:13:18.994Z"
   },
   {
    "duration": 11,
    "start_time": "2021-10-02T20:13:40.800Z"
   },
   {
    "duration": 12,
    "start_time": "2021-10-02T20:14:06.534Z"
   },
   {
    "duration": 12,
    "start_time": "2021-10-02T20:14:10.906Z"
   },
   {
    "duration": 13,
    "start_time": "2021-10-02T20:14:18.033Z"
   },
   {
    "duration": 11,
    "start_time": "2021-10-02T20:14:26.152Z"
   },
   {
    "duration": 11,
    "start_time": "2021-10-02T20:14:32.848Z"
   },
   {
    "duration": 9,
    "start_time": "2021-10-02T20:14:48.225Z"
   },
   {
    "duration": 7892,
    "start_time": "2021-10-02T20:16:47.753Z"
   },
   {
    "duration": 27,
    "start_time": "2021-10-02T20:17:07.686Z"
   },
   {
    "duration": 332,
    "start_time": "2021-10-02T22:05:45.208Z"
   },
   {
    "duration": 322,
    "start_time": "2021-10-02T22:05:57.656Z"
   },
   {
    "duration": 18,
    "start_time": "2021-10-02T22:06:08.471Z"
   },
   {
    "duration": 384,
    "start_time": "2021-10-02T22:06:19.664Z"
   },
   {
    "duration": 301,
    "start_time": "2021-10-02T22:06:26.223Z"
   },
   {
    "duration": 10,
    "start_time": "2021-10-02T22:06:42.235Z"
   },
   {
    "duration": 4252,
    "start_time": "2021-10-02T22:07:00.074Z"
   },
   {
    "duration": 835,
    "start_time": "2021-10-02T22:07:12.919Z"
   },
   {
    "duration": 285,
    "start_time": "2021-10-02T22:07:30.180Z"
   },
   {
    "duration": 12,
    "start_time": "2021-10-02T22:08:14.042Z"
   },
   {
    "duration": 11,
    "start_time": "2021-10-03T09:15:16.074Z"
   },
   {
    "duration": 14,
    "start_time": "2021-10-03T09:15:23.636Z"
   },
   {
    "duration": 17,
    "start_time": "2021-10-03T09:15:32.819Z"
   },
   {
    "duration": 9,
    "start_time": "2021-10-03T10:38:13.580Z"
   },
   {
    "duration": 10,
    "start_time": "2021-10-03T10:38:44.373Z"
   },
   {
    "duration": 22,
    "start_time": "2021-10-03T10:39:09.602Z"
   },
   {
    "duration": 11,
    "start_time": "2021-10-03T10:39:22.507Z"
   },
   {
    "duration": 9,
    "start_time": "2021-10-03T10:39:31.338Z"
   },
   {
    "duration": 13,
    "start_time": "2021-10-03T10:40:03.475Z"
   },
   {
    "duration": 13,
    "start_time": "2021-10-03T10:40:27.769Z"
   },
   {
    "duration": 18,
    "start_time": "2021-10-03T13:14:58.657Z"
   },
   {
    "duration": 8,
    "start_time": "2021-10-03T13:17:34.067Z"
   },
   {
    "duration": 7,
    "start_time": "2021-10-03T17:21:49.279Z"
   },
   {
    "duration": 9,
    "start_time": "2021-10-03T17:27:04.051Z"
   },
   {
    "duration": 9,
    "start_time": "2021-10-03T17:27:28.210Z"
   },
   {
    "duration": 11,
    "start_time": "2021-10-03T17:27:38.395Z"
   },
   {
    "duration": 9,
    "start_time": "2021-10-03T17:27:49.982Z"
   },
   {
    "duration": 9,
    "start_time": "2021-10-03T17:27:54.868Z"
   },
   {
    "duration": 15,
    "start_time": "2021-10-03T17:36:13.226Z"
   },
   {
    "duration": 7,
    "start_time": "2021-10-03T17:37:54.351Z"
   },
   {
    "duration": 13,
    "start_time": "2021-10-03T18:16:17.758Z"
   },
   {
    "duration": 13,
    "start_time": "2021-10-03T18:16:20.615Z"
   },
   {
    "duration": 590,
    "start_time": "2021-10-05T20:50:24.815Z"
   },
   {
    "duration": 32,
    "start_time": "2021-10-05T20:50:27.599Z"
   },
   {
    "duration": 10,
    "start_time": "2021-10-05T20:50:30.251Z"
   },
   {
    "duration": 20,
    "start_time": "2021-10-05T20:51:29.796Z"
   },
   {
    "duration": 4,
    "start_time": "2021-10-05T20:52:20.770Z"
   },
   {
    "duration": 6,
    "start_time": "2021-10-05T20:52:35.394Z"
   },
   {
    "duration": 15,
    "start_time": "2021-10-05T20:52:48.569Z"
   },
   {
    "duration": 23,
    "start_time": "2021-10-05T20:52:55.285Z"
   },
   {
    "duration": 7,
    "start_time": "2021-10-05T20:53:04.628Z"
   },
   {
    "duration": 7,
    "start_time": "2021-10-05T20:53:12.754Z"
   },
   {
    "duration": 10,
    "start_time": "2021-10-05T20:53:40.426Z"
   },
   {
    "duration": 205,
    "start_time": "2021-10-05T20:53:55.070Z"
   },
   {
    "duration": 6,
    "start_time": "2021-10-05T20:54:03.136Z"
   },
   {
    "duration": 6,
    "start_time": "2021-10-05T20:54:12.950Z"
   },
   {
    "duration": 24,
    "start_time": "2021-10-05T20:54:45.966Z"
   },
   {
    "duration": 6,
    "start_time": "2021-10-05T20:54:52.203Z"
   },
   {
    "duration": 5,
    "start_time": "2021-10-05T20:55:54.931Z"
   },
   {
    "duration": 5,
    "start_time": "2021-10-05T20:56:07.522Z"
   },
   {
    "duration": 6,
    "start_time": "2021-10-05T20:56:10.470Z"
   },
   {
    "duration": 6,
    "start_time": "2021-10-05T20:56:21.603Z"
   },
   {
    "duration": 5,
    "start_time": "2021-10-05T20:56:25.464Z"
   },
   {
    "duration": 6,
    "start_time": "2021-10-05T20:56:49.858Z"
   },
   {
    "duration": 7,
    "start_time": "2021-10-05T20:57:41.022Z"
   },
   {
    "duration": 3,
    "start_time": "2021-10-05T21:01:47.473Z"
   },
   {
    "duration": 3,
    "start_time": "2021-10-05T21:06:57.693Z"
   },
   {
    "duration": 4,
    "start_time": "2021-10-05T21:07:15.330Z"
   },
   {
    "duration": 60,
    "start_time": "2021-10-05T21:09:24.949Z"
   },
   {
    "duration": 30,
    "start_time": "2021-10-05T21:09:32.075Z"
   },
   {
    "duration": 11,
    "start_time": "2021-10-05T21:09:34.399Z"
   },
   {
    "duration": 3,
    "start_time": "2021-10-05T21:11:39.005Z"
   },
   {
    "duration": 4,
    "start_time": "2021-10-05T21:11:43.774Z"
   },
   {
    "duration": 7,
    "start_time": "2021-10-05T21:11:51.681Z"
   },
   {
    "duration": 12,
    "start_time": "2021-10-05T21:11:55.035Z"
   },
   {
    "duration": 6,
    "start_time": "2021-10-05T21:12:00.103Z"
   },
   {
    "duration": 6,
    "start_time": "2021-10-05T21:12:11.884Z"
   },
   {
    "duration": 5,
    "start_time": "2021-10-05T21:12:23.811Z"
   },
   {
    "duration": 5,
    "start_time": "2021-10-05T21:14:47.641Z"
   },
   {
    "duration": 4,
    "start_time": "2021-10-05T21:40:39.962Z"
   },
   {
    "duration": 3,
    "start_time": "2021-10-05T21:40:46.520Z"
   },
   {
    "duration": 4,
    "start_time": "2021-10-05T21:40:59.746Z"
   },
   {
    "duration": 5,
    "start_time": "2021-10-05T23:00:11.995Z"
   },
   {
    "duration": 5,
    "start_time": "2021-10-05T23:13:01.502Z"
   },
   {
    "duration": 10,
    "start_time": "2021-10-05T23:13:37.103Z"
   },
   {
    "duration": 9,
    "start_time": "2021-10-05T23:13:54.738Z"
   },
   {
    "duration": 58,
    "start_time": "2021-10-06T00:52:32.058Z"
   },
   {
    "duration": 30,
    "start_time": "2021-10-06T00:52:34.839Z"
   },
   {
    "duration": 10,
    "start_time": "2021-10-06T00:52:36.903Z"
   },
   {
    "duration": 18,
    "start_time": "2021-10-06T00:52:43.039Z"
   },
   {
    "duration": 7,
    "start_time": "2021-10-06T00:52:53.174Z"
   },
   {
    "duration": 12,
    "start_time": "2021-10-06T00:52:57.109Z"
   },
   {
    "duration": 7,
    "start_time": "2021-10-06T00:53:03.767Z"
   },
   {
    "duration": 23,
    "start_time": "2021-10-06T00:53:08.044Z"
   },
   {
    "duration": 6,
    "start_time": "2021-10-06T00:53:54.327Z"
   },
   {
    "duration": 9,
    "start_time": "2021-10-06T00:54:12.088Z"
   },
   {
    "duration": 12,
    "start_time": "2021-10-06T00:54:31.929Z"
   },
   {
    "duration": 7,
    "start_time": "2021-10-06T00:54:35.936Z"
   },
   {
    "duration": 17,
    "start_time": "2021-10-06T00:54:40.174Z"
   },
   {
    "duration": 7,
    "start_time": "2021-10-06T00:54:43.211Z"
   },
   {
    "duration": 11,
    "start_time": "2021-10-06T00:54:45.875Z"
   },
   {
    "duration": 8,
    "start_time": "2021-10-06T00:54:49.690Z"
   },
   {
    "duration": 9,
    "start_time": "2021-10-06T00:54:52.160Z"
   },
   {
    "duration": 62,
    "start_time": "2021-10-06T00:55:27.586Z"
   },
   {
    "duration": 134,
    "start_time": "2021-10-06T18:18:58.941Z"
   },
   {
    "duration": 5,
    "start_time": "2021-10-06T18:19:07.368Z"
   },
   {
    "duration": 4,
    "start_time": "2021-10-06T18:29:59.980Z"
   },
   {
    "duration": 12,
    "start_time": "2021-10-06T18:31:18.200Z"
   },
   {
    "duration": 12,
    "start_time": "2021-10-06T18:31:54.732Z"
   },
   {
    "duration": 9,
    "start_time": "2021-10-06T19:58:50.039Z"
   },
   {
    "duration": 153,
    "start_time": "2021-10-06T20:29:59.055Z"
   },
   {
    "duration": 15,
    "start_time": "2021-10-06T20:30:15.365Z"
   },
   {
    "duration": 42,
    "start_time": "2021-10-06T20:32:46.585Z"
   },
   {
    "duration": 253,
    "start_time": "2021-10-07T00:31:21.302Z"
   },
   {
    "duration": 144,
    "start_time": "2021-10-07T00:31:29.362Z"
   },
   {
    "duration": 4324,
    "start_time": "2021-10-07T01:30:00.550Z"
   },
   {
    "duration": 4182,
    "start_time": "2021-10-07T01:30:32.566Z"
   },
   {
    "duration": 6505,
    "start_time": "2021-10-07T01:30:58.013Z"
   },
   {
    "duration": 6,
    "start_time": "2021-10-07T01:32:17.448Z"
   },
   {
    "duration": 5,
    "start_time": "2021-10-07T01:32:27.179Z"
   },
   {
    "duration": 13,
    "start_time": "2021-10-07T22:26:43.605Z"
   },
   {
    "duration": 29,
    "start_time": "2021-10-07T22:26:49.524Z"
   },
   {
    "duration": 6,
    "start_time": "2021-10-07T22:29:16.280Z"
   },
   {
    "duration": 4,
    "start_time": "2021-10-07T22:29:30.124Z"
   },
   {
    "duration": 4,
    "start_time": "2021-10-07T22:29:47.232Z"
   },
   {
    "duration": 7,
    "start_time": "2021-10-07T22:30:28.343Z"
   },
   {
    "duration": 8,
    "start_time": "2021-10-07T22:31:05.079Z"
   },
   {
    "duration": 11,
    "start_time": "2021-10-07T22:32:33.989Z"
   },
   {
    "duration": 8,
    "start_time": "2021-10-07T22:35:36.055Z"
   },
   {
    "duration": 8,
    "start_time": "2021-10-07T22:35:53.800Z"
   },
   {
    "duration": 61,
    "start_time": "2021-10-07T22:36:14.935Z"
   },
   {
    "duration": 32,
    "start_time": "2021-10-07T22:36:21.484Z"
   },
   {
    "duration": 12,
    "start_time": "2021-10-07T22:36:24.657Z"
   },
   {
    "duration": 52,
    "start_time": "2021-10-07T22:36:28.545Z"
   },
   {
    "duration": 20,
    "start_time": "2021-10-07T22:36:35.083Z"
   },
   {
    "duration": 4,
    "start_time": "2021-10-07T22:36:39.101Z"
   },
   {
    "duration": 7,
    "start_time": "2021-10-07T22:36:43.637Z"
   },
   {
    "duration": 15,
    "start_time": "2021-10-07T22:36:47.498Z"
   },
   {
    "duration": 6,
    "start_time": "2021-10-07T22:36:53.923Z"
   },
   {
    "duration": 24,
    "start_time": "2021-10-07T22:36:57.242Z"
   },
   {
    "duration": 5,
    "start_time": "2021-10-07T22:37:10.425Z"
   },
   {
    "duration": 6,
    "start_time": "2021-10-07T22:37:14.875Z"
   },
   {
    "duration": 9,
    "start_time": "2021-10-07T22:37:20.837Z"
   },
   {
    "duration": 13,
    "start_time": "2021-10-07T22:37:29.069Z"
   },
   {
    "duration": 7,
    "start_time": "2021-10-07T22:37:35.627Z"
   },
   {
    "duration": 17,
    "start_time": "2021-10-07T22:37:38.561Z"
   },
   {
    "duration": 7,
    "start_time": "2021-10-07T22:37:43.118Z"
   },
   {
    "duration": 12,
    "start_time": "2021-10-07T22:37:45.010Z"
   },
   {
    "duration": 8,
    "start_time": "2021-10-07T22:37:48.630Z"
   },
   {
    "duration": 9,
    "start_time": "2021-10-07T22:37:50.935Z"
   },
   {
    "duration": 7,
    "start_time": "2021-10-07T22:38:00.302Z"
   },
   {
    "duration": 9,
    "start_time": "2021-10-07T22:38:26.952Z"
   },
   {
    "duration": 10,
    "start_time": "2021-10-07T22:40:35.974Z"
   },
   {
    "duration": 335,
    "start_time": "2021-10-07T22:41:27.917Z"
   },
   {
    "duration": 61,
    "start_time": "2021-10-07T22:42:21.248Z"
   },
   {
    "duration": 34,
    "start_time": "2021-10-07T22:42:24.709Z"
   },
   {
    "duration": 11,
    "start_time": "2021-10-07T22:42:27.299Z"
   },
   {
    "duration": 19,
    "start_time": "2021-10-07T22:42:32.820Z"
   },
   {
    "duration": 7,
    "start_time": "2021-10-07T22:42:37.987Z"
   },
   {
    "duration": 14,
    "start_time": "2021-10-07T22:42:39.875Z"
   },
   {
    "duration": 6,
    "start_time": "2021-10-07T22:42:44.523Z"
   },
   {
    "duration": 6,
    "start_time": "2021-10-07T22:42:47.933Z"
   },
   {
    "duration": 5,
    "start_time": "2021-10-07T22:42:50.156Z"
   },
   {
    "duration": 9,
    "start_time": "2021-10-07T22:42:54.182Z"
   },
   {
    "duration": 11,
    "start_time": "2021-10-07T22:42:57.074Z"
   },
   {
    "duration": 16,
    "start_time": "2021-10-07T22:43:01.486Z"
   },
   {
    "duration": 6,
    "start_time": "2021-10-07T22:43:03.790Z"
   },
   {
    "duration": 10,
    "start_time": "2021-10-07T22:43:05.432Z"
   },
   {
    "duration": 9,
    "start_time": "2021-10-07T22:43:11.763Z"
   },
   {
    "duration": 9,
    "start_time": "2021-10-07T22:43:14.208Z"
   },
   {
    "duration": 11,
    "start_time": "2021-10-08T00:17:14.067Z"
   },
   {
    "duration": 108,
    "start_time": "2021-10-08T00:21:37.204Z"
   },
   {
    "duration": 9,
    "start_time": "2021-10-08T00:22:00.227Z"
   },
   {
    "duration": 40,
    "start_time": "2021-10-08T00:22:12.408Z"
   },
   {
    "duration": 6669,
    "start_time": "2021-10-08T00:22:17.851Z"
   },
   {
    "duration": 5,
    "start_time": "2021-10-08T00:22:32.570Z"
   },
   {
    "duration": 12,
    "start_time": "2021-10-08T00:23:31.017Z"
   },
   {
    "duration": 10,
    "start_time": "2021-10-08T00:31:40.339Z"
   },
   {
    "duration": 4,
    "start_time": "2021-10-08T00:35:58.819Z"
   },
   {
    "duration": 5,
    "start_time": "2021-10-08T00:36:04.692Z"
   },
   {
    "duration": 11,
    "start_time": "2021-10-08T00:36:19.245Z"
   },
   {
    "duration": 51,
    "start_time": "2021-10-08T00:45:21.935Z"
   },
   {
    "duration": 51,
    "start_time": "2021-10-08T00:45:45.979Z"
   },
   {
    "duration": 49,
    "start_time": "2021-10-08T00:46:12.587Z"
   },
   {
    "duration": 49,
    "start_time": "2021-10-08T00:46:25.733Z"
   },
   {
    "duration": 348,
    "start_time": "2021-10-08T00:47:49.114Z"
   },
   {
    "duration": 142,
    "start_time": "2021-10-08T00:47:57.455Z"
   },
   {
    "duration": 5,
    "start_time": "2021-10-08T00:49:17.178Z"
   },
   {
    "duration": 19,
    "start_time": "2021-10-08T00:54:05.769Z"
   },
   {
    "duration": 18,
    "start_time": "2021-10-08T00:54:40.097Z"
   },
   {
    "duration": 25,
    "start_time": "2021-10-08T00:54:58.899Z"
   },
   {
    "duration": 24,
    "start_time": "2021-10-08T00:55:30.759Z"
   },
   {
    "duration": 5,
    "start_time": "2021-10-08T00:59:17.417Z"
   },
   {
    "duration": 25,
    "start_time": "2021-10-08T00:59:29.343Z"
   },
   {
    "duration": 6,
    "start_time": "2021-10-08T01:02:18.696Z"
   },
   {
    "duration": 12,
    "start_time": "2021-10-08T01:03:17.764Z"
   },
   {
    "duration": 5,
    "start_time": "2021-10-08T01:04:45.348Z"
   },
   {
    "duration": 6,
    "start_time": "2021-10-08T01:04:56.805Z"
   },
   {
    "duration": 4,
    "start_time": "2021-10-08T01:05:10.544Z"
   },
   {
    "duration": 12,
    "start_time": "2021-10-08T01:27:58.578Z"
   },
   {
    "duration": 51,
    "start_time": "2021-10-08T01:29:02.750Z"
   },
   {
    "duration": 44,
    "start_time": "2021-10-08T01:29:10.176Z"
   },
   {
    "duration": 18,
    "start_time": "2021-10-08T01:29:24.256Z"
   },
   {
    "duration": 14,
    "start_time": "2021-10-08T01:29:35.207Z"
   },
   {
    "duration": 12,
    "start_time": "2021-10-08T01:36:06.578Z"
   },
   {
    "duration": 24,
    "start_time": "2021-10-08T19:23:20.392Z"
   },
   {
    "duration": 18,
    "start_time": "2021-10-08T19:23:52.027Z"
   },
   {
    "duration": 18,
    "start_time": "2021-10-08T19:55:38.205Z"
   },
   {
    "duration": 22,
    "start_time": "2021-10-08T19:56:37.108Z"
   },
   {
    "duration": 19,
    "start_time": "2021-10-08T19:56:45.906Z"
   },
   {
    "duration": 20,
    "start_time": "2021-10-08T19:58:41.326Z"
   },
   {
    "duration": 19,
    "start_time": "2021-10-08T20:16:15.611Z"
   },
   {
    "duration": 23,
    "start_time": "2021-10-08T20:24:22.870Z"
   },
   {
    "duration": 22,
    "start_time": "2021-10-08T20:24:41.367Z"
   },
   {
    "duration": 23,
    "start_time": "2021-10-08T20:24:50.946Z"
   },
   {
    "duration": 24,
    "start_time": "2021-10-08T20:25:10.897Z"
   },
   {
    "duration": 25,
    "start_time": "2021-10-08T20:25:16.125Z"
   },
   {
    "duration": 22,
    "start_time": "2021-10-08T20:25:47.183Z"
   },
   {
    "duration": 23,
    "start_time": "2021-10-08T20:26:35.346Z"
   },
   {
    "duration": 26,
    "start_time": "2021-10-08T20:27:42.168Z"
   },
   {
    "duration": 14,
    "start_time": "2021-10-08T20:48:59.104Z"
   },
   {
    "duration": 7,
    "start_time": "2021-10-08T20:54:31.858Z"
   },
   {
    "duration": 45,
    "start_time": "2021-10-08T21:47:21.463Z"
   },
   {
    "duration": 51,
    "start_time": "2021-10-08T21:48:18.125Z"
   },
   {
    "duration": 6,
    "start_time": "2021-10-08T21:49:27.375Z"
   },
   {
    "duration": 68,
    "start_time": "2021-10-08T21:49:40.077Z"
   },
   {
    "duration": 6,
    "start_time": "2021-10-08T21:49:43.411Z"
   },
   {
    "duration": 18,
    "start_time": "2021-10-08T21:50:21.248Z"
   },
   {
    "duration": 17,
    "start_time": "2021-10-08T21:52:57.769Z"
   },
   {
    "duration": 18,
    "start_time": "2021-10-08T21:53:19.259Z"
   },
   {
    "duration": 14,
    "start_time": "2021-10-08T22:35:37.949Z"
   },
   {
    "duration": 13,
    "start_time": "2021-10-08T22:41:18.125Z"
   },
   {
    "duration": 12,
    "start_time": "2021-10-08T22:49:07.475Z"
   },
   {
    "duration": 14,
    "start_time": "2021-10-08T22:54:35.027Z"
   },
   {
    "duration": 5,
    "start_time": "2021-10-08T23:33:25.111Z"
   },
   {
    "duration": 574,
    "start_time": "2021-10-08T23:39:24.544Z"
   },
   {
    "duration": 32,
    "start_time": "2021-10-08T23:39:25.121Z"
   },
   {
    "duration": 12,
    "start_time": "2021-10-08T23:39:25.155Z"
   },
   {
    "duration": 73,
    "start_time": "2021-10-08T23:39:25.170Z"
   },
   {
    "duration": 19,
    "start_time": "2021-10-08T23:39:25.245Z"
   },
   {
    "duration": 3,
    "start_time": "2021-10-08T23:39:25.266Z"
   },
   {
    "duration": 9,
    "start_time": "2021-10-08T23:39:25.299Z"
   },
   {
    "duration": 15,
    "start_time": "2021-10-08T23:39:25.309Z"
   },
   {
    "duration": 4,
    "start_time": "2021-10-08T23:39:25.327Z"
   },
   {
    "duration": 22,
    "start_time": "2021-10-08T23:39:25.333Z"
   },
   {
    "duration": 45,
    "start_time": "2021-10-08T23:39:25.356Z"
   },
   {
    "duration": 5,
    "start_time": "2021-10-08T23:39:25.403Z"
   },
   {
    "duration": 12,
    "start_time": "2021-10-08T23:39:25.409Z"
   },
   {
    "duration": 13,
    "start_time": "2021-10-08T23:39:25.423Z"
   },
   {
    "duration": 7,
    "start_time": "2021-10-08T23:39:25.438Z"
   },
   {
    "duration": 20,
    "start_time": "2021-10-08T23:39:25.447Z"
   },
   {
    "duration": 36,
    "start_time": "2021-10-08T23:39:25.469Z"
   },
   {
    "duration": 12,
    "start_time": "2021-10-08T23:39:25.507Z"
   },
   {
    "duration": 8,
    "start_time": "2021-10-08T23:39:25.521Z"
   },
   {
    "duration": 9,
    "start_time": "2021-10-08T23:39:25.531Z"
   },
   {
    "duration": 140,
    "start_time": "2021-10-08T23:39:25.542Z"
   },
   {
    "duration": 4,
    "start_time": "2021-10-08T23:39:25.684Z"
   },
   {
    "duration": 19,
    "start_time": "2021-10-08T23:39:25.690Z"
   },
   {
    "duration": 7,
    "start_time": "2021-10-08T23:39:25.710Z"
   },
   {
    "duration": 41,
    "start_time": "2021-10-08T23:39:25.719Z"
   },
   {
    "duration": 5,
    "start_time": "2021-10-08T23:39:25.761Z"
   },
   {
    "duration": 6779,
    "start_time": "2021-10-08T23:39:25.798Z"
   },
   {
    "duration": 4,
    "start_time": "2021-10-08T23:39:32.580Z"
   },
   {
    "duration": 23,
    "start_time": "2021-10-08T23:39:32.586Z"
   },
   {
    "duration": 12,
    "start_time": "2021-10-08T23:39:32.610Z"
   },
   {
    "duration": 21,
    "start_time": "2021-10-08T23:39:32.624Z"
   },
   {
    "duration": 12,
    "start_time": "2021-10-08T23:39:32.646Z"
   },
   {
    "duration": 40,
    "start_time": "2021-10-08T23:39:32.660Z"
   },
   {
    "duration": 12,
    "start_time": "2021-10-08T23:39:32.702Z"
   },
   {
    "duration": 11,
    "start_time": "2021-10-08T23:39:32.716Z"
   },
   {
    "duration": 835,
    "start_time": "2021-10-09T05:37:18.072Z"
   },
   {
    "duration": 31,
    "start_time": "2021-10-09T05:37:18.908Z"
   },
   {
    "duration": 10,
    "start_time": "2021-10-09T05:37:18.941Z"
   },
   {
    "duration": 77,
    "start_time": "2021-10-09T05:37:18.953Z"
   },
   {
    "duration": 19,
    "start_time": "2021-10-09T05:37:19.032Z"
   },
   {
    "duration": 3,
    "start_time": "2021-10-09T05:37:19.053Z"
   },
   {
    "duration": 23,
    "start_time": "2021-10-09T05:37:19.058Z"
   },
   {
    "duration": 19,
    "start_time": "2021-10-09T05:37:19.085Z"
   },
   {
    "duration": 6,
    "start_time": "2021-10-09T05:37:19.106Z"
   },
   {
    "duration": 26,
    "start_time": "2021-10-09T05:37:19.114Z"
   },
   {
    "duration": 40,
    "start_time": "2021-10-09T05:37:19.142Z"
   },
   {
    "duration": 9,
    "start_time": "2021-10-09T05:37:19.184Z"
   },
   {
    "duration": 14,
    "start_time": "2021-10-09T05:37:19.195Z"
   },
   {
    "duration": 12,
    "start_time": "2021-10-09T05:37:19.210Z"
   },
   {
    "duration": 7,
    "start_time": "2021-10-09T05:37:19.223Z"
   },
   {
    "duration": 54,
    "start_time": "2021-10-09T05:37:19.232Z"
   },
   {
    "duration": 8,
    "start_time": "2021-10-09T05:37:19.289Z"
   },
   {
    "duration": 11,
    "start_time": "2021-10-09T05:37:19.300Z"
   },
   {
    "duration": 9,
    "start_time": "2021-10-09T05:37:19.313Z"
   },
   {
    "duration": 10,
    "start_time": "2021-10-09T05:37:19.323Z"
   },
   {
    "duration": 173,
    "start_time": "2021-10-09T05:37:19.334Z"
   },
   {
    "duration": 5,
    "start_time": "2021-10-09T05:37:19.509Z"
   },
   {
    "duration": 10,
    "start_time": "2021-10-09T05:37:19.517Z"
   },
   {
    "duration": 8,
    "start_time": "2021-10-09T05:37:19.529Z"
   },
   {
    "duration": 72,
    "start_time": "2021-10-09T05:37:19.539Z"
   },
   {
    "duration": 6,
    "start_time": "2021-10-09T05:37:19.613Z"
   },
   {
    "duration": 7290,
    "start_time": "2021-10-09T05:37:19.621Z"
   },
   {
    "duration": 6,
    "start_time": "2021-10-09T05:37:26.913Z"
   },
   {
    "duration": 16,
    "start_time": "2021-10-09T05:37:26.920Z"
   },
   {
    "duration": 13,
    "start_time": "2021-10-09T05:37:26.938Z"
   },
   {
    "duration": 50,
    "start_time": "2021-10-09T05:37:26.953Z"
   },
   {
    "duration": 14,
    "start_time": "2021-10-09T05:37:27.005Z"
   },
   {
    "duration": 12,
    "start_time": "2021-10-09T05:37:27.021Z"
   },
   {
    "duration": 51,
    "start_time": "2021-10-09T05:37:27.035Z"
   },
   {
    "duration": 16,
    "start_time": "2021-10-09T05:37:27.089Z"
   },
   {
    "duration": 134,
    "start_time": "2021-10-09T05:46:13.783Z"
   },
   {
    "duration": 70,
    "start_time": "2021-10-09T05:46:23.652Z"
   },
   {
    "duration": 719,
    "start_time": "2021-10-09T19:38:05.073Z"
   },
   {
    "duration": 31,
    "start_time": "2021-10-09T19:38:05.794Z"
   },
   {
    "duration": 22,
    "start_time": "2021-10-09T19:38:05.827Z"
   },
   {
    "duration": 53,
    "start_time": "2021-10-09T19:38:05.851Z"
   },
   {
    "duration": 38,
    "start_time": "2021-10-09T19:38:05.906Z"
   },
   {
    "duration": 4,
    "start_time": "2021-10-09T19:38:05.946Z"
   },
   {
    "duration": 14,
    "start_time": "2021-10-09T19:38:05.951Z"
   },
   {
    "duration": 13,
    "start_time": "2021-10-09T19:38:05.968Z"
   },
   {
    "duration": 6,
    "start_time": "2021-10-09T19:38:05.983Z"
   },
   {
    "duration": 25,
    "start_time": "2021-10-09T19:38:05.990Z"
   },
   {
    "duration": 31,
    "start_time": "2021-10-09T19:38:06.017Z"
   },
   {
    "duration": 5,
    "start_time": "2021-10-09T19:38:06.050Z"
   },
   {
    "duration": 10,
    "start_time": "2021-10-09T19:38:06.056Z"
   },
   {
    "duration": 11,
    "start_time": "2021-10-09T19:38:06.068Z"
   },
   {
    "duration": 7,
    "start_time": "2021-10-09T19:38:06.080Z"
   },
   {
    "duration": 16,
    "start_time": "2021-10-09T19:38:06.088Z"
   },
   {
    "duration": 43,
    "start_time": "2021-10-09T19:38:06.106Z"
   },
   {
    "duration": 11,
    "start_time": "2021-10-09T19:38:06.151Z"
   },
   {
    "duration": 9,
    "start_time": "2021-10-09T19:38:06.164Z"
   },
   {
    "duration": 10,
    "start_time": "2021-10-09T19:38:06.175Z"
   },
   {
    "duration": 140,
    "start_time": "2021-10-09T19:38:06.186Z"
   },
   {
    "duration": 5,
    "start_time": "2021-10-09T19:38:06.327Z"
   },
   {
    "duration": 12,
    "start_time": "2021-10-09T19:38:06.347Z"
   },
   {
    "duration": 6,
    "start_time": "2021-10-09T19:38:06.361Z"
   },
   {
    "duration": 41,
    "start_time": "2021-10-09T19:38:06.369Z"
   },
   {
    "duration": 34,
    "start_time": "2021-10-09T19:38:06.412Z"
   },
   {
    "duration": 6666,
    "start_time": "2021-10-09T19:38:06.447Z"
   },
   {
    "duration": 5,
    "start_time": "2021-10-09T19:38:13.115Z"
   },
   {
    "duration": 28,
    "start_time": "2021-10-09T19:38:13.122Z"
   },
   {
    "duration": 13,
    "start_time": "2021-10-09T19:38:13.152Z"
   },
   {
    "duration": 23,
    "start_time": "2021-10-09T19:38:13.167Z"
   },
   {
    "duration": 13,
    "start_time": "2021-10-09T19:38:13.191Z"
   },
   {
    "duration": 13,
    "start_time": "2021-10-09T19:38:13.206Z"
   },
   {
    "duration": 13,
    "start_time": "2021-10-09T19:38:13.245Z"
   },
   {
    "duration": 14,
    "start_time": "2021-10-09T19:38:13.260Z"
   },
   {
    "duration": 21,
    "start_time": "2021-10-09T19:38:26.901Z"
   },
   {
    "duration": 277,
    "start_time": "2021-10-09T23:55:46.545Z"
   },
   {
    "duration": 723,
    "start_time": "2021-10-10T00:02:10.178Z"
   },
   {
    "duration": 121,
    "start_time": "2021-10-10T00:03:36.638Z"
   },
   {
    "duration": 77,
    "start_time": "2021-10-10T00:03:53.227Z"
   },
   {
    "duration": 71,
    "start_time": "2021-10-10T00:04:14.717Z"
   },
   {
    "duration": 50,
    "start_time": "2021-10-10T00:04:24.517Z"
   },
   {
    "duration": 85,
    "start_time": "2021-10-10T00:04:33.666Z"
   },
   {
    "duration": 73,
    "start_time": "2021-10-10T00:10:56.311Z"
   },
   {
    "duration": 75,
    "start_time": "2021-10-10T00:11:08.069Z"
   },
   {
    "duration": 68,
    "start_time": "2021-10-10T00:11:43.929Z"
   },
   {
    "duration": 75,
    "start_time": "2021-10-10T00:21:51.229Z"
   },
   {
    "duration": 24,
    "start_time": "2021-10-10T00:22:34.037Z"
   },
   {
    "duration": 251,
    "start_time": "2021-10-10T00:23:43.578Z"
   },
   {
    "duration": 214,
    "start_time": "2021-10-10T00:29:01.892Z"
   },
   {
    "duration": 16,
    "start_time": "2021-10-10T00:29:16.161Z"
   },
   {
    "duration": 19,
    "start_time": "2021-10-10T00:29:25.494Z"
   },
   {
    "duration": 6,
    "start_time": "2021-10-10T00:32:16.542Z"
   },
   {
    "duration": 20,
    "start_time": "2021-10-10T00:32:19.195Z"
   },
   {
    "duration": 20,
    "start_time": "2021-10-10T00:35:36.618Z"
   },
   {
    "duration": 7,
    "start_time": "2021-10-10T00:49:28.063Z"
   },
   {
    "duration": 82,
    "start_time": "2021-10-10T02:38:06.070Z"
   },
   {
    "duration": 278,
    "start_time": "2021-10-10T15:53:24.217Z"
   },
   {
    "duration": 1088,
    "start_time": "2021-10-10T15:53:35.075Z"
   },
   {
    "duration": 74,
    "start_time": "2021-10-10T15:53:42.218Z"
   },
   {
    "duration": 79,
    "start_time": "2021-10-10T15:59:00.778Z"
   },
   {
    "duration": 583,
    "start_time": "2021-10-10T15:59:23.441Z"
   },
   {
    "duration": 77,
    "start_time": "2021-10-10T15:59:30.448Z"
   },
   {
    "duration": 76,
    "start_time": "2021-10-10T15:59:37.563Z"
   },
   {
    "duration": 108,
    "start_time": "2021-10-10T16:27:55.974Z"
   },
   {
    "duration": 248,
    "start_time": "2021-10-10T16:30:41.028Z"
   },
   {
    "duration": 84,
    "start_time": "2021-10-10T16:31:25.629Z"
   },
   {
    "duration": 85,
    "start_time": "2021-10-10T16:31:47.606Z"
   },
   {
    "duration": 92,
    "start_time": "2021-10-10T16:32:22.371Z"
   },
   {
    "duration": 101,
    "start_time": "2021-10-10T16:32:28.880Z"
   },
   {
    "duration": 321,
    "start_time": "2021-10-10T16:32:34.544Z"
   },
   {
    "duration": 92,
    "start_time": "2021-10-10T16:35:27.478Z"
   },
   {
    "duration": 102,
    "start_time": "2021-10-10T16:35:38.681Z"
   },
   {
    "duration": 105,
    "start_time": "2021-10-10T16:35:49.174Z"
   },
   {
    "duration": 389,
    "start_time": "2021-10-10T16:36:19.982Z"
   },
   {
    "duration": 70,
    "start_time": "2021-10-10T16:37:08.154Z"
   },
   {
    "duration": 79,
    "start_time": "2021-10-10T16:37:27.776Z"
   },
   {
    "duration": 101,
    "start_time": "2021-10-10T16:38:08.801Z"
   },
   {
    "duration": 77,
    "start_time": "2021-10-10T17:04:25.935Z"
   },
   {
    "duration": 82,
    "start_time": "2021-10-10T17:04:46.492Z"
   },
   {
    "duration": 70,
    "start_time": "2021-10-10T17:05:01.426Z"
   },
   {
    "duration": 72,
    "start_time": "2021-10-10T17:05:22.835Z"
   },
   {
    "duration": 70,
    "start_time": "2021-10-10T17:05:53.119Z"
   },
   {
    "duration": 68,
    "start_time": "2021-10-10T17:06:05.339Z"
   },
   {
    "duration": 72,
    "start_time": "2021-10-10T17:06:13.312Z"
   },
   {
    "duration": 309,
    "start_time": "2021-10-10T17:07:21.591Z"
   },
   {
    "duration": 5887,
    "start_time": "2021-10-10T17:08:06.691Z"
   },
   {
    "duration": 76,
    "start_time": "2021-10-10T17:08:39.079Z"
   },
   {
    "duration": 74,
    "start_time": "2021-10-10T17:08:47.669Z"
   },
   {
    "duration": 217,
    "start_time": "2021-10-10T17:20:05.362Z"
   },
   {
    "duration": 79,
    "start_time": "2021-10-10T17:20:12.787Z"
   },
   {
    "duration": 128,
    "start_time": "2021-10-10T17:20:23.201Z"
   },
   {
    "duration": 28,
    "start_time": "2021-10-10T17:20:30.597Z"
   },
   {
    "duration": 9,
    "start_time": "2021-10-10T17:20:41.394Z"
   },
   {
    "duration": 19,
    "start_time": "2021-10-10T17:20:44.774Z"
   },
   {
    "duration": 8,
    "start_time": "2021-10-10T17:22:25.231Z"
   },
   {
    "duration": 6,
    "start_time": "2021-10-10T17:25:46.567Z"
   },
   {
    "duration": 6,
    "start_time": "2021-10-10T17:25:51.038Z"
   },
   {
    "duration": 21,
    "start_time": "2021-10-10T17:30:18.446Z"
   },
   {
    "duration": 26,
    "start_time": "2021-10-10T17:30:25.487Z"
   },
   {
    "duration": 31,
    "start_time": "2021-10-10T17:30:28.020Z"
   },
   {
    "duration": 7,
    "start_time": "2021-10-10T17:33:17.242Z"
   },
   {
    "duration": 10,
    "start_time": "2021-10-10T17:33:25.228Z"
   },
   {
    "duration": 78,
    "start_time": "2021-10-10T17:34:26.548Z"
   },
   {
    "duration": 8,
    "start_time": "2021-10-10T17:34:42.638Z"
   },
   {
    "duration": 11,
    "start_time": "2021-10-10T17:35:46.336Z"
   },
   {
    "duration": 12,
    "start_time": "2021-10-10T17:37:15.240Z"
   },
   {
    "duration": 13,
    "start_time": "2021-10-10T17:37:21.904Z"
   },
   {
    "duration": 16,
    "start_time": "2021-10-10T17:38:20.458Z"
   },
   {
    "duration": 9,
    "start_time": "2021-10-10T17:40:15.088Z"
   },
   {
    "duration": 78,
    "start_time": "2021-10-10T17:56:46.379Z"
   },
   {
    "duration": 18,
    "start_time": "2021-10-10T17:57:29.288Z"
   },
   {
    "duration": 28,
    "start_time": "2021-10-10T17:58:35.114Z"
   },
   {
    "duration": 74,
    "start_time": "2021-10-10T18:04:52.295Z"
   },
   {
    "duration": 17,
    "start_time": "2021-10-10T18:49:56.446Z"
   },
   {
    "duration": 12,
    "start_time": "2021-10-10T18:50:01.991Z"
   },
   {
    "duration": 12,
    "start_time": "2021-10-10T18:50:52.253Z"
   },
   {
    "duration": 17,
    "start_time": "2021-10-10T18:51:39.674Z"
   },
   {
    "duration": 88,
    "start_time": "2021-10-10T18:57:48.984Z"
   },
   {
    "duration": 47,
    "start_time": "2021-10-10T18:57:52.840Z"
   },
   {
    "duration": 14,
    "start_time": "2021-10-10T18:57:56.987Z"
   },
   {
    "duration": 7,
    "start_time": "2021-10-10T19:04:00.732Z"
   },
   {
    "duration": 9,
    "start_time": "2021-10-10T19:04:09.494Z"
   },
   {
    "duration": 29,
    "start_time": "2021-10-10T19:04:18.625Z"
   },
   {
    "duration": 17,
    "start_time": "2021-10-10T19:04:43.964Z"
   },
   {
    "duration": 17,
    "start_time": "2021-10-10T19:33:11.080Z"
   },
   {
    "duration": 270,
    "start_time": "2021-10-10T19:33:42.080Z"
   },
   {
    "duration": 22,
    "start_time": "2021-10-10T19:41:15.462Z"
   },
   {
    "duration": 14,
    "start_time": "2021-10-10T19:48:59.828Z"
   },
   {
    "duration": 13,
    "start_time": "2021-10-10T19:49:20.131Z"
   },
   {
    "duration": 9,
    "start_time": "2021-10-10T19:49:58.407Z"
   },
   {
    "duration": 10,
    "start_time": "2021-10-10T19:50:21.427Z"
   },
   {
    "duration": 28,
    "start_time": "2021-10-10T20:03:48.275Z"
   },
   {
    "duration": 11,
    "start_time": "2021-10-10T20:04:18.928Z"
   },
   {
    "duration": 4077,
    "start_time": "2021-10-10T20:25:57.220Z"
   },
   {
    "duration": 3954,
    "start_time": "2021-10-10T20:34:21.848Z"
   },
   {
    "duration": 6425,
    "start_time": "2021-10-10T21:31:29.985Z"
   },
   {
    "duration": 6699,
    "start_time": "2021-10-10T21:32:27.079Z"
   },
   {
    "duration": 93,
    "start_time": "2021-10-10T22:12:59.017Z"
   },
   {
    "duration": 90,
    "start_time": "2021-10-10T22:17:20.972Z"
   },
   {
    "duration": 9,
    "start_time": "2021-10-10T23:50:48.504Z"
   },
   {
    "duration": 10784,
    "start_time": "2021-10-10T23:50:52.311Z"
   },
   {
    "duration": 88,
    "start_time": "2021-10-10T23:51:19.489Z"
   },
   {
    "duration": 12002,
    "start_time": "2021-10-10T23:51:35.368Z"
   },
   {
    "duration": 6118,
    "start_time": "2021-10-10T23:54:06.141Z"
   },
   {
    "duration": 5994,
    "start_time": "2021-10-10T23:54:34.577Z"
   },
   {
    "duration": 37271,
    "start_time": "2021-10-10T23:55:49.168Z"
   },
   {
    "duration": 35973,
    "start_time": "2021-10-10T23:56:30.093Z"
   },
   {
    "duration": 8,
    "start_time": "2021-10-11T00:37:43.680Z"
   },
   {
    "duration": 42,
    "start_time": "2021-10-11T00:37:52.711Z"
   },
   {
    "duration": 29,
    "start_time": "2021-10-11T00:38:24.618Z"
   },
   {
    "duration": 28,
    "start_time": "2021-10-11T00:38:31.154Z"
   },
   {
    "duration": 21,
    "start_time": "2021-10-11T00:38:50.071Z"
   },
   {
    "duration": 25,
    "start_time": "2021-10-11T00:39:14.530Z"
   },
   {
    "duration": 19,
    "start_time": "2021-10-11T00:40:38.286Z"
   },
   {
    "duration": 21,
    "start_time": "2021-10-11T00:42:36.382Z"
   },
   {
    "duration": 96,
    "start_time": "2021-10-11T00:49:04.055Z"
   },
   {
    "duration": 90,
    "start_time": "2021-10-11T13:29:45.100Z"
   },
   {
    "duration": 9,
    "start_time": "2021-10-11T13:30:01.447Z"
   },
   {
    "duration": 21,
    "start_time": "2021-10-11T13:30:03.875Z"
   },
   {
    "duration": 16,
    "start_time": "2021-10-11T13:30:08.604Z"
   },
   {
    "duration": 18,
    "start_time": "2021-10-11T13:30:13.577Z"
   },
   {
    "duration": 21,
    "start_time": "2021-10-11T13:30:21.682Z"
   },
   {
    "duration": 12,
    "start_time": "2021-10-11T13:30:38.342Z"
   },
   {
    "duration": 29,
    "start_time": "2021-10-11T13:30:42.291Z"
   },
   {
    "duration": 28,
    "start_time": "2021-10-11T13:30:44.407Z"
   },
   {
    "duration": 7,
    "start_time": "2021-10-11T13:30:49.042Z"
   },
   {
    "duration": 9,
    "start_time": "2021-10-11T13:37:03.392Z"
   },
   {
    "duration": 17,
    "start_time": "2021-10-11T13:37:05.550Z"
   },
   {
    "duration": 17,
    "start_time": "2021-10-11T13:37:13.325Z"
   },
   {
    "duration": 11,
    "start_time": "2021-10-11T13:37:15.394Z"
   },
   {
    "duration": 35,
    "start_time": "2021-10-11T13:37:17.684Z"
   },
   {
    "duration": 13,
    "start_time": "2021-10-11T13:37:22.204Z"
   },
   {
    "duration": 14,
    "start_time": "2021-10-11T13:37:24.600Z"
   },
   {
    "duration": 185,
    "start_time": "2021-10-11T13:37:30.360Z"
   },
   {
    "duration": 6,
    "start_time": "2021-10-11T13:37:36.670Z"
   },
   {
    "duration": 18,
    "start_time": "2021-10-11T13:37:39.006Z"
   },
   {
    "duration": 13,
    "start_time": "2021-10-11T13:37:41.694Z"
   },
   {
    "duration": 67,
    "start_time": "2021-10-11T13:37:55.898Z"
   },
   {
    "duration": 7,
    "start_time": "2021-10-11T13:38:05.672Z"
   },
   {
    "duration": 7,
    "start_time": "2021-10-11T22:24:44.873Z"
   },
   {
    "duration": 8,
    "start_time": "2021-10-12T00:30:50.766Z"
   },
   {
    "duration": 75,
    "start_time": "2021-10-12T01:32:21.629Z"
   },
   {
    "duration": 7225,
    "start_time": "2021-10-12T01:32:35.754Z"
   },
   {
    "duration": 6841,
    "start_time": "2021-10-12T01:33:06.557Z"
   },
   {
    "duration": 6137,
    "start_time": "2021-10-12T01:34:14.454Z"
   },
   {
    "duration": 5856,
    "start_time": "2021-10-12T01:43:09.098Z"
   },
   {
    "duration": 5812,
    "start_time": "2021-10-12T01:43:46.053Z"
   },
   {
    "duration": 6,
    "start_time": "2021-10-12T01:56:20.052Z"
   },
   {
    "duration": 5,
    "start_time": "2021-10-12T01:56:43.372Z"
   },
   {
    "duration": 9575,
    "start_time": "2021-10-12T01:59:33.286Z"
   },
   {
    "duration": 10301,
    "start_time": "2021-10-12T02:00:39.669Z"
   },
   {
    "duration": 8,
    "start_time": "2021-10-12T02:00:59.499Z"
   },
   {
    "duration": 8,
    "start_time": "2021-10-12T02:04:14.890Z"
   },
   {
    "duration": 10670,
    "start_time": "2021-10-12T02:06:36.365Z"
   },
   {
    "duration": 35435,
    "start_time": "2021-10-12T02:10:23.046Z"
   },
   {
    "duration": 8,
    "start_time": "2021-10-12T02:12:11.921Z"
   },
   {
    "duration": 22,
    "start_time": "2021-10-12T02:12:21.035Z"
   },
   {
    "duration": 1852,
    "start_time": "2021-10-12T02:12:41.432Z"
   },
   {
    "duration": 58,
    "start_time": "2021-10-12T02:12:43.286Z"
   },
   {
    "duration": 14,
    "start_time": "2021-10-12T02:12:43.347Z"
   },
   {
    "duration": 170,
    "start_time": "2021-10-12T02:12:43.364Z"
   },
   {
    "duration": 28,
    "start_time": "2021-10-12T02:12:43.537Z"
   },
   {
    "duration": 6,
    "start_time": "2021-10-12T02:12:43.568Z"
   },
   {
    "duration": 53,
    "start_time": "2021-10-12T02:12:43.577Z"
   },
   {
    "duration": 27,
    "start_time": "2021-10-12T02:12:43.634Z"
   },
   {
    "duration": 15,
    "start_time": "2021-10-12T02:12:43.663Z"
   },
   {
    "duration": 51,
    "start_time": "2021-10-12T02:12:43.680Z"
   },
   {
    "duration": 26,
    "start_time": "2021-10-12T02:12:43.733Z"
   },
   {
    "duration": 15,
    "start_time": "2021-10-12T02:12:43.762Z"
   },
   {
    "duration": 74,
    "start_time": "2021-10-12T02:12:43.780Z"
   },
   {
    "duration": 68,
    "start_time": "2021-10-12T02:12:43.857Z"
   },
   {
    "duration": 8,
    "start_time": "2021-10-12T02:12:43.928Z"
   },
   {
    "duration": 25,
    "start_time": "2021-10-12T02:12:43.939Z"
   },
   {
    "duration": 12,
    "start_time": "2021-10-12T02:12:43.967Z"
   },
   {
    "duration": 26,
    "start_time": "2021-10-12T02:12:43.982Z"
   },
   {
    "duration": 17,
    "start_time": "2021-10-12T02:12:44.011Z"
   },
   {
    "duration": 19,
    "start_time": "2021-10-12T02:12:44.030Z"
   },
   {
    "duration": 13,
    "start_time": "2021-10-12T02:12:44.051Z"
   },
   {
    "duration": 14,
    "start_time": "2021-10-12T02:12:44.066Z"
   },
   {
    "duration": 197,
    "start_time": "2021-10-12T02:12:44.084Z"
   },
   {
    "duration": 6,
    "start_time": "2021-10-12T02:12:44.284Z"
   },
   {
    "duration": 17,
    "start_time": "2021-10-12T02:12:44.293Z"
   },
   {
    "duration": 16,
    "start_time": "2021-10-12T02:12:44.313Z"
   },
   {
    "duration": 67,
    "start_time": "2021-10-12T02:12:44.332Z"
   },
   {
    "duration": 7,
    "start_time": "2021-10-12T02:12:44.402Z"
   },
   {
    "duration": 14,
    "start_time": "2021-10-12T02:12:44.411Z"
   },
   {
    "duration": 34623,
    "start_time": "2021-10-12T02:12:44.427Z"
   },
   {
    "duration": 8,
    "start_time": "2021-10-12T02:13:19.053Z"
   },
   {
    "duration": 22,
    "start_time": "2021-10-12T02:13:19.063Z"
   },
   {
    "duration": 45,
    "start_time": "2021-10-12T02:13:19.087Z"
   },
   {
    "duration": 31,
    "start_time": "2021-10-12T02:13:19.134Z"
   },
   {
    "duration": 21,
    "start_time": "2021-10-12T02:13:19.167Z"
   },
   {
    "duration": 21,
    "start_time": "2021-10-12T02:13:19.222Z"
   },
   {
    "duration": 20,
    "start_time": "2021-10-12T02:13:19.246Z"
   },
   {
    "duration": 54,
    "start_time": "2021-10-12T02:13:19.268Z"
   },
   {
    "duration": 831,
    "start_time": "2021-10-12T16:38:41.740Z"
   },
   {
    "duration": 61,
    "start_time": "2021-10-12T16:38:42.573Z"
   },
   {
    "duration": 16,
    "start_time": "2021-10-12T16:38:42.638Z"
   },
   {
    "duration": 174,
    "start_time": "2021-10-12T16:38:42.658Z"
   },
   {
    "duration": 33,
    "start_time": "2021-10-12T16:38:42.840Z"
   },
   {
    "duration": 6,
    "start_time": "2021-10-12T16:38:42.875Z"
   },
   {
    "duration": 48,
    "start_time": "2021-10-12T16:38:42.883Z"
   },
   {
    "duration": 21,
    "start_time": "2021-10-12T16:38:42.937Z"
   },
   {
    "duration": 15,
    "start_time": "2021-10-12T16:38:42.960Z"
   },
   {
    "duration": 54,
    "start_time": "2021-10-12T16:38:42.977Z"
   },
   {
    "duration": 27,
    "start_time": "2021-10-12T16:38:43.033Z"
   },
   {
    "duration": 12,
    "start_time": "2021-10-12T16:38:43.063Z"
   },
   {
    "duration": 64,
    "start_time": "2021-10-12T16:38:43.078Z"
   },
   {
    "duration": 27,
    "start_time": "2021-10-12T16:38:43.144Z"
   },
   {
    "duration": 7,
    "start_time": "2021-10-12T16:38:43.174Z"
   },
   {
    "duration": 57,
    "start_time": "2021-10-12T16:38:43.183Z"
   },
   {
    "duration": 11,
    "start_time": "2021-10-12T16:38:43.244Z"
   },
   {
    "duration": 59,
    "start_time": "2021-10-12T16:38:43.257Z"
   },
   {
    "duration": 32,
    "start_time": "2021-10-12T16:38:43.318Z"
   },
   {
    "duration": 23,
    "start_time": "2021-10-12T16:38:43.353Z"
   },
   {
    "duration": 26,
    "start_time": "2021-10-12T16:38:43.379Z"
   },
   {
    "duration": 22,
    "start_time": "2021-10-12T16:38:43.407Z"
   },
   {
    "duration": 213,
    "start_time": "2021-10-12T16:38:43.440Z"
   },
   {
    "duration": 7,
    "start_time": "2021-10-12T16:38:43.657Z"
   },
   {
    "duration": 28,
    "start_time": "2021-10-12T16:38:43.667Z"
   },
   {
    "duration": 35,
    "start_time": "2021-10-12T16:38:43.698Z"
   },
   {
    "duration": 69,
    "start_time": "2021-10-12T16:38:43.736Z"
   },
   {
    "duration": 26,
    "start_time": "2021-10-12T16:38:43.807Z"
   },
   {
    "duration": 36874,
    "start_time": "2021-10-12T16:38:43.836Z"
   },
   {
    "duration": 13,
    "start_time": "2021-10-12T16:39:20.713Z"
   },
   {
    "duration": 43,
    "start_time": "2021-10-12T16:39:20.731Z"
   },
   {
    "duration": 24,
    "start_time": "2021-10-12T16:39:20.777Z"
   },
   {
    "duration": 25,
    "start_time": "2021-10-12T16:39:20.804Z"
   },
   {
    "duration": 41,
    "start_time": "2021-10-12T16:39:20.832Z"
   },
   {
    "duration": 20,
    "start_time": "2021-10-12T16:39:20.876Z"
   },
   {
    "duration": 49,
    "start_time": "2021-10-12T16:39:20.898Z"
   },
   {
    "duration": 22,
    "start_time": "2021-10-12T16:39:20.950Z"
   },
   {
    "duration": 53,
    "start_time": "2021-10-12T16:39:20.975Z"
   },
   {
    "duration": 5693,
    "start_time": "2021-11-01T16:13:48.523Z"
   },
   {
    "duration": 70,
    "start_time": "2021-11-01T16:35:55.923Z"
   }
  ],
  "kernelspec": {
   "display_name": "Python 3",
   "language": "python",
   "name": "python3"
  },
  "language_info": {
   "codemirror_mode": {
    "name": "ipython",
    "version": 3
   },
   "file_extension": ".py",
   "mimetype": "text/x-python",
   "name": "python",
   "nbconvert_exporter": "python",
   "pygments_lexer": "ipython3",
   "version": "3.8.8"
  },
  "toc": {
   "base_numbering": 1,
   "nav_menu": {
    "height": "371px",
    "width": "360px"
   },
   "number_sections": false,
   "sideBar": true,
   "skip_h1_title": true,
   "title_cell": "Содержание",
   "title_sidebar": "Содержание",
   "toc_cell": true,
   "toc_position": {
    "height": "calc(100% - 180px)",
    "left": "10px",
    "top": "150px",
    "width": "366.391px"
   },
   "toc_section_display": true,
   "toc_window_display": true
  },
  "varInspector": {
   "cols": {
    "lenName": 16,
    "lenType": 16,
    "lenVar": 40
   },
   "kernels_config": {
    "python": {
     "delete_cmd_postfix": "",
     "delete_cmd_prefix": "del ",
     "library": "var_list.py",
     "varRefreshCmd": "print(var_dic_list())"
    },
    "r": {
     "delete_cmd_postfix": ") ",
     "delete_cmd_prefix": "rm(",
     "library": "var_list.r",
     "varRefreshCmd": "cat(var_dic_list()) "
    }
   },
   "types_to_exclude": [
    "module",
    "function",
    "builtin_function_or_method",
    "instance",
    "_Feature"
   ],
   "window_display": false
  }
 },
 "nbformat": 4,
 "nbformat_minor": 2
}
